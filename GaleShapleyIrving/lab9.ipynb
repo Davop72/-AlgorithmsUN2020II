{
  "nbformat": 4,
  "nbformat_minor": 0,
  "metadata": {
    "colab": {
      "name": "lab9",
      "provenance": [],
      "collapsed_sections": []
    },
    "kernelspec": {
      "name": "python3",
      "display_name": "Python 3"
    }
  },
  "cells": [
    {
      "cell_type": "markdown",
      "metadata": {
        "id": "4Jqrj63zU5k9"
      },
      "source": [
        "*David Sneider Ovalle Pineda /*\n",
        "*Algoritmos /*\n",
        "*Laboratorio* *9* "
      ]
    },
    {
      "cell_type": "markdown",
      "metadata": {
        "id": "5hyBQXaNWDeW"
      },
      "source": [
        "Code THE STABLE ROOMATES PROBLEM of Irving\n",
        "http://www.dcs.gla.ac.uk/~pat/jchoco/roommates/papers/Comp_sdarticle.pdf\n",
        "Pero no compila correctamente\n"
      ]
    },
    {
      "cell_type": "code",
      "metadata": {
        "id": "lpgR4P9QV9-3"
      },
      "source": [
        "{\n",
        "\n",
        "                            Online Pascal Compiler.\n",
        "                Code, Compile, Run and Debug Pascal program online.\n",
        "Write your code in this editor and press \"Run\" button to execute it.\n",
        "\n",
        "}\n",
        "\n",
        "program SR;\n",
        "const SIZE = 91; {FOR PROBLEM INSTANCES OF SIZE < = 90,\n",
        "ALLOWING FOR SENTINELS}\n",
        "type person_type = 0..SIZE; rank_type = 0..SIZE;\n",
        "    matrix = array[person_type,rank_type] of person_type;\n",
        "    vector = array[person_type] of person_type;\n",
        "    set_type = set of person_type;\n",
        "procedure room_mates(var preference : matrix; n : integer;var partner : vector; var soln_found : boolean);\n",
        "var ranking : array[person_type,person_type] of rank_type;\n",
        "    leftmost,second,rightmost : array[person_type] of rank_type;\n",
        "    cycle : array[rank_type] of person_type;\n",
        "    person,first_unmatched : person_type;\n",
        "    rank,first_in_cycle,last_in_cycle : rank_type;\n",
        "    soln_possible : boolean;\n",
        "    tail : set_type;\n",
        "    \n",
        "procedure phase_1_reduce(var soln_possible : boolean);\n",
        "var set_proposed_to : set_type;\n",
        "    person,proposer,next_choice,current : person_type; \n",
        "begin\n",
        "    set_proposed_to := [];\n",
        "    for person := 1 to n do\n",
        "    begin\n",
        "        proposer := person;\n",
        "        repeat\n",
        "            next_choice := preference[proposer,leftmost[proposer]];\n",
        "            {BEST POTENTIAL PARTNER}\n",
        "            current := preference[next_choice,rightmost[next_choice]];\n",
        "            {NEXT_CHOICE HOLDS CURRENT}\n",
        "            while ranking[next_choice,proposer] > ranking[next_choice,current]\n",
        "            do\n",
        "            begin {PROPOSER IS REJECTED BY NEXT_CHOICE}\n",
        "                leftmost[proposer] := leftmost[proposer] + 1;\n",
        "                next_choice := preference[proposer,leftmost[proposer]];\n",
        "                current := preference[next_choice,rightmost[next_choice]]\n",
        "            end;\n",
        "            rightmost[next_choice] := ranking[next_choice,proposer];\n",
        "            {NEXT_CHOICE HOLDS PROPOSER}\n",
        "            proposer := current\n",
        "            {AND REJECTS CURRENT}\n",
        "        until not (next_choice in set_proposed_to);\n",
        "        set_proposed_to := set_proposed_to + [next_choice]\n",
        "    end;\n",
        "    soln_possible := proposer = next_choice\n",
        "end; {phase_l_reduce}\n",
        "\n",
        "procedure find(var first_unmatched : person_type);\n",
        "begin {FINDS FIRST PERSON WITH > 1 POTENTIAL PARTNER}\n",
        "    while leftmost[first_unmatched] = rightmost[first_unmatched] do\n",
        "    begin\n",
        "        first_unmatched := first_unmatched + 1\n",
        "    end; {find}\n",
        "end;\n",
        "procedure seek_cycle(var first_in_cycle,last_in_cycle : rank_type;first_unmatched : person_type; var tail : set_type);\n",
        "var cycle_set : set_type;\n",
        "    person,next_choice : person_type;\n",
        "    posn_in_cycle,pos_in_list : rank_type;\n",
        "begin\n",
        "    if first_in_cycle > 1 then \n",
        "        begin\n",
        "        person := cycle[first_in_cycle-1]; {LAST PERSON IN\n",
        "PREVIOUS TAIL}\n",
        "        posn_in_cycle := first_in_cycle-1; {HIS SECOND CHOICE MAY\n",
        "        HAVE TO BE UPDATED}\n",
        "        cycle_set := tail\n",
        "    end\n",
        "    else \n",
        "        begin\n",
        "            cycle_set := [];\n",
        "            posn_in_cycle := 1;\n",
        "            person := first_unmatched\n",
        "    end;\n",
        "repeat {GENERATE SEQUENCE}\n",
        "    cycle_set := cycle_set + [person];\n",
        "    cycle[posn_in_cycle] := person;\n",
        "    posn_in_cycle := posn_in_cycle + 1;\n",
        "    pos_in_list := second[person];\n",
        "    repeat {UPDATE SECOND CHOICE FOR CURRENT PERSON}\n",
        "        next_choice := preference[person,pos_in_list];\n",
        "        pos_in_list := pos_in_list + 1\n",
        "    until ranking[next_choice,person] <= rightmost[next_choice];\n",
        "    second[person] := pos_in_list-1;\n",
        "    person := preference[next_choice,rightmost[next_choice]]\n",
        "until person in cycle_set; {SEQUENCE STARTS TO CYCLE}\n",
        "last_in_cycle := posn_in_cycle-1;\n",
        "tail := cycle_set;\n",
        "repeat {WORK BACK TO BEGINNING OF CYCLE}\n",
        "    posn_in_cycle := posn_in_cycle-1;\n",
        "    tail := tail-[cycle[posn_in_cycle]]\n",
        "until cycle[posn_in_cycle] = person;\n",
        "first_in_cycle := posn_in_cycle\n",
        "end; {seek_cycle}\n",
        "\n",
        "procedure phase_2_reduce(first_in_cycle,last_in_cycle : rank_type; var soln_possible : boolean);\n",
        "var proposer,next_choice : person_type;\n",
        "    rank : rank_type;\n",
        "begin\n",
        "    for rank := first_in_cycle to last_in_cycle do\n",
        "    begin {ALLOW NEXT PERSON IN CYCLE TO BE REJECTED}\n",
        "        proposer := cycle[rank];\n",
        "        leftmost[proposer] := second[proposer];\n",
        "        second[proposer] := leftmost[proposer] + 1; {PROPER UPDATE\n",
        "        UNNECESSARY AT THIS STAGE}\n",
        "        next_choice := preference[proposer,leftmost[proposer]]; \n",
        "        rightmost[next_choice] := ranking[next_choice,proposer]\n",
        "        {NEXT_CHOICE HOLDS PROPOSER}\n",
        "    end;\n",
        "    rank := first_in_cycle;\n",
        "    while (rank <= last_in_cycle) and soln_possible do\n",
        "    begin {CHECK NO_ONE HAS RUN OUT\n",
        "    OF POTENTIAL PARTNERS}\n",
        "        proposer := cycle[rank];\n",
        "        soln_possible := leftmost[proposer] <= rightmost[proposer];\n",
        "        rank:=rank+1\n",
        "    end\n",
        "end; { phaseZ_reduce}\n",
        "\n",
        "begin\n",
        "    soln_found := false;\n",
        "    first_unmatched := 1;\n",
        "    first_in_cycle := 1;\n",
        "    for person := 1 to n do\n",
        "    begin\n",
        "        preference[person,n] := person; {SENTINEL}\n",
        "        for rank := 1 to n do\n",
        "            ranking[person,preference[person,rank]] := rank;\n",
        "        leftmost[person] := 1;\n",
        "        rightmost[person] := n\n",
        "    end;\n",
        "    leftmost[n + 1] := 1; rightmost[n + 1] := n; {SENTINELS FOR\n",
        "    PROCEDURE FIND}\n",
        "    phase_1_reduce(soln_possible);\n",
        "    for person := 1 to n do\n",
        "        second[person] := leftmost[person] + 1; {PROPER INITIALISATION UNNECESSARY}\n",
        "    while soln_possible and not soln_found do\n",
        "    begin\n",
        "        find(first_unmatched);\n",
        "        if first_unmatched > n\n",
        "        then soln_found := true\n",
        "        else begin\n",
        "            seek_cycle(first_in_cycle,last_in_cycle,first_unmatched,tail);\n",
        "            phase_2_reduce(first_in_cycle,last_in_cycle,soln_possible)\n",
        "        end\n",
        "    end;\n",
        "    if soln_found \n",
        "    then for person := 1 to n do\n",
        "            partner[person] := preference[person,leftmost[person]]\n",
        "end; {roommates} \n"
      ],
      "execution_count": null,
      "outputs": []
    },
    {
      "cell_type": "code",
      "metadata": {
        "colab": {
          "base_uri": "https://localhost:8080/"
        },
        "id": "grhHchI8J11B",
        "outputId": "06e87860-1b07-4325-c0c6-cc07a6670fef"
      },
      "source": [
        "from matching import Player\n",
        "\n",
        "suitors = [\n",
        "    Player(name=\"uno\"),\n",
        "    Player(name=\"dos\"),\n",
        "    Player(name=\"tres\"),\n",
        "    Player(name=\"cuatro\"),\n",
        "    Player(name=\"cinco\"),\n",
        "]\n",
        "\n",
        "reviewers = [\n",
        "    Player(name=\"A\"),\n",
        "    Player(name=\"B\"),\n",
        "    Player(name=\"C\"),\n",
        "    Player(name=\"D\"),\n",
        "    Player(name=\"E\")\n",
        "]\n",
        "print (suitors)\n",
        "uno, dos, tres, cuatro, cinco = suitors\n",
        "for i in suitors: \n",
        "  print (i)\n",
        "A, B, C, D, E = reviewers\n",
        "\n",
        "uno.set_prefs([C,B,E,A,D])\n",
        "dos.set_prefs([A,B,E,C,D])\n",
        "tres.set_prefs([D,C,B,A,E])\n",
        "cuatro.set_prefs([A,C,D,B,E])\n",
        "cinco.set_prefs([A,B,D,E,C])\n",
        "\n",
        "A.set_prefs([tres,cinco,dos,uno,cuatro])\n",
        "B.set_prefs([cinco,dos,uno,cuatro,tres])\n",
        "C.set_prefs([cuatro,tres,cinco,uno,dos])\n",
        "D.set_prefs([uno,dos,tres,cuatro,cinco])\n",
        "E.set_prefs([dos,tres,cuatro,uno,cinco])\n",
        "\n",
        "from matching.games import StableMarriage\n",
        "\n",
        "game = StableMarriage(suitors, reviewers)\n",
        "game.solve()"
      ],
      "execution_count": null,
      "outputs": [
        {
          "output_type": "stream",
          "text": [
            "[uno, dos, tres, cuatro, cinco]\n",
            "uno\n",
            "dos\n",
            "tres\n",
            "cuatro\n",
            "cinco\n"
          ],
          "name": "stdout"
        },
        {
          "output_type": "execute_result",
          "data": {
            "text/plain": [
              "{uno: E, dos: B, tres: D, cuatro: C, cinco: A}"
            ]
          },
          "metadata": {
            "tags": []
          },
          "execution_count": 55
        }
      ]
    },
    {
      "cell_type": "code",
      "metadata": {
        "colab": {
          "base_uri": "https://localhost:8080/"
        },
        "id": "pVArqv4iQgKQ",
        "outputId": "c5262d85-ea9a-48f5-87a0-a5881376a9d4"
      },
      "source": [
        "from matching import Player\n",
        "\n",
        "students = [\n",
        "    Player(name=\"uno\"),\n",
        "    Player(name=\"dos\"),\n",
        "    Player(name=\"tres\"),\n",
        "    Player(name=\"cuatro\"),\n",
        "    Player(name=\"cinco\"),\n",
        "]\n",
        "\n",
        "uno, dos, tres, cuatro, cinco = students\n",
        "\n",
        "uno.set_prefs([tres,cinco,dos,cuatro])\n",
        "dos.set_prefs([cinco,uno,cuatro,tres])\n",
        "tres.set_prefs([cuatro,cinco,uno,dos])\n",
        "cuatro.set_prefs([uno,dos,tres,cinco])\n",
        "cinco.set_prefs([dos,tres,cuatro,uno])\n",
        "\n",
        "from matching.games import StableRoommates\n",
        "\n",
        "game = StableRoommates(students)\n",
        "game.solve()"
      ],
      "execution_count": null,
      "outputs": [
        {
          "output_type": "stream",
          "text": [
            "/usr/local/lib/python3.6/dist-packages/matching/algorithms/stable_roommates.py:101: NoStableMatchingWarning: The following players have emptied their preference list: [uno, tres, cuatro]\n",
            "  \"The following players have emptied their preference list: \"\n"
          ],
          "name": "stderr"
        },
        {
          "output_type": "execute_result",
          "data": {
            "text/plain": [
              "{uno: None, dos: cinco, tres: None, cuatro: None, cinco: dos}"
            ]
          },
          "metadata": {
            "tags": []
          },
          "execution_count": 72
        }
      ]
    }
  ]
}