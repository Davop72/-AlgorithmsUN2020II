{
  "nbformat": 4,
  "nbformat_minor": 0,
  "metadata": {
    "colab": {
      "name": "Lab9.ipynb",
      "provenance": [],
      "collapsed_sections": [
        "cNcDRP--lEdg",
        "Ko8jcyK4tA8g",
        "8JiPLXWG00yA",
        "1Irza3aAtyoZ"
      ]
    },
    "kernelspec": {
      "name": "python3",
      "display_name": "Python 3"
    }
  },
  "cells": [
    {
      "cell_type": "markdown",
      "metadata": {
        "id": "aa3YUh93FXyz"
      },
      "source": [
        "*David Sneider Ovalle Pineda /*\n",
        "*Algoritmos /*\n",
        "*Laboratorio* *9* "
      ]
    },
    {
      "cell_type": "markdown",
      "metadata": {
        "id": "5hyBQXaNWDeW"
      },
      "source": [
        "Code THE STABLE ROOMATES PROBLEM of Irving\n",
        "http://www.dcs.gla.ac.uk/~pat/jchoco/roommates/papers/Comp_sdarticle.pdf\n",
        "Este es el codigo del libro pero no me compilo correctamente en compiladores de pascal. Busque varias formas para resolver los ejercicios\n"
      ]
    },
    {
      "cell_type": "code",
      "metadata": {
        "id": "lpgR4P9QV9-3"
      },
      "source": [
        "{\n",
        "\n",
        "                            Online Pascal Compiler.\n",
        "                Code, Compile, Run and Debug Pascal program online.\n",
        "Write your code in this editor and press \"Run\" button to execute it.\n",
        "\n",
        "}\n",
        "\n",
        "program SR;\n",
        "const SIZE = 91; {FOR PROBLEM INSTANCES OF SIZE < = 90,\n",
        "ALLOWING FOR SENTINELS}\n",
        "type person_type = 0..SIZE; rank_type = 0..SIZE;\n",
        "    matrix = array[person_type,rank_type] of person_type;\n",
        "    vector = array[person_type] of person_type;\n",
        "    set_type = set of person_type;\n",
        "procedure room_mates(var preference : matrix; n : integer;var partner : vector; var soln_found : boolean);\n",
        "var ranking : array[person_type,person_type] of rank_type;\n",
        "    leftmost,second,rightmost : array[person_type] of rank_type;\n",
        "    cycle : array[rank_type] of person_type;\n",
        "    person,first_unmatched : person_type;\n",
        "    rank,first_in_cycle,last_in_cycle : rank_type;\n",
        "    soln_possible : boolean;\n",
        "    tail : set_type;\n",
        "    \n",
        "procedure phase_1_reduce(var soln_possible : boolean);\n",
        "var set_proposed_to : set_type;\n",
        "    person,proposer,next_choice,current : person_type; \n",
        "begin\n",
        "    set_proposed_to := [];\n",
        "    for person := 1 to n do\n",
        "    begin\n",
        "        proposer := person;\n",
        "        repeat\n",
        "            next_choice := preference[proposer,leftmost[proposer]];\n",
        "            {BEST POTENTIAL PARTNER}\n",
        "            current := preference[next_choice,rightmost[next_choice]];\n",
        "            {NEXT_CHOICE HOLDS CURRENT}\n",
        "            while ranking[next_choice,proposer] > ranking[next_choice,current]\n",
        "            do\n",
        "            begin {PROPOSER IS REJECTED BY NEXT_CHOICE}\n",
        "                leftmost[proposer] := leftmost[proposer] + 1;\n",
        "                next_choice := preference[proposer,leftmost[proposer]];\n",
        "                current := preference[next_choice,rightmost[next_choice]]\n",
        "            end;\n",
        "            rightmost[next_choice] := ranking[next_choice,proposer];\n",
        "            {NEXT_CHOICE HOLDS PROPOSER}\n",
        "            proposer := current\n",
        "            {AND REJECTS CURRENT}\n",
        "        until not (next_choice in set_proposed_to);\n",
        "        set_proposed_to := set_proposed_to + [next_choice]\n",
        "    end;\n",
        "    soln_possible := proposer = next_choice\n",
        "end; {phase_l_reduce}\n",
        "\n",
        "procedure find(var first_unmatched : person_type);\n",
        "begin {FINDS FIRST PERSON WITH > 1 POTENTIAL PARTNER}\n",
        "    while leftmost[first_unmatched] = rightmost[first_unmatched] do\n",
        "    begin\n",
        "        first_unmatched := first_unmatched + 1\n",
        "    end; {find}\n",
        "end;\n",
        "procedure seek_cycle(var first_in_cycle,last_in_cycle : rank_type;first_unmatched : person_type; var tail : set_type);\n",
        "var cycle_set : set_type;\n",
        "    person,next_choice : person_type;\n",
        "    posn_in_cycle,pos_in_list : rank_type;\n",
        "begin\n",
        "    if first_in_cycle > 1 then \n",
        "        begin\n",
        "        person := cycle[first_in_cycle-1]; {LAST PERSON IN\n",
        "PREVIOUS TAIL}\n",
        "        posn_in_cycle := first_in_cycle-1; {HIS SECOND CHOICE MAY\n",
        "        HAVE TO BE UPDATED}\n",
        "        cycle_set := tail\n",
        "    end\n",
        "    else \n",
        "        begin\n",
        "            cycle_set := [];\n",
        "            posn_in_cycle := 1;\n",
        "            person := first_unmatched\n",
        "    end;\n",
        "repeat {GENERATE SEQUENCE}\n",
        "    cycle_set := cycle_set + [person];\n",
        "    cycle[posn_in_cycle] := person;\n",
        "    posn_in_cycle := posn_in_cycle + 1;\n",
        "    pos_in_list := second[person];\n",
        "    repeat {UPDATE SECOND CHOICE FOR CURRENT PERSON}\n",
        "        next_choice := preference[person,pos_in_list];\n",
        "        pos_in_list := pos_in_list + 1\n",
        "    until ranking[next_choice,person] <= rightmost[next_choice];\n",
        "    second[person] := pos_in_list-1;\n",
        "    person := preference[next_choice,rightmost[next_choice]]\n",
        "until person in cycle_set; {SEQUENCE STARTS TO CYCLE}\n",
        "last_in_cycle := posn_in_cycle-1;\n",
        "tail := cycle_set;\n",
        "repeat {WORK BACK TO BEGINNING OF CYCLE}\n",
        "    posn_in_cycle := posn_in_cycle-1;\n",
        "    tail := tail-[cycle[posn_in_cycle]]\n",
        "until cycle[posn_in_cycle] = person;\n",
        "first_in_cycle := posn_in_cycle\n",
        "end; {seek_cycle}\n",
        "\n",
        "procedure phase_2_reduce(first_in_cycle,last_in_cycle : rank_type; var soln_possible : boolean);\n",
        "var proposer,next_choice : person_type;\n",
        "    rank : rank_type;\n",
        "begin\n",
        "    for rank := first_in_cycle to last_in_cycle do\n",
        "    begin {ALLOW NEXT PERSON IN CYCLE TO BE REJECTED}\n",
        "        proposer := cycle[rank];\n",
        "        leftmost[proposer] := second[proposer];\n",
        "        second[proposer] := leftmost[proposer] + 1; {PROPER UPDATE\n",
        "        UNNECESSARY AT THIS STAGE}\n",
        "        next_choice := preference[proposer,leftmost[proposer]]; \n",
        "        rightmost[next_choice] := ranking[next_choice,proposer]\n",
        "        {NEXT_CHOICE HOLDS PROPOSER}\n",
        "    end;\n",
        "    rank := first_in_cycle;\n",
        "    while (rank <= last_in_cycle) and soln_possible do\n",
        "    begin {CHECK NO_ONE HAS RUN OUT\n",
        "    OF POTENTIAL PARTNERS}\n",
        "        proposer := cycle[rank];\n",
        "        soln_possible := leftmost[proposer] <= rightmost[proposer];\n",
        "        rank:=rank+1\n",
        "    end\n",
        "end; { phaseZ_reduce}\n",
        "\n",
        "begin\n",
        "    soln_found := false;\n",
        "    first_unmatched := 1;\n",
        "    first_in_cycle := 1;\n",
        "    for person := 1 to n do\n",
        "    begin\n",
        "        preference[person,n] := person; {SENTINEL}\n",
        "        for rank := 1 to n do\n",
        "            ranking[person,preference[person,rank]] := rank;\n",
        "        leftmost[person] := 1;\n",
        "        rightmost[person] := n\n",
        "    end;\n",
        "    leftmost[n + 1] := 1; rightmost[n + 1] := n; {SENTINELS FOR\n",
        "    PROCEDURE FIND}\n",
        "    phase_1_reduce(soln_possible);\n",
        "    for person := 1 to n do\n",
        "        second[person] := leftmost[person] + 1; {PROPER INITIALISATION UNNECESSARY}\n",
        "    while soln_possible and not soln_found do\n",
        "    begin\n",
        "        find(first_unmatched);\n",
        "        if first_unmatched > n\n",
        "        then soln_found := true\n",
        "        else begin\n",
        "            seek_cycle(first_in_cycle,last_in_cycle,first_unmatched,tail);\n",
        "            phase_2_reduce(first_in_cycle,last_in_cycle,soln_possible)\n",
        "        end\n",
        "    end;\n",
        "    if soln_found \n",
        "    then for person := 1 to n do\n",
        "            partner[person] := preference[person,leftmost[person]]\n",
        "end; {roommates} \n"
      ],
      "execution_count": null,
      "outputs": []
    },
    {
      "cell_type": "code",
      "metadata": {
        "colab": {
          "base_uri": "https://localhost:8080/"
        },
        "id": "grhHchI8J11B",
        "outputId": "447a3527-53ec-4a68-f940-b7853ad1d18e"
      },
      "source": [
        "from matching import Player\n",
        "\n",
        "suitors = [\n",
        "    Player(name=\"uno\"),\n",
        "    Player(name=\"dos\"),\n",
        "    Player(name=\"tres\"),\n",
        "    Player(name=\"cuatro\"),\n",
        "    Player(name=\"cinco\"),\n",
        "]\n",
        "\n",
        "reviewers = [\n",
        "    Player(name=\"A\"),\n",
        "    Player(name=\"B\"),\n",
        "    Player(name=\"C\"),\n",
        "    Player(name=\"D\"),\n",
        "    Player(name=\"E\")\n",
        "]\n",
        "print (suitors)\n",
        "uno, dos, tres, cuatro, cinco = suitors\n",
        "for i in suitors: \n",
        "  print (i)\n",
        "A, B, C, D, E = reviewers\n",
        "\n",
        "uno.set_prefs([C,B,E,A,D])\n",
        "dos.set_prefs([A,B,E,C,D])\n",
        "tres.set_prefs([D,C,B,A,E])\n",
        "cuatro.set_prefs([A,C,D,B,E])\n",
        "cinco.set_prefs([A,B,D,E,C])\n",
        "\n",
        "A.set_prefs([tres,cinco,dos,uno,cuatro])\n",
        "B.set_prefs([cinco,dos,uno,cuatro,tres])\n",
        "C.set_prefs([cuatro,tres,cinco,uno,dos])\n",
        "D.set_prefs([uno,dos,tres,cuatro,cinco])\n",
        "E.set_prefs([dos,tres,cuatro,uno,cinco])\n",
        "\n",
        "from matching.games import StableMarriage\n",
        "\n",
        "game = StableMarriage(suitors, reviewers)\n",
        "game.solve()"
      ],
      "execution_count": 37,
      "outputs": [
        {
          "output_type": "stream",
          "text": [
            "[uno, dos, tres, cuatro, cinco]\n",
            "uno\n",
            "dos\n",
            "tres\n",
            "cuatro\n",
            "cinco\n"
          ],
          "name": "stdout"
        },
        {
          "output_type": "execute_result",
          "data": {
            "text/plain": [
              "{uno: E, dos: B, tres: D, cuatro: C, cinco: A}"
            ]
          },
          "metadata": {
            "tags": []
          },
          "execution_count": 37
        }
      ]
    },
    {
      "cell_type": "code",
      "metadata": {
        "colab": {
          "base_uri": "https://localhost:8080/"
        },
        "id": "pVArqv4iQgKQ",
        "outputId": "1b6034b5-bdcf-468f-f0f5-3327ee094ef8"
      },
      "source": [
        "from matching import Player\n",
        "\n",
        "students = [\n",
        "    Player(name=\"uno\"),\n",
        "    Player(name=\"dos\"),\n",
        "    Player(name=\"tres\"),\n",
        "    Player(name=\"cuatro\"),\n",
        "    Player(name=\"cinco\"),\n",
        "]\n",
        "\n",
        "uno, dos, tres, cuatro, cinco = students\n",
        "\n",
        "uno.set_prefs([tres,cinco,dos,cuatro])\n",
        "dos.set_prefs([cinco,uno,cuatro,tres])\n",
        "tres.set_prefs([cuatro,cinco,uno,dos])\n",
        "cuatro.set_prefs([uno,dos,tres,cinco])\n",
        "cinco.set_prefs([dos,tres,cuatro,uno])\n",
        "\n",
        "from matching.games import StableRoommates\n",
        "\n",
        "game = StableRoommates(students)\n",
        "game.solve()"
      ],
      "execution_count": 36,
      "outputs": [
        {
          "output_type": "stream",
          "text": [
            "/usr/local/lib/python3.6/dist-packages/matching/algorithms/stable_roommates.py:101: NoStableMatchingWarning: The following players have emptied their preference list: [uno, tres, cuatro]\n",
            "  \"The following players have emptied their preference list: \"\n"
          ],
          "name": "stderr"
        },
        {
          "output_type": "execute_result",
          "data": {
            "text/plain": [
              "{uno: None, dos: cinco, tres: None, cuatro: None, cinco: dos}"
            ]
          },
          "metadata": {
            "tags": []
          },
          "execution_count": 36
        }
      ]
    },
    {
      "cell_type": "markdown",
      "metadata": {
        "id": "eu_ClLA_WBgP"
      },
      "source": [
        "1. Encuentre los mejores y peores casos para los algoritmos de Gale-Shapley e Irving (un algoritmo eficiente para el problema de los “compañeros de habitación estables”) y ejecute en Colab estos algoritmos para esos casos por $ n = 4 $ y $ 40 $."
      ]
    },
    {
      "cell_type": "code",
      "metadata": {
        "colab": {
          "base_uri": "https://localhost:8080/"
        },
        "id": "blYEU_79cEXq",
        "outputId": "d1a61857-bf3f-46e8-efa7-1978c7ab8b9d"
      },
      "source": [
        "%pylab inline\n",
        "import pandas as pd\n",
        "import numpy as np\n",
        "from collections import Counter\n",
        "from copy import copy\n",
        "from time import time\n",
        "import matplotlib.pyplot as plt\n",
        "import seaborn as sns"
      ],
      "execution_count": 1,
      "outputs": [
        {
          "output_type": "stream",
          "text": [
            "Populating the interactive namespace from numpy and matplotlib\n"
          ],
          "name": "stdout"
        }
      ]
    },
    {
      "cell_type": "code",
      "metadata": {
        "id": "of6ya7kKgCEz"
      },
      "source": [
        "def gale(man_list, women_list, man_df, women_df):\n",
        "  # diccionario para ver cada mujer que cada hombre puede proponersele\n",
        "  women_available = {man:women_list for man in man_list}\n",
        "  # waiting list of men that were able to create pair on each iteration\n",
        "  waiting_list = []\n",
        "  # dict to store created pairs\n",
        "  proposals = {}\n",
        "  # variable to count number of iterations\n",
        "  count = 0\n",
        "\n",
        "  # mientras no todos los hombres tengan pareja\n",
        "  while len(waiting_list)<len(man_list):\n",
        "      # man makes proposals\n",
        "      for man in man_list:\n",
        "          if man not in waiting_list:\n",
        "              # each man make proposal to the top women from it's list\n",
        "              women = women_available[man]\n",
        "              best_choice = man_df.loc[man][man_df.loc[man].index.isin(women)].idxmin()\n",
        "              proposals[(man, best_choice)]=(man_df.loc[man][best_choice],\n",
        "                                                  women_df.loc[man][best_choice])\n",
        "      # si una mujer llega a tener más de un proponiente\n",
        "      # she will choose the best option\n",
        "      overlays = Counter([key[1] for key in proposals.keys()])\n",
        "      # cycle to choose the best options\n",
        "      for women in overlays.keys():\n",
        "          if overlays[women]>1:\n",
        "              # pairs to drop from proposals\n",
        "              pairs_to_drop = sorted({pair: proposals[pair] for pair in proposals.keys() \n",
        "                      if women in pair}.items(), \n",
        "                    key=lambda x: x[1][1]\n",
        "                    )[1:]\n",
        "              # if man was rejected by woman\n",
        "              # there is no pint for him to make proposal \n",
        "              # second time to the same woman\n",
        "              for p_to_drop in pairs_to_drop:\n",
        "                  del proposals[p_to_drop[0]]\n",
        "                  _women = copy(women_available[p_to_drop[0][0]])\n",
        "                  _women.remove(p_to_drop[0][1])\n",
        "                  women_available[p_to_drop[0][0]] = _women\n",
        "      # un hombre que ha creado una pareja se añade a la lista de espera\n",
        "      waiting_list = [man[0] for man in proposals.keys()]\n",
        "      # update counter\n",
        "      count+=1\n",
        "\n",
        "  return proposals, count"
      ],
      "execution_count": 2,
      "outputs": []
    },
    {
      "cell_type": "markdown",
      "metadata": {
        "id": "m7JHVLFFtJe7"
      },
      "source": [
        "n = 4"
      ]
    },
    {
      "cell_type": "code",
      "metadata": {
        "id": "OQICL8jbm43Y"
      },
      "source": [
        "man_list = ['a', 'b', 'c', 'd']\n",
        "women_list = ['A', 'B', 'C', 'D']"
      ],
      "execution_count": 3,
      "outputs": []
    },
    {
      "cell_type": "code",
      "metadata": {
        "id": "UAulWGgjm43Y"
      },
      "source": [
        "women_df = pd.DataFrame({'A': [1,2,3,4], 'B': [2,1,3,4], 'C':[3,2,1,4], 'D':[4,2,3,1]})\n",
        "women_df.index = man_list"
      ],
      "execution_count": 4,
      "outputs": []
    },
    {
      "cell_type": "code",
      "metadata": {
        "id": "0yk5oUOQm43Y"
      },
      "source": [
        "man_df = pd.DataFrame({'A': [1,2,3,4], 'B': [2,1,3,4], 'C':[3,2,1,4], 'D':[4,2,3,1]})\n",
        "man_df.index = man_list"
      ],
      "execution_count": 5,
      "outputs": []
    },
    {
      "cell_type": "code",
      "metadata": {
        "colab": {
          "base_uri": "https://localhost:8080/",
          "height": 175
        },
        "id": "Axw58oRxm43Z",
        "outputId": "25f4a8ff-535a-4ad6-a8f6-5c8230e5ac10"
      },
      "source": [
        "women_df"
      ],
      "execution_count": 6,
      "outputs": [
        {
          "output_type": "execute_result",
          "data": {
            "text/html": [
              "<div>\n",
              "<style scoped>\n",
              "    .dataframe tbody tr th:only-of-type {\n",
              "        vertical-align: middle;\n",
              "    }\n",
              "\n",
              "    .dataframe tbody tr th {\n",
              "        vertical-align: top;\n",
              "    }\n",
              "\n",
              "    .dataframe thead th {\n",
              "        text-align: right;\n",
              "    }\n",
              "</style>\n",
              "<table border=\"1\" class=\"dataframe\">\n",
              "  <thead>\n",
              "    <tr style=\"text-align: right;\">\n",
              "      <th></th>\n",
              "      <th>A</th>\n",
              "      <th>B</th>\n",
              "      <th>C</th>\n",
              "      <th>D</th>\n",
              "    </tr>\n",
              "  </thead>\n",
              "  <tbody>\n",
              "    <tr>\n",
              "      <th>a</th>\n",
              "      <td>1</td>\n",
              "      <td>2</td>\n",
              "      <td>3</td>\n",
              "      <td>4</td>\n",
              "    </tr>\n",
              "    <tr>\n",
              "      <th>b</th>\n",
              "      <td>2</td>\n",
              "      <td>1</td>\n",
              "      <td>2</td>\n",
              "      <td>2</td>\n",
              "    </tr>\n",
              "    <tr>\n",
              "      <th>c</th>\n",
              "      <td>3</td>\n",
              "      <td>3</td>\n",
              "      <td>1</td>\n",
              "      <td>3</td>\n",
              "    </tr>\n",
              "    <tr>\n",
              "      <th>d</th>\n",
              "      <td>4</td>\n",
              "      <td>4</td>\n",
              "      <td>4</td>\n",
              "      <td>1</td>\n",
              "    </tr>\n",
              "  </tbody>\n",
              "</table>\n",
              "</div>"
            ],
            "text/plain": [
              "   A  B  C  D\n",
              "a  1  2  3  4\n",
              "b  2  1  2  2\n",
              "c  3  3  1  3\n",
              "d  4  4  4  1"
            ]
          },
          "metadata": {
            "tags": []
          },
          "execution_count": 6
        }
      ]
    },
    {
      "cell_type": "code",
      "metadata": {
        "colab": {
          "base_uri": "https://localhost:8080/",
          "height": 175
        },
        "id": "ifdPzPEkm43Z",
        "outputId": "e5e0e56e-7be9-40f9-9dfc-67231fbb6347"
      },
      "source": [
        "man_df"
      ],
      "execution_count": 7,
      "outputs": [
        {
          "output_type": "execute_result",
          "data": {
            "text/html": [
              "<div>\n",
              "<style scoped>\n",
              "    .dataframe tbody tr th:only-of-type {\n",
              "        vertical-align: middle;\n",
              "    }\n",
              "\n",
              "    .dataframe tbody tr th {\n",
              "        vertical-align: top;\n",
              "    }\n",
              "\n",
              "    .dataframe thead th {\n",
              "        text-align: right;\n",
              "    }\n",
              "</style>\n",
              "<table border=\"1\" class=\"dataframe\">\n",
              "  <thead>\n",
              "    <tr style=\"text-align: right;\">\n",
              "      <th></th>\n",
              "      <th>A</th>\n",
              "      <th>B</th>\n",
              "      <th>C</th>\n",
              "      <th>D</th>\n",
              "    </tr>\n",
              "  </thead>\n",
              "  <tbody>\n",
              "    <tr>\n",
              "      <th>a</th>\n",
              "      <td>1</td>\n",
              "      <td>2</td>\n",
              "      <td>3</td>\n",
              "      <td>4</td>\n",
              "    </tr>\n",
              "    <tr>\n",
              "      <th>b</th>\n",
              "      <td>2</td>\n",
              "      <td>1</td>\n",
              "      <td>2</td>\n",
              "      <td>2</td>\n",
              "    </tr>\n",
              "    <tr>\n",
              "      <th>c</th>\n",
              "      <td>3</td>\n",
              "      <td>3</td>\n",
              "      <td>1</td>\n",
              "      <td>3</td>\n",
              "    </tr>\n",
              "    <tr>\n",
              "      <th>d</th>\n",
              "      <td>4</td>\n",
              "      <td>4</td>\n",
              "      <td>4</td>\n",
              "      <td>1</td>\n",
              "    </tr>\n",
              "  </tbody>\n",
              "</table>\n",
              "</div>"
            ],
            "text/plain": [
              "   A  B  C  D\n",
              "a  1  2  3  4\n",
              "b  2  1  2  2\n",
              "c  3  3  1  3\n",
              "d  4  4  4  1"
            ]
          },
          "metadata": {
            "tags": []
          },
          "execution_count": 7
        }
      ]
    },
    {
      "cell_type": "code",
      "metadata": {
        "colab": {
          "base_uri": "https://localhost:8080/"
        },
        "id": "V2PLMh70m43Z",
        "outputId": "7b1a185f-3956-4cbc-a99f-094d14ada2c7"
      },
      "source": [
        "time0 = time()\n",
        "proposals, count = gale(man_list, women_list, man_df, women_df)\n",
        "print(\"Proposals:\", proposals, \"\\n\\t--> Iteraciones:\", count)\n",
        "time1 = time()\n",
        "print(\"\\t--> Tiempo de ejecución:\", time1 - time0)"
      ],
      "execution_count": 8,
      "outputs": [
        {
          "output_type": "stream",
          "text": [
            "Proposals: {('a', 'A'): (1, 1), ('b', 'B'): (1, 1), ('c', 'C'): (1, 1), ('d', 'D'): (1, 1)} \n",
            "\t--> Iteraciones: 1\n",
            "\t--> Tiempo de ejecución: 0.003936290740966797\n"
          ],
          "name": "stdout"
        }
      ]
    },
    {
      "cell_type": "markdown",
      "metadata": {
        "id": "LVmEy7gmtJe8"
      },
      "source": [
        "Peores casos\r\n"
      ]
    },
    {
      "cell_type": "code",
      "metadata": {
        "id": "GNRAduxRFWgm"
      },
      "source": [
        "man_list = ['a', 'b', 'c', 'd']\n",
        "women_list = ['A', 'B', 'C', 'D']"
      ],
      "execution_count": 9,
      "outputs": []
    },
    {
      "cell_type": "code",
      "metadata": {
        "colab": {
          "base_uri": "https://localhost:8080/",
          "height": 175
        },
        "id": "WbDXjw8mFWgr",
        "outputId": "d1add1fd-3a99-4d95-a66c-d9a711a4e973"
      },
      "source": [
        "man_df"
      ],
      "execution_count": 10,
      "outputs": [
        {
          "output_type": "execute_result",
          "data": {
            "text/html": [
              "<div>\n",
              "<style scoped>\n",
              "    .dataframe tbody tr th:only-of-type {\n",
              "        vertical-align: middle;\n",
              "    }\n",
              "\n",
              "    .dataframe tbody tr th {\n",
              "        vertical-align: top;\n",
              "    }\n",
              "\n",
              "    .dataframe thead th {\n",
              "        text-align: right;\n",
              "    }\n",
              "</style>\n",
              "<table border=\"1\" class=\"dataframe\">\n",
              "  <thead>\n",
              "    <tr style=\"text-align: right;\">\n",
              "      <th></th>\n",
              "      <th>A</th>\n",
              "      <th>B</th>\n",
              "      <th>C</th>\n",
              "      <th>D</th>\n",
              "    </tr>\n",
              "  </thead>\n",
              "  <tbody>\n",
              "    <tr>\n",
              "      <th>a</th>\n",
              "      <td>1</td>\n",
              "      <td>2</td>\n",
              "      <td>3</td>\n",
              "      <td>4</td>\n",
              "    </tr>\n",
              "    <tr>\n",
              "      <th>b</th>\n",
              "      <td>2</td>\n",
              "      <td>1</td>\n",
              "      <td>2</td>\n",
              "      <td>2</td>\n",
              "    </tr>\n",
              "    <tr>\n",
              "      <th>c</th>\n",
              "      <td>3</td>\n",
              "      <td>3</td>\n",
              "      <td>1</td>\n",
              "      <td>3</td>\n",
              "    </tr>\n",
              "    <tr>\n",
              "      <th>d</th>\n",
              "      <td>4</td>\n",
              "      <td>4</td>\n",
              "      <td>4</td>\n",
              "      <td>1</td>\n",
              "    </tr>\n",
              "  </tbody>\n",
              "</table>\n",
              "</div>"
            ],
            "text/plain": [
              "   A  B  C  D\n",
              "a  1  2  3  4\n",
              "b  2  1  2  2\n",
              "c  3  3  1  3\n",
              "d  4  4  4  1"
            ]
          },
          "metadata": {
            "tags": []
          },
          "execution_count": 10
        }
      ]
    },
    {
      "cell_type": "code",
      "metadata": {
        "colab": {
          "base_uri": "https://localhost:8080/",
          "height": 175
        },
        "id": "8MJI2DEqFWgo",
        "outputId": "e5915003-1ed3-4d56-8c48-88b376e24094"
      },
      "source": [
        "women_df"
      ],
      "execution_count": 11,
      "outputs": [
        {
          "output_type": "execute_result",
          "data": {
            "text/html": [
              "<div>\n",
              "<style scoped>\n",
              "    .dataframe tbody tr th:only-of-type {\n",
              "        vertical-align: middle;\n",
              "    }\n",
              "\n",
              "    .dataframe tbody tr th {\n",
              "        vertical-align: top;\n",
              "    }\n",
              "\n",
              "    .dataframe thead th {\n",
              "        text-align: right;\n",
              "    }\n",
              "</style>\n",
              "<table border=\"1\" class=\"dataframe\">\n",
              "  <thead>\n",
              "    <tr style=\"text-align: right;\">\n",
              "      <th></th>\n",
              "      <th>A</th>\n",
              "      <th>B</th>\n",
              "      <th>C</th>\n",
              "      <th>D</th>\n",
              "    </tr>\n",
              "  </thead>\n",
              "  <tbody>\n",
              "    <tr>\n",
              "      <th>a</th>\n",
              "      <td>1</td>\n",
              "      <td>2</td>\n",
              "      <td>3</td>\n",
              "      <td>4</td>\n",
              "    </tr>\n",
              "    <tr>\n",
              "      <th>b</th>\n",
              "      <td>2</td>\n",
              "      <td>1</td>\n",
              "      <td>2</td>\n",
              "      <td>2</td>\n",
              "    </tr>\n",
              "    <tr>\n",
              "      <th>c</th>\n",
              "      <td>3</td>\n",
              "      <td>3</td>\n",
              "      <td>1</td>\n",
              "      <td>3</td>\n",
              "    </tr>\n",
              "    <tr>\n",
              "      <th>d</th>\n",
              "      <td>4</td>\n",
              "      <td>4</td>\n",
              "      <td>4</td>\n",
              "      <td>1</td>\n",
              "    </tr>\n",
              "  </tbody>\n",
              "</table>\n",
              "</div>"
            ],
            "text/plain": [
              "   A  B  C  D\n",
              "a  1  2  3  4\n",
              "b  2  1  2  2\n",
              "c  3  3  1  3\n",
              "d  4  4  4  1"
            ]
          },
          "metadata": {
            "tags": []
          },
          "execution_count": 11
        }
      ]
    },
    {
      "cell_type": "code",
      "metadata": {
        "id": "zQLoPlz7SJHw"
      },
      "source": [
        "man_df = pd.DataFrame({'A': [1,2,3,4], 'B': [2,3,1,4], 'C':[3,1,2,4], 'D':[1,2,3,4]})\n",
        "man_df.index = man_list\n",
        "\n",
        "women_df = pd.DataFrame({'A': [2,3,4,1], 'B': [3,4,1,2], 'C':[4,1,2,3], 'D':[1,2,3,4]})\n",
        "women_df.index = man_list"
      ],
      "execution_count": 12,
      "outputs": []
    },
    {
      "cell_type": "code",
      "metadata": {
        "colab": {
          "base_uri": "https://localhost:8080/"
        },
        "id": "irQsbPGCFWgs",
        "outputId": "f24861f3-416a-4555-c3b9-7802d4caa27f"
      },
      "source": [
        "time0 = time()\n",
        "proposals, count = gale(man_list, women_list, man_df, women_df)\n",
        "print(\"Proposals:\", proposals, \"\\n\\t--> Iteraciones:\", count)\n",
        "time1 = time()\n",
        "print(\"\\t--> Tiempo de ejecución:\", time1 - time0)"
      ],
      "execution_count": 13,
      "outputs": [
        {
          "output_type": "stream",
          "text": [
            "Proposals: {('b', 'C'): (1, 1), ('c', 'B'): (1, 1), ('d', 'A'): (4, 1), ('a', 'D'): (1, 1)} \n",
            "\t--> Iteraciones: 2\n",
            "\t--> Tiempo de ejecución: 0.006621599197387695\n"
          ],
          "name": "stdout"
        }
      ]
    },
    {
      "cell_type": "markdown",
      "metadata": {
        "id": "lgUxnhHnhe4C"
      },
      "source": [
        "n = 40"
      ]
    },
    {
      "cell_type": "code",
      "metadata": {
        "id": "f6hZ7e1Bh6fd"
      },
      "source": [
        "man_list = ['m1', 'm2', 'm3', 'm4', 'm5', 'm6', 'm7', 'm8', 'm9', 'm10',\n",
        "            'm11', 'm12', 'm13', 'm14', 'm15', 'm16', 'm17', 'm18', 'm19', 'm20',\n",
        "            'm21', 'm22', 'm23', 'm24', 'm25', 'm26', 'm27', 'm28', 'm29', 'm30',\n",
        "            'm31', 'm32', 'm33', 'm34', 'm35', 'm36', 'm37', 'm38', 'm39', 'm40']\n",
        "women_list = ['w1', 'w2', 'w3', 'w4', 'w5', 'w6', 'w7', 'w8', 'w9', 'w10',\n",
        "              'w11', 'w12', 'w13', 'w14', 'w15', 'w16', 'w17', 'w18', 'w19', 'w20',\n",
        "              'w21', 'w22', 'w23', 'w24', 'w25', 'w26', 'w27', 'w28', 'w29', 'w30',\n",
        "              'w31', 'w32', 'w33', 'w34', 'w35', 'w36', 'w37', 'w38', 'w39', 'w40']              \n",
        "count_list = []\n",
        "n = 40\n",
        "preference_list = [i for i in range(1, 41)]\n",
        "\n",
        "women_df = pd.DataFrame({'w1': preference_list, 'w2': preference_list, 'w3':preference_list, 'w4':preference_list, 'w5':preference_list, 'w6': preference_list, 'w7':preference_list, 'w8':preference_list, 'w9':preference_list, 'w10':preference_list,\n",
        "                          'w11': preference_list, 'w12': preference_list, 'w13':preference_list, 'w14':preference_list, 'w15':preference_list, 'w16': preference_list, 'w17':preference_list, 'w18':preference_list, 'w19':preference_list, 'w20':preference_list,\n",
        "                          'w21': preference_list, 'w22': preference_list, 'w23':preference_list, 'w24':preference_list, 'w25':preference_list, 'w26': preference_list, 'w27':preference_list, 'w28':preference_list, 'w29':preference_list, 'w30':preference_list,\n",
        "                          'w31': preference_list, 'w32': preference_list, 'w33':preference_list, 'w34':preference_list, 'w35':preference_list, 'w36': preference_list, 'w37':preference_list, 'w38':preference_list, 'w39':preference_list, 'w40':preference_list})\n",
        "women_df.index = man_list\n",
        "man_df = pd.DataFrame({'w1': preference_list, 'w2': preference_list, 'w3':preference_list, 'w4':preference_list, 'w5':preference_list, 'w6': preference_list, 'w7':preference_list, 'w8':preference_list, 'w9':preference_list, 'w10':preference_list,\n",
        "                          'w11': preference_list, 'w12': preference_list, 'w13':preference_list, 'w14':preference_list, 'w15':preference_list, 'w16': preference_list, 'w17':preference_list, 'w18':preference_list, 'w19':preference_list, 'w20':preference_list,\n",
        "                          'w21': preference_list, 'w22': preference_list, 'w23':preference_list, 'w24':preference_list, 'w25':preference_list, 'w26': preference_list, 'w27':preference_list, 'w28':preference_list, 'w29':preference_list, 'w30':preference_list,\n",
        "                          'w31': preference_list, 'w32': preference_list, 'w33':preference_list, 'w34':preference_list, 'w35':preference_list, 'w36': preference_list, 'w37':preference_list, 'w38':preference_list, 'w39':preference_list, 'w40':preference_list})\n",
        "man_df.index = man_list\n",
        "proposals, count = gale(man_list, women_list, man_df, women_df)\n",
        "count_list.append(count)"
      ],
      "execution_count": 14,
      "outputs": []
    },
    {
      "cell_type": "code",
      "metadata": {
        "colab": {
          "base_uri": "https://localhost:8080/"
        },
        "id": "XuFs4Fjche4E",
        "outputId": "59fee0b7-443e-43de-b7c1-51f60be03f3c"
      },
      "source": [
        "time0 = time()\n",
        "print(\"Proposals:\", proposals, \"\\n\\t--> Iteraciones:\", count)\n",
        "time1 = time()\n",
        "print(\"\\t--> Tiempo de ejecución:\", time1 - time0)"
      ],
      "execution_count": 15,
      "outputs": [
        {
          "output_type": "stream",
          "text": [
            "Proposals: {('m1', 'w1'): (1, 1), ('m2', 'w2'): (2, 2), ('m3', 'w3'): (3, 3), ('m4', 'w4'): (4, 4), ('m5', 'w5'): (5, 5), ('m6', 'w6'): (6, 6), ('m7', 'w7'): (7, 7), ('m8', 'w8'): (8, 8), ('m9', 'w9'): (9, 9), ('m10', 'w10'): (10, 10), ('m11', 'w11'): (11, 11), ('m12', 'w12'): (12, 12), ('m13', 'w13'): (13, 13), ('m14', 'w14'): (14, 14), ('m15', 'w15'): (15, 15), ('m16', 'w16'): (16, 16), ('m17', 'w17'): (17, 17), ('m18', 'w18'): (18, 18), ('m19', 'w19'): (19, 19), ('m20', 'w20'): (20, 20), ('m21', 'w21'): (21, 21), ('m22', 'w22'): (22, 22), ('m23', 'w23'): (23, 23), ('m24', 'w24'): (24, 24), ('m25', 'w25'): (25, 25), ('m26', 'w26'): (26, 26), ('m27', 'w27'): (27, 27), ('m28', 'w28'): (28, 28), ('m29', 'w29'): (29, 29), ('m30', 'w30'): (30, 30), ('m31', 'w31'): (31, 31), ('m32', 'w32'): (32, 32), ('m33', 'w33'): (33, 33), ('m34', 'w34'): (34, 34), ('m35', 'w35'): (35, 35), ('m36', 'w36'): (36, 36), ('m37', 'w37'): (37, 37), ('m38', 'w38'): (38, 38), ('m39', 'w39'): (39, 39), ('m40', 'w40'): (40, 40)} \n",
            "\t--> Iteraciones: 40\n",
            "\t--> Tiempo de ejecución: 0.00037407875061035156\n"
          ],
          "name": "stdout"
        }
      ]
    },
    {
      "cell_type": "markdown",
      "metadata": {
        "id": "OaqFr2eMhe4F"
      },
      "source": [
        "Peores casos"
      ]
    },
    {
      "cell_type": "code",
      "metadata": {
        "colab": {
          "base_uri": "https://localhost:8080/"
        },
        "id": "QEuRWuqJFuX4",
        "outputId": "ebff9a88-8b8c-4503-d599-8326eb20e9f3"
      },
      "source": [
        "# def list_pref_gale(i, j):\n",
        "n = 4\n",
        "worst_case_final = []\n",
        "worst_case = [list(range(i,2*n-1))+list(range(n,i))+[2*n-1] for i in range(n,2*n)] + [list(range((i+1),n))+list(range(i))+[i] for i in range(n)]\n",
        "for e in range(0, n):\n",
        "  # for e1 in worst_case:\n",
        "  #   worst_case_i = e1[][e1 - i for e1 in e]\n",
        "  worst_case_i = [e1 - 3 for e1 in worst_case[e]]\n",
        "  worst_case_final.append(worst_case_i)\n",
        "  # print(worst_case_i)\n",
        "for k in range(n, n*2):\n",
        "  worst_case_i = [e1 + 1 for e1 in worst_case[k]]\n",
        "  worst_case_final.append(worst_case_i)\n",
        "print(worst_case_final)\n",
        "  # return worst_case_final[j]"
      ],
      "execution_count": 16,
      "outputs": [
        {
          "output_type": "stream",
          "text": [
            "[[1, 2, 3, 4], [2, 3, 1, 4], [3, 1, 2, 4], [1, 2, 3, 4], [2, 3, 4, 1], [3, 4, 1, 2], [4, 1, 2, 3], [1, 2, 3, 4]]\n"
          ],
          "name": "stdout"
        }
      ]
    },
    {
      "cell_type": "code",
      "metadata": {
        "id": "9TXmaG7ZFWgo"
      },
      "source": [
        "# print(list_pref_gale(n, 0))\n",
        "# man_df = pd.DataFrame({'A': list_pref_gale(n, 0), 'B': list_pref_gale(n, 1), 'C':list_pref_gale(n, 2), 'D':list_pref_gale(n, 3)})\n",
        "# man_df.index = man_list\n",
        "\n",
        "# women_df = pd.DataFrame({'A': list_pref_gale(n, 4), 'B': list_pref_gale(n, 5), 'C':list_pref_gale(n, 6), 'D':list_pref_gale(n, 7)})\n",
        "# women_df.index = man_list"
      ],
      "execution_count": 17,
      "outputs": []
    },
    {
      "cell_type": "code",
      "metadata": {
        "id": "Pch0yu02QnPN"
      },
      "source": [
        "# n = 4\n",
        "# worst_case = [list(range(i,2*n-1))+list(range(n,i))+[2*n-1] for i in range(n,2*n)] + [list(range((i+1),n))+list(range(i))+[i] for i in range(n)]\n",
        "\n",
        "# # print(worst_case[3])\n",
        "# man_df = pd.DataFrame({'A': worst_case[0], 'B': worst_case[1], 'C':worst_case[2], 'D':worst_case[3]})\n",
        "# man_df.index = man_list\n",
        "\n",
        "# women_df = pd.DataFrame({'A': worst_case[4], 'B': worst_case[5], 'C':worst_case[6], 'D':worst_case[7]})\n",
        "# women_df.index = man_list"
      ],
      "execution_count": 18,
      "outputs": []
    },
    {
      "cell_type": "markdown",
      "metadata": {
        "id": "A_SCUXkMllqK"
      },
      "source": [
        "Algoritmo de Irving"
      ]
    },
    {
      "cell_type": "code",
      "metadata": {
        "id": "j77wjru2ZTeF"
      },
      "source": [
        ""
      ],
      "execution_count": 18,
      "outputs": []
    },
    {
      "cell_type": "code",
      "metadata": {
        "colab": {
          "base_uri": "https://localhost:8080/"
        },
        "id": "lkCXrGjCPgMz",
        "outputId": "077eb711-d3bf-4893-87b3-cc0160a90d40"
      },
      "source": [
        "pip install matching"
      ],
      "execution_count": 19,
      "outputs": [
        {
          "output_type": "stream",
          "text": [
            "Collecting matching\n",
            "  Downloading https://files.pythonhosted.org/packages/6f/cb/c01b165e3f4e9aa53368d09cb696e3241fbb094e60f44ba9c6e2eac0fadc/matching-1.4-py3-none-any.whl\n",
            "Installing collected packages: matching\n",
            "Successfully installed matching-1.4\n"
          ],
          "name": "stdout"
        }
      ]
    },
    {
      "cell_type": "code",
      "metadata": {
        "id": "pl6mweJXrVfF"
      },
      "source": [
        "from matching.games import StableRoommates"
      ],
      "execution_count": 20,
      "outputs": []
    },
    {
      "cell_type": "code",
      "metadata": {
        "colab": {
          "base_uri": "https://localhost:8080/"
        },
        "id": "h6mG8PyHjsk3",
        "outputId": "a7403d85-f470-45de-9adc-011a909d85be"
      },
      "source": [
        "# Ejemplo de implementación\n",
        "preferences = {0 : [2, 3, 1, 5, 4], 1 : [5, 4, 3, 0, 2], 2 : [1, 3, 4, 0, 5], 3 : [4, 1, 2, 5, 0], 4 : [2, 0, 1, 3, 5], 5 : [4, 0, 2, 3, 1]}\n",
        "game = StableRoommates.create_from_dictionary(preferences)\n",
        "game.solve()"
      ],
      "execution_count": 21,
      "outputs": [
        {
          "output_type": "execute_result",
          "data": {
            "text/plain": [
              "{0: 5, 1: 3, 2: 4, 3: 1, 4: 2, 5: 0}"
            ]
          },
          "metadata": {
            "tags": []
          },
          "execution_count": 21
        }
      ]
    },
    {
      "cell_type": "markdown",
      "metadata": {
        "id": "MBPEvwgvjN4u"
      },
      "source": [
        "n = 4"
      ]
    },
    {
      "cell_type": "code",
      "metadata": {
        "colab": {
          "base_uri": "https://localhost:8080/",
          "height": 143
        },
        "id": "TMLI9_p-sGAN",
        "outputId": "ed7f439e-c3b9-4e1b-f70f-5044686f3a62"
      },
      "source": [
        "# Ejemplo de implementación\n",
        "preferences = {0 : [1, 2, 3], 1 : [0, 2, 3], 2 : [3, 0, 1], 3 : [2, 0, 1]}\n",
        "preferences_df = pd.DataFrame(preferences)\n",
        "preferences_df.index = ['Cpreferencias 1', 'Cpreferencias 2', 'Cpreferencias 3']\n",
        "preferences_df"
      ],
      "execution_count": 22,
      "outputs": [
        {
          "output_type": "execute_result",
          "data": {
            "text/html": [
              "<div>\n",
              "<style scoped>\n",
              "    .dataframe tbody tr th:only-of-type {\n",
              "        vertical-align: middle;\n",
              "    }\n",
              "\n",
              "    .dataframe tbody tr th {\n",
              "        vertical-align: top;\n",
              "    }\n",
              "\n",
              "    .dataframe thead th {\n",
              "        text-align: right;\n",
              "    }\n",
              "</style>\n",
              "<table border=\"1\" class=\"dataframe\">\n",
              "  <thead>\n",
              "    <tr style=\"text-align: right;\">\n",
              "      <th></th>\n",
              "      <th>0</th>\n",
              "      <th>1</th>\n",
              "      <th>2</th>\n",
              "      <th>3</th>\n",
              "    </tr>\n",
              "  </thead>\n",
              "  <tbody>\n",
              "    <tr>\n",
              "      <th>Cpreferencias 1</th>\n",
              "      <td>1</td>\n",
              "      <td>0</td>\n",
              "      <td>3</td>\n",
              "      <td>2</td>\n",
              "    </tr>\n",
              "    <tr>\n",
              "      <th>Cpreferencias 2</th>\n",
              "      <td>2</td>\n",
              "      <td>2</td>\n",
              "      <td>0</td>\n",
              "      <td>0</td>\n",
              "    </tr>\n",
              "    <tr>\n",
              "      <th>Cpreferencias 3</th>\n",
              "      <td>3</td>\n",
              "      <td>3</td>\n",
              "      <td>1</td>\n",
              "      <td>1</td>\n",
              "    </tr>\n",
              "  </tbody>\n",
              "</table>\n",
              "</div>"
            ],
            "text/plain": [
              "                 0  1  2  3\n",
              "Cpreferencias 1  1  0  3  2\n",
              "Cpreferencias 2  2  2  0  0\n",
              "Cpreferencias 3  3  3  1  1"
            ]
          },
          "metadata": {
            "tags": []
          },
          "execution_count": 22
        }
      ]
    },
    {
      "cell_type": "code",
      "metadata": {
        "colab": {
          "base_uri": "https://localhost:8080/"
        },
        "id": "j-uDzNNRnU_I",
        "outputId": "17ab64ec-0e04-4984-f420-edc8b784843a"
      },
      "source": [
        "time0 = time()\n",
        "game = StableRoommates.create_from_dictionary(preferences)\n",
        "sol = game.solve()\n",
        "time1 = time()\n",
        "print(sol)\n",
        "print(\"--> Tiempo de ejecución: \", time1 - time0)"
      ],
      "execution_count": 23,
      "outputs": [
        {
          "output_type": "stream",
          "text": [
            "{0: 1, 1: 0, 2: 3, 3: 2}\n",
            "--> Tiempo de ejecución:  0.00041484832763671875\n"
          ],
          "name": "stdout"
        }
      ]
    },
    {
      "cell_type": "markdown",
      "metadata": {
        "id": "cNcDRP--lEdg"
      },
      "source": [
        "Peores casos\r\n"
      ]
    },
    {
      "cell_type": "code",
      "metadata": {
        "colab": {
          "base_uri": "https://localhost:8080/",
          "height": 143
        },
        "id": "ZwnPSIFNs-Ek",
        "outputId": "00adcfa4-a16d-44e4-99e0-b98e1aa17a83"
      },
      "source": [
        "# Ejemplo de implementación\n",
        "preferences = {0 : [1, 2, 3], 1 : [2, 3, 0], 2 : [0, 1, 3], 3 : [1, 2, 0]}\n",
        "preferences_df = pd.DataFrame(preferences)\n",
        "preferences_df.index = ['Cpreferencias 1', 'Cpreferencias 2', 'Cpreferencias 3']\n",
        "preferences_df"
      ],
      "execution_count": 24,
      "outputs": [
        {
          "output_type": "execute_result",
          "data": {
            "text/html": [
              "<div>\n",
              "<style scoped>\n",
              "    .dataframe tbody tr th:only-of-type {\n",
              "        vertical-align: middle;\n",
              "    }\n",
              "\n",
              "    .dataframe tbody tr th {\n",
              "        vertical-align: top;\n",
              "    }\n",
              "\n",
              "    .dataframe thead th {\n",
              "        text-align: right;\n",
              "    }\n",
              "</style>\n",
              "<table border=\"1\" class=\"dataframe\">\n",
              "  <thead>\n",
              "    <tr style=\"text-align: right;\">\n",
              "      <th></th>\n",
              "      <th>0</th>\n",
              "      <th>1</th>\n",
              "      <th>2</th>\n",
              "      <th>3</th>\n",
              "    </tr>\n",
              "  </thead>\n",
              "  <tbody>\n",
              "    <tr>\n",
              "      <th>Cpreferencias 1</th>\n",
              "      <td>1</td>\n",
              "      <td>2</td>\n",
              "      <td>0</td>\n",
              "      <td>1</td>\n",
              "    </tr>\n",
              "    <tr>\n",
              "      <th>Cpreferencias 2</th>\n",
              "      <td>2</td>\n",
              "      <td>3</td>\n",
              "      <td>1</td>\n",
              "      <td>2</td>\n",
              "    </tr>\n",
              "    <tr>\n",
              "      <th>Cpreferencias 3</th>\n",
              "      <td>3</td>\n",
              "      <td>0</td>\n",
              "      <td>3</td>\n",
              "      <td>0</td>\n",
              "    </tr>\n",
              "  </tbody>\n",
              "</table>\n",
              "</div>"
            ],
            "text/plain": [
              "                 0  1  2  3\n",
              "Cpreferencias 1  1  2  0  1\n",
              "Cpreferencias 2  2  3  1  2\n",
              "Cpreferencias 3  3  0  3  0"
            ]
          },
          "metadata": {
            "tags": []
          },
          "execution_count": 24
        }
      ]
    },
    {
      "cell_type": "code",
      "metadata": {
        "colab": {
          "base_uri": "https://localhost:8080/"
        },
        "id": "c8g5xSXEs-Em",
        "outputId": "bb65a4b3-eaef-4cdd-f1eb-acf1ad1606ec"
      },
      "source": [
        "time0 = time()\n",
        "game = StableRoommates.create_from_dictionary(preferences)\n",
        "sol = game.solve()\n",
        "time1 = time()\n",
        "print(sol)\n",
        "print(\"--> Tiempo de ejecución: \", time1 - time0)"
      ],
      "execution_count": 25,
      "outputs": [
        {
          "output_type": "stream",
          "text": [
            "{0: 2, 1: 3, 2: 0, 3: 1}\n",
            "--> Tiempo de ejecución:  0.00039839744567871094\n"
          ],
          "name": "stdout"
        }
      ]
    },
    {
      "cell_type": "markdown",
      "metadata": {
        "id": "gtAZVezetA8e"
      },
      "source": [
        "n = 40"
      ]
    },
    {
      "cell_type": "code",
      "metadata": {
        "colab": {
          "base_uri": "https://localhost:8080/"
        },
        "id": "eGXRvjUntwCd",
        "outputId": "46d671be-88b1-4c30-8300-7c1800b6b326"
      },
      "source": [
        "n = 4\n",
        "for i in range(0, n - 2):\n",
        "  list1 = [j for j in range (0, n)]\n",
        "  pref_list = list1[i+1:]\n",
        "  print(pref_list)\n",
        "  pref_list = list1[i:]\n",
        "  pref_list.remove(i + 1)\n",
        "  print(pref_list)  "
      ],
      "execution_count": 26,
      "outputs": [
        {
          "output_type": "stream",
          "text": [
            "[1, 2, 3]\n",
            "[0, 2, 3]\n",
            "[2, 3]\n",
            "[1, 3]\n"
          ],
          "name": "stdout"
        }
      ]
    },
    {
      "cell_type": "code",
      "metadata": {
        "colab": {
          "base_uri": "https://localhost:8080/",
          "height": 143
        },
        "id": "6JkRdsCktA8f",
        "outputId": "1b69f1c3-ce98-452b-c3dc-6254736c6742"
      },
      "source": [
        "# Ejemplo de implementación\n",
        "n = 4\n",
        "preferences_dic = {0 : [], 1 : [], 2 : [], 3 : []}\n",
        "for i in range(0, n):\n",
        "  list1 = [j for j in range(0, n)]\n",
        "  list1.remove(i)\n",
        "  preference_lst_n = list1[i:n] + list1[i:0:-1]\n",
        "  if i == (n - 1):\n",
        "    preference_lst_n = list1[i - (n - 1):(n - 1)]\n",
        "  preferences_dic[i] = preference_lst_n\n",
        "\n",
        "preferences_df = pd.DataFrame(preferences_dic)\n",
        "preferences_df.index = ['Cpreferencias 1', 'Cpreferencias 2', 'Cpreferencias 3']\n",
        "preferences_df"
      ],
      "execution_count": 27,
      "outputs": [
        {
          "output_type": "execute_result",
          "data": {
            "text/html": [
              "<div>\n",
              "<style scoped>\n",
              "    .dataframe tbody tr th:only-of-type {\n",
              "        vertical-align: middle;\n",
              "    }\n",
              "\n",
              "    .dataframe tbody tr th {\n",
              "        vertical-align: top;\n",
              "    }\n",
              "\n",
              "    .dataframe thead th {\n",
              "        text-align: right;\n",
              "    }\n",
              "</style>\n",
              "<table border=\"1\" class=\"dataframe\">\n",
              "  <thead>\n",
              "    <tr style=\"text-align: right;\">\n",
              "      <th></th>\n",
              "      <th>0</th>\n",
              "      <th>1</th>\n",
              "      <th>2</th>\n",
              "      <th>3</th>\n",
              "    </tr>\n",
              "  </thead>\n",
              "  <tbody>\n",
              "    <tr>\n",
              "      <th>Cpreferencias 1</th>\n",
              "      <td>1</td>\n",
              "      <td>2</td>\n",
              "      <td>3</td>\n",
              "      <td>0</td>\n",
              "    </tr>\n",
              "    <tr>\n",
              "      <th>Cpreferencias 2</th>\n",
              "      <td>2</td>\n",
              "      <td>3</td>\n",
              "      <td>3</td>\n",
              "      <td>1</td>\n",
              "    </tr>\n",
              "    <tr>\n",
              "      <th>Cpreferencias 3</th>\n",
              "      <td>3</td>\n",
              "      <td>2</td>\n",
              "      <td>1</td>\n",
              "      <td>2</td>\n",
              "    </tr>\n",
              "  </tbody>\n",
              "</table>\n",
              "</div>"
            ],
            "text/plain": [
              "                 0  1  2  3\n",
              "Cpreferencias 1  1  2  3  0\n",
              "Cpreferencias 2  2  3  3  1\n",
              "Cpreferencias 3  3  2  1  2"
            ]
          },
          "metadata": {
            "tags": []
          },
          "execution_count": 27
        }
      ]
    },
    {
      "cell_type": "code",
      "metadata": {
        "id": "wXFR6NJNtA8f"
      },
      "source": [
        "# time0 = time()\n",
        "# # game = StableRoommates.create_from_dictionary(preferences_dic)\n",
        "# sol = game.solve()\n",
        "# time1 = time()\n",
        "# print(sol)\n",
        "# print(\"--> Tiempo de ejecución: \", time1 - time0)"
      ],
      "execution_count": 28,
      "outputs": []
    },
    {
      "cell_type": "markdown",
      "metadata": {
        "id": "Ko8jcyK4tA8g"
      },
      "source": [
        "Peores casos"
      ]
    },
    {
      "cell_type": "code",
      "metadata": {
        "colab": {
          "base_uri": "https://localhost:8080/",
          "height": 143
        },
        "id": "yBPJFo8ttA8g",
        "outputId": "97b5cd5d-62e8-4c39-bc81-0d8361f6b4b6"
      },
      "source": [
        "# Ejemplo de implementación\n",
        "preferences = {0 : [1, 2, 3], 1 : [2, 3, 0], 2 : [3, 0, 1], 3 : [0, 1, 2]}\n",
        "preferences_df = pd.DataFrame(preferences)\n",
        "preferences_df.index = ['Cpreferencias 1', 'Cpreferencias 2', 'Cpreferencias 3']\n",
        "preferences_df"
      ],
      "execution_count": 29,
      "outputs": [
        {
          "output_type": "execute_result",
          "data": {
            "text/html": [
              "<div>\n",
              "<style scoped>\n",
              "    .dataframe tbody tr th:only-of-type {\n",
              "        vertical-align: middle;\n",
              "    }\n",
              "\n",
              "    .dataframe tbody tr th {\n",
              "        vertical-align: top;\n",
              "    }\n",
              "\n",
              "    .dataframe thead th {\n",
              "        text-align: right;\n",
              "    }\n",
              "</style>\n",
              "<table border=\"1\" class=\"dataframe\">\n",
              "  <thead>\n",
              "    <tr style=\"text-align: right;\">\n",
              "      <th></th>\n",
              "      <th>0</th>\n",
              "      <th>1</th>\n",
              "      <th>2</th>\n",
              "      <th>3</th>\n",
              "    </tr>\n",
              "  </thead>\n",
              "  <tbody>\n",
              "    <tr>\n",
              "      <th>Cpreferencias 1</th>\n",
              "      <td>1</td>\n",
              "      <td>2</td>\n",
              "      <td>3</td>\n",
              "      <td>0</td>\n",
              "    </tr>\n",
              "    <tr>\n",
              "      <th>Cpreferencias 2</th>\n",
              "      <td>2</td>\n",
              "      <td>3</td>\n",
              "      <td>0</td>\n",
              "      <td>1</td>\n",
              "    </tr>\n",
              "    <tr>\n",
              "      <th>Cpreferencias 3</th>\n",
              "      <td>3</td>\n",
              "      <td>0</td>\n",
              "      <td>1</td>\n",
              "      <td>2</td>\n",
              "    </tr>\n",
              "  </tbody>\n",
              "</table>\n",
              "</div>"
            ],
            "text/plain": [
              "                 0  1  2  3\n",
              "Cpreferencias 1  1  2  3  0\n",
              "Cpreferencias 2  2  3  0  1\n",
              "Cpreferencias 3  3  0  1  2"
            ]
          },
          "metadata": {
            "tags": []
          },
          "execution_count": 29
        }
      ]
    },
    {
      "cell_type": "code",
      "metadata": {
        "colab": {
          "base_uri": "https://localhost:8080/"
        },
        "id": "FT5wrUyttA8g",
        "outputId": "36040edc-93e7-48d9-e63a-e2b5f0c911d7"
      },
      "source": [
        "time0 = time()\n",
        "game = StableRoommates.create_from_dictionary(preferences)\n",
        "sol = game.solve()\n",
        "time1 = time()\n",
        "print(sol)\n",
        "print(\"--> Tiempo de ejecución: \", time1 - time0)"
      ],
      "execution_count": 30,
      "outputs": [
        {
          "output_type": "stream",
          "text": [
            "{0: 2, 1: 3, 2: 0, 3: 1}\n",
            "--> Tiempo de ejecución:  0.0009350776672363281\n"
          ],
          "name": "stdout"
        }
      ]
    },
    {
      "cell_type": "markdown",
      "metadata": {
        "id": "8JiPLXWG00yA"
      },
      "source": [
        "2. Ejecute el algoritmo Gale-Shapley 100 veces utilizando permutaciones aleatorias como listas de preferencias para n = 4 y 40. Encuentre el número mínimo, máximo y promedio de iteraciones y trace la distribución del número de iteraciones."
      ]
    },
    {
      "cell_type": "code",
      "metadata": {
        "id": "PvVEI6434B3i"
      },
      "source": [
        "# Generar listas de prefencia aleatorias\n",
        "import random\n",
        "from itertools import permutations\n",
        "def random_list(n):\n",
        "  numbers = [i for i in range(1, n + 1)]\n",
        "  #permutaciones = list(permutations(numbers))\n",
        "  #random_lst = list(random.choice(permutaciones))\n",
        "  return np.random.permutation(numbers)\n",
        "#random_list(4)\n"
      ],
      "execution_count": 31,
      "outputs": []
    },
    {
      "cell_type": "markdown",
      "metadata": {
        "id": "i8J1vqbLZFDV"
      },
      "source": [
        "n = 4"
      ]
    },
    {
      "cell_type": "code",
      "metadata": {
        "colab": {
          "base_uri": "https://localhost:8080/"
        },
        "id": "6VwJfzH52Hpz",
        "outputId": "f6e671b1-2aa4-4d17-a41a-b04c24d7c809"
      },
      "source": [
        "man_list = ['a', 'b', 'c', 'd']\n",
        "women_list = ['A', 'B', 'C', 'D']\n",
        "count_list = []\n",
        "n = 4\n",
        "for i in range (0, 100):\n",
        "  women_df = pd.DataFrame({'A': random_list(n), 'B': random_list(n), 'C':random_list(n), 'D':random_list(n)})\n",
        "  women_df.index = man_list\n",
        "  man_df = pd.DataFrame({'A': random_list(n), 'B': random_list(n), 'C':random_list(n), 'D':random_list(n)})\n",
        "  man_df.index = man_list\n",
        "  proposals, count = gale(man_list, women_list, man_df, women_df)\n",
        "  count_list.append(count)\n",
        "\n",
        "# plt.plot(count_list, color='green') #Histograma\n",
        "# plt.title('Número de iteraciones para 100 pruebas con n = 4')\n",
        "# plt.xlabel('Número de prueba')\n",
        "# plt.ylabel('Número de iteraciones')\n",
        "# plt.show()\n",
        "\n",
        "print(\"Maximum number of iterations: \", max(count_list))\n",
        "print(\"Minimum number of iterations: \", min(count_list))\n",
        "print(\"Minimum number of iterations: \", average(count_list))"
      ],
      "execution_count": 32,
      "outputs": [
        {
          "output_type": "stream",
          "text": [
            "Maximum number of iterations:  7\n",
            "Minimum number of iterations:  1\n",
            "Minimum number of iterations:  2.7\n"
          ],
          "name": "stdout"
        }
      ]
    },
    {
      "cell_type": "code",
      "metadata": {
        "colab": {
          "base_uri": "https://localhost:8080/",
          "height": 371
        },
        "id": "ObuvqBAsYYm6",
        "outputId": "36ed6e49-c03a-4e1a-c6ab-615d9f1fdc0a"
      },
      "source": [
        "graph = sns.countplot(count_list, palette = 'Greens_r')\n",
        "graph.set(title = 'Distribución del número de iteraciones para 100 pruebas con n = 4', xlabel = 'Número de iteraciones', ylabel = 'Frecuencia absoluta')\n",
        "graph.plot()"
      ],
      "execution_count": 33,
      "outputs": [
        {
          "output_type": "stream",
          "text": [
            "/usr/local/lib/python3.6/dist-packages/seaborn/_decorators.py:43: FutureWarning: Pass the following variable as a keyword arg: x. From version 0.12, the only valid positional argument will be `data`, and passing other arguments without an explicit keyword will result in an error or misinterpretation.\n",
            "  FutureWarning\n"
          ],
          "name": "stderr"
        },
        {
          "output_type": "execute_result",
          "data": {
            "text/plain": [
              "[]"
            ]
          },
          "metadata": {
            "tags": []
          },
          "execution_count": 33
        },
        {
          "output_type": "display_data",
          "data": {
            "image/png": "[encoded data removed]",
            "text/plain": [
              "<Figure size 432x288 with 1 Axes>"
            ]
          },
          "metadata": {
            "tags": [],
            "needs_background": "light"
          }
        }
      ]
    },
    {
      "cell_type": "markdown",
      "metadata": {
        "id": "NVdxe0NTZMjg"
      },
      "source": [
        "n = 40"
      ]
    },
    {
      "cell_type": "code",
      "metadata": {
        "colab": {
          "base_uri": "https://localhost:8080/"
        },
        "id": "BBe5CK7hCOXp",
        "outputId": "1c67afaa-86a6-45f4-dc11-0518adb74311"
      },
      "source": [
        "man_list = ['m1', 'm2', 'm3', 'm4', 'm5', 'm6', 'm7', 'm8', 'm9', 'm10',\n",
        "            'm11', 'm12', 'm13', 'm14', 'm15', 'm16', 'm17', 'm18', 'm19', 'm20',\n",
        "            'm21', 'm22', 'm23', 'm24', 'm25', 'm26', 'm27', 'm28', 'm29', 'm30',\n",
        "            'm31', 'm32', 'm33', 'm34', 'm35', 'm36', 'm37', 'm38', 'm39', 'm40']\n",
        "women_list = ['w1', 'w2', 'w3', 'w4', 'w5', 'w6', 'w7', 'w8', 'w9', 'w10',\n",
        "              'w11', 'w12', 'w13', 'w14', 'w15', 'w16', 'w17', 'w18', 'w19', 'w20',\n",
        "              'w21', 'w22', 'w23', 'w24', 'w25', 'w26', 'w27', 'w28', 'w29', 'w30',\n",
        "              'w31', 'w32', 'w33', 'w34', 'w35', 'w36', 'w37', 'w38', 'w39', 'w40']              \n",
        "count_list = []\n",
        "n = 40\n",
        "for i in range (0, 100):\n",
        "  women_df = pd.DataFrame({'w1': random_list(n), 'w2': random_list(n), 'w3':random_list(n), 'w4':random_list(n), 'w5':random_list(n), 'w6': random_list(n), 'w7':random_list(n), 'w8':random_list(n), 'w9':random_list(n), 'w10':random_list(n),\n",
        "                           'w11': random_list(n), 'w12': random_list(n), 'w13':random_list(n), 'w14':random_list(n), 'w15':random_list(n), 'w16': random_list(n), 'w17':random_list(n), 'w18':random_list(n), 'w19':random_list(n), 'w20':random_list(n),\n",
        "                           'w21': random_list(n), 'w22': random_list(n), 'w23':random_list(n), 'w24':random_list(n), 'w25':random_list(n), 'w26': random_list(n), 'w27':random_list(n), 'w28':random_list(n), 'w29':random_list(n), 'w30':random_list(n),\n",
        "                           'w31': random_list(n), 'w32': random_list(n), 'w33':random_list(n), 'w34':random_list(n), 'w35':random_list(n), 'w36': random_list(n), 'w37':random_list(n), 'w38':random_list(n), 'w39':random_list(n), 'w40':random_list(n)})\n",
        "  women_df.index = man_list\n",
        "  man_df = pd.DataFrame({'w1': random_list(n), 'w2': random_list(n), 'w3':random_list(n), 'w4':random_list(n), 'w5':random_list(n), 'w6': random_list(n), 'w7':random_list(n), 'w8':random_list(n), 'w9':random_list(n), 'w10':random_list(n),\n",
        "                         'w11': random_list(n), 'w12': random_list(n), 'w13':random_list(n), 'w14':random_list(n), 'w15':random_list(n), 'w16': random_list(n), 'w17':random_list(n), 'w18':random_list(n), 'w19':random_list(n), 'w20':random_list(n),\n",
        "                         'w21': random_list(n), 'w22': random_list(n), 'w23':random_list(n), 'w24':random_list(n), 'w25':random_list(n), 'w26': random_list(n), 'w27':random_list(n), 'w28':random_list(n), 'w29':random_list(n), 'w30':random_list(n),\n",
        "                         'w31': random_list(n), 'w32': random_list(n), 'w33':random_list(n), 'w34':random_list(n), 'w35':random_list(n), 'w36': random_list(n), 'w37':random_list(n), 'w38':random_list(n), 'w39':random_list(n), 'w40':random_list(n)})                         \n",
        "  man_df.index = man_list\n",
        "  proposals, count = gale(man_list, women_list, man_df, women_df)\n",
        "  count_list.append(count)\n",
        "\n",
        "\n",
        "print(\"Maximum number of iterations: \", max(count_list))\n",
        "print(\"Minimum number of iterations: \", min(count_list))\n",
        "print(\"Minimum number of iterations: \", average(count_list))"
      ],
      "execution_count": 34,
      "outputs": [
        {
          "output_type": "stream",
          "text": [
            "Maximum number of iterations:  118\n",
            "Minimum number of iterations:  7\n",
            "Minimum number of iterations:  34.4\n"
          ],
          "name": "stdout"
        }
      ]
    },
    {
      "cell_type": "code",
      "metadata": {
        "colab": {
          "base_uri": "https://localhost:8080/",
          "height": 370
        },
        "id": "lM72UC4sZAWS",
        "outputId": "83a303fb-b7be-4310-fef7-674a52032aef"
      },
      "source": [
        "fig, ax = plt.subplots(figsize = (20, 4))\n",
        "graph = sns.countplot(count_list, palette = 'Greens_r', ax=ax)\n",
        "graph.set(title = 'Distribución del número de iteraciones para 100 pruebas con n = 40', xlabel = 'Número de iteraciones', ylabel = 'Frecuencia absoluta')\n",
        "graph.plot()"
      ],
      "execution_count": 35,
      "outputs": [
        {
          "output_type": "stream",
          "text": [
            "/usr/local/lib/python3.6/dist-packages/seaborn/_decorators.py:43: FutureWarning: Pass the following variable as a keyword arg: x. From version 0.12, the only valid positional argument will be `data`, and passing other arguments without an explicit keyword will result in an error or misinterpretation.\n",
            "  FutureWarning\n"
          ],
          "name": "stderr"
        },
        {
          "output_type": "execute_result",
          "data": {
            "text/plain": [
              "[]"
            ]
          },
          "metadata": {
            "tags": []
          },
          "execution_count": 35
        },
        {
          "output_type": "display_data",
          "data": {
            "image/png": "[encoded data removed]",
            "text/plain": [
              "<Figure size 1440x288 with 1 Axes>"
            ]
          },
          "metadata": {
            "tags": [],
            "needs_background": "light"
          }
        }
      ]
    }
  ]
}