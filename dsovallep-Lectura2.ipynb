{
  "nbformat": 4,
  "nbformat_minor": 0,
  "metadata": {
    "kernelspec": {
      "display_name": "Python 3.5",
      "language": "python",
      "name": "py35"
    },
    "language_info": {
      "codemirror_mode": {
        "name": "ipython",
        "version": 3
      },
      "file_extension": ".py",
      "mimetype": "text/x-python",
      "name": "python",
      "nbconvert_exporter": "python",
      "pygments_lexer": "ipython3",
      "version": "3.5.9"
    },
    "colab": {
      "name": "dnunezqlecture2.ipynb",
      "provenance": []
    }
  },
  "cells": [
    {
      "cell_type": "markdown",
      "metadata": {
        "id": "sL4MNsvMm3P-"
      },
      "source": [
        "# Introduction to Python\n",
        "by Maxwell Margenot\n",
        "\n",
        "Part of the Quantopian Lecture Series:\n",
        "\n",
        "* [www.quantopian.com/lectures](https://www.quantopian.com/lectures)\n",
        "* [github.com/quantopian/research_public](https://github.com/quantopian/research_public)\n",
        "\n",
        "\n",
        "---\n",
        "\n",
        "All of the coding that you will do on the Quantopian platform will be in Python. It is also just a good, jack-of-all-trades language to know! Here we will provide you with the basics so that you can feel confident going through our other lectures and understanding what is happening."
      ]
    },
    {
      "cell_type": "markdown",
      "metadata": {
        "id": "hGRfYNtKm3QN"
      },
      "source": [
        "## Code Comments\n",
        "\n",
        "A comment is a note made by a programmer in the source code of a program. Its purpose is to clarify the source code and make it easier for people to follow along with what is happening. Anything in a comment is generally ignored when the code is actually run, making comments useful for including explanations and reasoning as well as removing specific lines of code that you may be unsure about. Comments in Python are created by using the pound symbol (`# Insert Text Here`). Including a `#` in a line of code will comment out anything that follows it."
      ]
    },
    {
      "cell_type": "code",
      "metadata": {
        "id": "vOJmq-zvm3QP"
      },
      "source": [
        "# This is a comment\n",
        "# These lines of code will not change any values\n",
        "# Anything following the first # is not run as code"
      ],
      "execution_count": null,
      "outputs": []
    },
    {
      "cell_type": "markdown",
      "metadata": {
        "id": "zMQdQRSVm3QQ"
      },
      "source": [
        "You may hear text enclosed in triple quotes (`\"\"\" Insert Text Here \"\"\"`) referred to as multi-line comments, but this is not entirely accurate. This is a special type of `string` (a data type we will cover), called a `docstring`, used to explain the purpose of a function."
      ]
    },
    {
      "cell_type": "code",
      "metadata": {
        "id": "yqd-nt4mm3QR",
        "outputId": "bba8eb2c-1dcb-4066-d232-3a4856a4f9bd"
      },
      "source": [
        "\"\"\" This is a special string \"\"\""
      ],
      "execution_count": null,
      "outputs": [
        {
          "output_type": "execute_result",
          "data": {
            "text/plain": [
              "' This is a special string '"
            ]
          },
          "metadata": {
            "tags": []
          },
          "execution_count": 2
        }
      ]
    },
    {
      "cell_type": "code",
      "metadata": {
        "id": "h2JiVaCCm3QU",
        "outputId": "41184481-40e1-4457-bb04-343c64220838"
      },
      "source": [
        "#2 tipos de comentarios\n",
        "\"\"\"se usa para comentarios mas extensos, permite salto de linea\n",
        " aquí está\"\"\""
      ],
      "execution_count": null,
      "outputs": [
        {
          "output_type": "execute_result",
          "data": {
            "text/plain": [
              "'se usa para comentarios mas extensos, permite salto de linea\\n aquí está'"
            ]
          },
          "metadata": {
            "tags": []
          },
          "execution_count": 3
        }
      ]
    },
    {
      "cell_type": "markdown",
      "metadata": {
        "id": "NLUT7Gptm3QW"
      },
      "source": [
        "Make sure you read the comments within each code cell (if they are there). They will provide more real-time explanations of what is going on as you look at each line of code."
      ]
    },
    {
      "cell_type": "markdown",
      "metadata": {
        "id": "klIAznpim3QX"
      },
      "source": [
        "## Variables\n",
        "\n",
        "Variables provide names for values in programming. If you want to save a value for later or repeated use, you give the value a name, storing the contents in a variable. Variables in programming work in a fundamentally similar way to variables in algebra, but in Python they can take on various different data types.\n",
        "\n",
        "The basic variable types that we will cover in this section are `integers`, `floating point numbers`, `booleans`, and `strings`. \n",
        "\n",
        "An `integer` in programming is the same as in mathematics, a round number with no values after the decimal point. We use the built-in `print` function here to display the values of our variables as well as their types!"
      ]
    },
    {
      "cell_type": "code",
      "metadata": {
        "id": "0CLTbOAYm3QY",
        "outputId": "005e86f1-1b61-4bc3-828b-db41821398fd"
      },
      "source": [
        "my_integer = 50\n",
        "print my_integer, type(my_integer)"
      ],
      "execution_count": null,
      "outputs": [
        {
          "output_type": "stream",
          "text": [
            "50 <class 'int'>\n"
          ],
          "name": "stdout"
        }
      ]
    },
    {
      "cell_type": "code",
      "metadata": {
        "id": "9OxsCeNNm3QZ",
        "outputId": "cfe5b470-cef1-46ad-c19a-01dbb1f239b7"
      },
      "source": [
        "my_float=0.5\n",
        "print my_float,type(my_float)"
      ],
      "execution_count": null,
      "outputs": [
        {
          "output_type": "stream",
          "text": [
            "0.5 <class 'float'>\n"
          ],
          "name": "stdout"
        }
      ]
    },
    {
      "cell_type": "markdown",
      "metadata": {
        "id": "gQzjC1dfm3Qa"
      },
      "source": [
        "Variables, regardless of type, are assigned by using a single equals sign (`=`). Variables are case-sensitive so any changes in variation in the capitals of a variable name will reference a different variable entirely."
      ]
    },
    {
      "cell_type": "code",
      "metadata": {
        "id": "O9P3X5Jdm3Qb",
        "outputId": "0c3908f4-27c0-4b7b-db56-bc3526c30842"
      },
      "source": [
        "one = 1\n",
        "print one"
      ],
      "execution_count": null,
      "outputs": [
        {
          "output_type": "stream",
          "text": [
            "1\n"
          ],
          "name": "stdout"
        }
      ]
    },
    {
      "cell_type": "code",
      "metadata": {
        "id": "vUkz4rpJm3Qc",
        "outputId": "cd1d3406-2d0b-4f39-b9f5-8f6b2cc0170a"
      },
      "source": [
        "ten= 10\n",
        "print(ten)"
      ],
      "execution_count": null,
      "outputs": [
        {
          "output_type": "stream",
          "text": [
            "10\n"
          ],
          "name": "stdout"
        }
      ]
    },
    {
      "cell_type": "markdown",
      "metadata": {
        "id": "TFUJK_xUm3Qc"
      },
      "source": [
        "A `floating point` number, or a `float` is a fancy name for a real number (again as in mathematics). To define a `float`, we need to either include a decimal point or specify that the value is a float."
      ]
    },
    {
      "cell_type": "code",
      "metadata": {
        "scrolled": true,
        "id": "TAJiFzSqm3Qd",
        "outputId": "536c1ce3-96bd-44bc-b199-5b320c04b51d"
      },
      "source": [
        "my_float = 1.0\n",
        "print my_float, type(my_float)\n",
        "my_float = float(1)\n",
        "print my_float, type(my_float)"
      ],
      "execution_count": null,
      "outputs": [
        {
          "output_type": "stream",
          "text": [
            "1.0 <class 'float'>\n",
            "1.0 <class 'float'>\n"
          ],
          "name": "stdout"
        }
      ]
    },
    {
      "cell_type": "code",
      "metadata": {
        "id": "GfoWQLJem3Qe",
        "outputId": "dae1e4d6-274d-4112-8efa-667c00a56c61"
      },
      "source": [
        "my_new_float=3.1416\n",
        "print my_new_float,type(my_float)\n",
        "#convert int to float\n",
        "my_new_float=float(3)\n",
        "print my_new_float,type(my_float)"
      ],
      "execution_count": null,
      "outputs": [
        {
          "output_type": "stream",
          "text": [
            "3.1416 <class 'float'>\n",
            "3.0 <class 'float'>\n"
          ],
          "name": "stdout"
        }
      ]
    },
    {
      "cell_type": "markdown",
      "metadata": {
        "id": "yeXtoGVmm3Qe"
      },
      "source": [
        "A variable of type `float` will not round the number that you store in it, while a variable of type `integer` will. This makes `floats` more suitable for mathematical calculations where you want more than just integers.\n",
        "\n",
        "Note that as we used the `float()` function to force an number to be considered a `float`, we can use the `int()` function to force a number to be considered an `int`."
      ]
    },
    {
      "cell_type": "code",
      "metadata": {
        "id": "hNYSCwk4m3Qf",
        "outputId": "00c49438-f961-495f-a25b-7c4f9812c207"
      },
      "source": [
        "my_int = int(3.14159)\n",
        "print my_int, type(my_int)"
      ],
      "execution_count": null,
      "outputs": [
        {
          "output_type": "stream",
          "text": [
            "3 <class 'int'>\n"
          ],
          "name": "stdout"
        }
      ]
    },
    {
      "cell_type": "code",
      "metadata": {
        "id": "WmQhwiv7m3Qg",
        "outputId": "5f134c42-5769-49f0-d398-a80ecd3fb966"
      },
      "source": [
        "new_int=int(2.4515)\n",
        "print new_int, type(new_int)"
      ],
      "execution_count": null,
      "outputs": [
        {
          "output_type": "stream",
          "text": [
            "2 <class 'int'>\n"
          ],
          "name": "stdout"
        }
      ]
    },
    {
      "cell_type": "markdown",
      "metadata": {
        "id": "Vud5_u0bm3Qg"
      },
      "source": [
        "The `int()` function will also truncate any digits that a number may have after the decimal point!\n",
        "\n",
        "Strings allow you to include text as a variable to operate on. They are defined using either single quotes ('') or double quotes (\"\")."
      ]
    },
    {
      "cell_type": "code",
      "metadata": {
        "id": "DXhzz85Bm3Qh",
        "outputId": "19330980-7b0a-41dc-bcdf-980473818eec"
      },
      "source": [
        "my_string = 'This is a string with single quotes'\n",
        "print my_string\n",
        "my_string = \"This is a string with double quotes\"\n",
        "print my_string"
      ],
      "execution_count": null,
      "outputs": [
        {
          "output_type": "stream",
          "text": [
            "This is a string with single quotes\n",
            "This is a string with double quotes\n"
          ],
          "name": "stdout"
        }
      ]
    },
    {
      "cell_type": "code",
      "metadata": {
        "id": "7iWv4FDJm3Qi",
        "outputId": "4c094364-c37c-4cfd-e65f-075ca5ec54e9"
      },
      "source": [
        "simple='Hello world'\n",
        "print simple\n",
        "double=\"new world\"\n",
        "print double"
      ],
      "execution_count": null,
      "outputs": [
        {
          "output_type": "stream",
          "text": [
            "Hello world\n",
            "new world\n"
          ],
          "name": "stdout"
        }
      ]
    },
    {
      "cell_type": "markdown",
      "metadata": {
        "id": "YzV4slQWm3Qi"
      },
      "source": [
        "Both are allowed so that we can include apostrophes or quotation marks in a string if we so choose."
      ]
    },
    {
      "cell_type": "code",
      "metadata": {
        "id": "02qDbgQ8m3Qj",
        "outputId": "22eb9e28-d37e-456c-b021-eb8aebb77cdb"
      },
      "source": [
        "my_string = '\"Jabberwocky\", by Lewis Carroll'\n",
        "print my_string\n",
        "my_string = \"'Twas brillig, and the slithy toves / Did gyre and gimble in the wabe;\"\n",
        "print my_string"
      ],
      "execution_count": null,
      "outputs": [
        {
          "output_type": "stream",
          "text": [
            "\"Jabberwocky\", by Lewis Carroll\n",
            "'Twas brillig, and the slithy toves / Did gyre and gimble in the wabe;\n"
          ],
          "name": "stdout"
        }
      ]
    },
    {
      "cell_type": "code",
      "metadata": {
        "id": "yVHZuLHHm3Qk",
        "outputId": "49d52216-e167-4782-d6c9-d15a5bc9164b"
      },
      "source": [
        "example='the new \"world\"'\n",
        "print example\n",
        "example ='8/2=4;'\n",
        "print example"
      ],
      "execution_count": null,
      "outputs": [
        {
          "output_type": "stream",
          "text": [
            "the new \"world\"\n",
            "8/2=4;\n"
          ],
          "name": "stdout"
        }
      ]
    },
    {
      "cell_type": "markdown",
      "metadata": {
        "id": "NLcT1WSXm3Qk"
      },
      "source": [
        "Booleans, or `bools` are binary variable types. A `bool` can only take on one of two values, these being `True` or `False`. There is much more to this idea of truth values when it comes to programming, which we cover later in the [Logical Operators](#id-section5) of this notebook."
      ]
    },
    {
      "cell_type": "code",
      "metadata": {
        "id": "yB5Xk_tXm3Qm",
        "outputId": "e57e1639-35fd-4843-8781-496ad620fdbd"
      },
      "source": [
        "my_bool = True\n",
        "print my_bool, type(my_bool)"
      ],
      "execution_count": null,
      "outputs": [
        {
          "output_type": "stream",
          "text": [
            "True <class 'bool'>\n"
          ],
          "name": "stdout"
        }
      ]
    },
    {
      "cell_type": "code",
      "metadata": {
        "id": "25CPVZJ6m3Qn",
        "outputId": "3b7ba6f5-a465-4a6c-a438-8f3b43a7f1d5"
      },
      "source": [
        "the_bool=False\n",
        "print the_bool,type(the_bool)"
      ],
      "execution_count": null,
      "outputs": [
        {
          "output_type": "stream",
          "text": [
            "False <class 'bool'>\n"
          ],
          "name": "stdout"
        }
      ]
    },
    {
      "cell_type": "markdown",
      "metadata": {
        "id": "_XprGyLTm3Qn"
      },
      "source": [
        "There are many more data types that you can assign as variables in Python, but these are the basic ones! We will cover a few more later as we move through this tutorial."
      ]
    },
    {
      "cell_type": "markdown",
      "metadata": {
        "id": "-bRWirx3m3Qo"
      },
      "source": [
        "## Basic Math\n",
        "\n",
        "Python has a number of built-in math functions. These can be extended even further by importing the **math** package or by including any number of other calculation-based packages.\n",
        "\n",
        "All of the basic arithmetic operations are supported: `+`, `-`, `/`, and `*`. You can create exponents by using `**` and modular arithmetic is introduced with the mod operator, `%`."
      ]
    },
    {
      "cell_type": "code",
      "metadata": {
        "id": "DVFoBffTm3Qo",
        "outputId": "eaba6973-1fe5-4902-e319-3f9747007114"
      },
      "source": [
        "print 'Addition: ', 2 + 2\n",
        "print 'Subtraction: ', 7 - 4\n",
        "print 'Multiplication: ', 2 * 5\n",
        "print 'Division: ', 10 / 2\n",
        "print 'Exponentiation: ', 3**2"
      ],
      "execution_count": null,
      "outputs": [
        {
          "output_type": "stream",
          "text": [
            "Addition:  4\n",
            "Subtraction:  3\n",
            "Multiplication:  10\n",
            "Division:  5.0\n",
            "Exponentiation:  9\n"
          ],
          "name": "stdout"
        }
      ]
    },
    {
      "cell_type": "code",
      "metadata": {
        "id": "D4xvvGJxm3Qq",
        "outputId": "703c29d8-646f-4bd4-deb8-6fe0617d79ba"
      },
      "source": [
        "print 'Addition: ', 99+1\n",
        "print 'Subtraction: ', 100-1\n",
        "print 'Multiplication: ', 33*3\n",
        "print 'Division: ', 198/2\n",
        "print 'Exponentiation: ', 5**3"
      ],
      "execution_count": null,
      "outputs": [
        {
          "output_type": "stream",
          "text": [
            "Addition:  100\n",
            "Subtraction:  99\n",
            "Multiplication:  99\n",
            "Division:  99.0\n",
            "Exponentiation:  125\n"
          ],
          "name": "stdout"
        }
      ]
    },
    {
      "cell_type": "markdown",
      "metadata": {
        "id": "t1sx9rUUm3Qr"
      },
      "source": [
        "If you are not familiar with the the mod operator, it operates like a remainder function. If we type $15 \\ \\% \\ 4$, it will return the remainder after dividing $15$ by $4$."
      ]
    },
    {
      "cell_type": "code",
      "metadata": {
        "id": "m2ZzENMKm3Qs",
        "outputId": "ac5f331c-839e-463c-e3e4-290a6a377e50"
      },
      "source": [
        "print 'Modulo: ', 15 % 4"
      ],
      "execution_count": null,
      "outputs": [
        {
          "output_type": "stream",
          "text": [
            "Modulo:  3\n"
          ],
          "name": "stdout"
        }
      ]
    },
    {
      "cell_type": "code",
      "metadata": {
        "id": "HeFMBo0Wm3Qs",
        "outputId": "bbe3a9f0-4321-4db9-e508-8c34eed15dbd"
      },
      "source": [
        "print 'Modulo',100%3"
      ],
      "execution_count": null,
      "outputs": [
        {
          "output_type": "stream",
          "text": [
            "Modulo 1\n"
          ],
          "name": "stdout"
        }
      ]
    },
    {
      "cell_type": "markdown",
      "metadata": {
        "id": "NRumss7cm3Qt"
      },
      "source": [
        "Mathematical functions also work on variables!"
      ]
    },
    {
      "cell_type": "code",
      "metadata": {
        "scrolled": true,
        "id": "0Ggq-Nxzm3Qt",
        "outputId": "932b185c-ef1e-4235-e8c5-dc7a0539305d"
      },
      "source": [
        "first_integer = 4\n",
        "second_integer = 5\n",
        "print first_integer * second_integer"
      ],
      "execution_count": null,
      "outputs": [
        {
          "output_type": "stream",
          "text": [
            "20\n"
          ],
          "name": "stdout"
        }
      ]
    },
    {
      "cell_type": "code",
      "metadata": {
        "id": "bpPjHESzm3Qu",
        "outputId": "fcb5925c-7864-4386-a63c-4f0b792e1dad"
      },
      "source": [
        "i1=20\n",
        "i2=45\n",
        "print i1*i2"
      ],
      "execution_count": null,
      "outputs": [
        {
          "output_type": "stream",
          "text": [
            "900\n"
          ],
          "name": "stdout"
        }
      ]
    },
    {
      "cell_type": "markdown",
      "metadata": {
        "id": "1UW6Z1tIm3Qu"
      },
      "source": [
        "Make sure that your variables are floats if you want to have decimal points in your answer. If you perform math exclusively with integers, you get an integer. Including any float in the calculation will make the result a float."
      ]
    },
    {
      "cell_type": "code",
      "metadata": {
        "id": "V8Z2EQ7Km3Qv",
        "outputId": "0a0d5278-4c16-46fe-8328-6a88929175ac"
      },
      "source": [
        "first_integer = 11\n",
        "second_integer = 3\n",
        "print first_integer / second_integer"
      ],
      "execution_count": null,
      "outputs": [
        {
          "output_type": "stream",
          "text": [
            "3.6666666666666665\n"
          ],
          "name": "stdout"
        }
      ]
    },
    {
      "cell_type": "code",
      "metadata": {
        "id": "iYljY69Ym3Qw",
        "outputId": "f532f90d-6b2f-471c-f813-b960ca880c82"
      },
      "source": [
        "first_number = 11.0\n",
        "second_number = 3.0\n",
        "print first_number / second_number"
      ],
      "execution_count": null,
      "outputs": [
        {
          "output_type": "stream",
          "text": [
            "3.6666666666666665\n"
          ],
          "name": "stdout"
        }
      ]
    },
    {
      "cell_type": "code",
      "metadata": {
        "id": "Z5UccFKwm3Qw",
        "outputId": "f6a1e4de-3db2-4a7d-ff16-49c667f6c03c"
      },
      "source": [
        "first_int=100\n",
        "second_int=3\n",
        "print first_int/second_int"
      ],
      "execution_count": null,
      "outputs": [
        {
          "output_type": "stream",
          "text": [
            "33.333333333333336\n"
          ],
          "name": "stdout"
        }
      ]
    },
    {
      "cell_type": "code",
      "metadata": {
        "id": "bhYIuyOAm3Qx",
        "outputId": "d7f79b04-2542-41fb-feba-86ab0205127d"
      },
      "source": [
        "first_num=100.0\n",
        "second_num=3\n",
        "print first_num/second_num"
      ],
      "execution_count": null,
      "outputs": [
        {
          "output_type": "stream",
          "text": [
            "33.333333333333336\n"
          ],
          "name": "stdout"
        }
      ]
    },
    {
      "cell_type": "markdown",
      "metadata": {
        "id": "gNGcbGi3m3Qx"
      },
      "source": [
        "Python has a few built-in math functions. The most notable of these are:\n",
        "\n",
        "* `abs()`\n",
        "* `round()`\n",
        "* `max()`\n",
        "* `min()`\n",
        "* `sum()`\n",
        "\n",
        "These functions all act as you would expect, given their names. Calling `abs()` on a number will return its absolute value. The `round()` function will round a number to a specified number of the decimal points (the default is $0$). Calling `max()` or `min()` on a collection of numbers will return, respectively, the maximum or minimum value in the collection. Calling `sum()` on a collection of numbers will add them all up. If you're not familiar with how collections of values in Python work, don't worry! We will cover collections in-depth in the next section. \n",
        "\n",
        "Additional math functionality can be added in with the `math` package."
      ]
    },
    {
      "cell_type": "code",
      "metadata": {
        "id": "lCuAx0Zym3Qy"
      },
      "source": [
        "import math"
      ],
      "execution_count": null,
      "outputs": []
    },
    {
      "cell_type": "markdown",
      "metadata": {
        "id": "Q4x5vjAGm3Qy"
      },
      "source": [
        "The math library adds a long list of new mathematical functions to Python. Feel free to check out the [documentation](https://docs.python.org/2/library/math.html) for the full list and details. It concludes some mathematical constants"
      ]
    },
    {
      "cell_type": "code",
      "metadata": {
        "id": "9Xn14Bxbm3Qz",
        "outputId": "6621664b-9e4c-4569-b271-8c51e50e45f5"
      },
      "source": [
        "print 'Pi: ', math.pi\n",
        "print \"Euler's Constant: \", math.e"
      ],
      "execution_count": null,
      "outputs": [
        {
          "output_type": "stream",
          "text": [
            "Pi:  3.141592653589793\n",
            "Euler's Constant:  2.718281828459045\n"
          ],
          "name": "stdout"
        }
      ]
    },
    {
      "cell_type": "code",
      "metadata": {
        "id": "mAi0a7nfm3Qz",
        "outputId": "b34881da-bf89-47aa-9397-16e506a816d4"
      },
      "source": [
        "math.log(10)"
      ],
      "execution_count": null,
      "outputs": [
        {
          "output_type": "execute_result",
          "data": {
            "text/plain": [
              "2.302585092994046"
            ]
          },
          "metadata": {
            "tags": []
          },
          "execution_count": 30
        }
      ]
    },
    {
      "cell_type": "markdown",
      "metadata": {
        "id": "QozljSY-m3Q0"
      },
      "source": [
        "As well as some commonly used math functions"
      ]
    },
    {
      "cell_type": "code",
      "metadata": {
        "id": "iSWiNtPTm3Q1",
        "outputId": "e1de42bb-a3a6-463f-a363-02137b555cf3"
      },
      "source": [
        "print 'Cosine of pi: ', math.cos(math.pi)"
      ],
      "execution_count": null,
      "outputs": [
        {
          "output_type": "stream",
          "text": [
            "Cosine of pi:  -1.0\n"
          ],
          "name": "stdout"
        }
      ]
    },
    {
      "cell_type": "code",
      "metadata": {
        "id": "A-DAhSXBm3Q1",
        "outputId": "0c7ce3b4-cc3a-4921-b4c0-588c6808d741"
      },
      "source": [
        "print 'sin of pi', math.sin(math.pi)"
      ],
      "execution_count": null,
      "outputs": [
        {
          "output_type": "stream",
          "text": [
            "sin of pi 1.2246467991473532e-16\n"
          ],
          "name": "stdout"
        }
      ]
    },
    {
      "cell_type": "markdown",
      "metadata": {
        "id": "_PLCoodLm3Q2"
      },
      "source": [
        "## Collections\n",
        "### Lists\n",
        "\n",
        "A `list` in Python is an ordered collection of objects that can contain any data type. We define a `list` using brackets (`[]`)."
      ]
    },
    {
      "cell_type": "code",
      "metadata": {
        "id": "hrWbXttGm3Q3",
        "outputId": "f1cc57e8-5cc9-4a22-9326-3c665feac116"
      },
      "source": [
        "my_list = [1, 2, 3]\n",
        "print my_list"
      ],
      "execution_count": null,
      "outputs": [
        {
          "output_type": "stream",
          "text": [
            "[1, 2, 3]\n"
          ],
          "name": "stdout"
        }
      ]
    },
    {
      "cell_type": "code",
      "metadata": {
        "id": "CCYgmiwBm3Q3",
        "outputId": "96b7b15d-aeda-4fb8-ae5e-c76f4bc827df"
      },
      "source": [
        "new_list=[5,4,3,2,1]\n",
        "print(new_list)"
      ],
      "execution_count": null,
      "outputs": [
        {
          "output_type": "stream",
          "text": [
            "[5, 4, 3, 2, 1]\n"
          ],
          "name": "stdout"
        }
      ]
    },
    {
      "cell_type": "markdown",
      "metadata": {
        "id": "uUkd7OsQm3Q4"
      },
      "source": [
        "We can access and index the list by using brackets as well. In order to select an individual element, simply type the list name followed by the index of the item you are looking for in braces."
      ]
    },
    {
      "cell_type": "code",
      "metadata": {
        "id": "aDiZ1EW5m3Q4",
        "outputId": "19ec6cf4-1efd-4f7d-d309-937feec70d31"
      },
      "source": [
        "print my_list[0]\n",
        "print my_list[2]"
      ],
      "execution_count": null,
      "outputs": [
        {
          "output_type": "stream",
          "text": [
            "1\n",
            "3\n"
          ],
          "name": "stdout"
        }
      ]
    },
    {
      "cell_type": "code",
      "metadata": {
        "id": "FX4agTpum3Q5",
        "outputId": "ccdb0e53-2faa-446f-f6e9-c2ea10b32ef8"
      },
      "source": [
        "print new_list[2]\n",
        "print new_list[1]"
      ],
      "execution_count": null,
      "outputs": [
        {
          "output_type": "stream",
          "text": [
            "3\n",
            "4\n"
          ],
          "name": "stdout"
        }
      ]
    },
    {
      "cell_type": "markdown",
      "metadata": {
        "id": "LJKWimn-m3Q6"
      },
      "source": [
        "Indexing in Python starts from $0$. If you have a list of length $n$, the first element of the list is at index $0$, the second element is at index $1$, and so on and so forth. The final element of the list will be at index $n-1$. Be careful! Trying to access a non-existent index will cause an error."
      ]
    },
    {
      "cell_type": "code",
      "metadata": {
        "id": "3r9ZH0F5m3Q6",
        "outputId": "f0a3b512-2be2-4694-f28b-52c47d52650a"
      },
      "source": [
        "print 'The first, second, and third list elements: ', my_list[0], my_list[1], my_list[2]\n",
        "#print 'Accessing outside the list bounds causes an error: ', my_list[3]"
      ],
      "execution_count": null,
      "outputs": [
        {
          "output_type": "stream",
          "text": [
            "The first, second, and third list elements:  1 2 3\n"
          ],
          "name": "stdout"
        }
      ]
    },
    {
      "cell_type": "code",
      "metadata": {
        "id": "rGjXjGbpm3Q7",
        "outputId": "7a6fa2c4-5f70-47ca-92cb-5d9e038420b3"
      },
      "source": [
        "print 'The first, second, and third new_list elements: ', new_list[0], new_list[1], new_list[2]\n",
        "#print 'list index out of range: ', new_list[5]"
      ],
      "execution_count": null,
      "outputs": [
        {
          "output_type": "stream",
          "text": [
            "The first, second, and third new_list elements:  5 4 3\n"
          ],
          "name": "stdout"
        }
      ]
    },
    {
      "cell_type": "markdown",
      "metadata": {
        "id": "E3nBm94fm3Q8"
      },
      "source": [
        "We can see the number of elements in a list by calling the `len()` function."
      ]
    },
    {
      "cell_type": "code",
      "metadata": {
        "id": "JokEubgLm3Q8",
        "outputId": "6d6961e4-1f6c-4a4e-83da-f7e7efa32b8d"
      },
      "source": [
        "print len(my_list)"
      ],
      "execution_count": null,
      "outputs": [
        {
          "output_type": "stream",
          "text": [
            "3\n"
          ],
          "name": "stdout"
        }
      ]
    },
    {
      "cell_type": "code",
      "metadata": {
        "id": "uzbmRmY4m3Q9",
        "outputId": "d1a80ac6-dffe-44f5-978f-5d38f4c824b4"
      },
      "source": [
        "print len(new_list)"
      ],
      "execution_count": null,
      "outputs": [
        {
          "output_type": "stream",
          "text": [
            "5\n"
          ],
          "name": "stdout"
        }
      ]
    },
    {
      "cell_type": "markdown",
      "metadata": {
        "id": "zW3OLB1Hm3Q9"
      },
      "source": [
        "We can update and change a list by accessing an index and assigning new value."
      ]
    },
    {
      "cell_type": "code",
      "metadata": {
        "id": "Oul_nCf7m3Q-",
        "outputId": "1269a108-a754-45c7-f373-03af4bade809"
      },
      "source": [
        "print my_list\n",
        "my_list[0] = 42\n",
        "print my_list"
      ],
      "execution_count": null,
      "outputs": [
        {
          "output_type": "stream",
          "text": [
            "[1, 2, 3]\n",
            "[42, 2, 3]\n"
          ],
          "name": "stdout"
        }
      ]
    },
    {
      "cell_type": "code",
      "metadata": {
        "id": "ovCIUEoym3Q-",
        "outputId": "581a1ff0-a09b-4a32-93e6-0b1fb7b85680"
      },
      "source": [
        "print new_list\n",
        "new_list[4]=-1\n",
        "print new_list"
      ],
      "execution_count": null,
      "outputs": [
        {
          "output_type": "stream",
          "text": [
            "[5, 4, 3, 2, 1]\n",
            "[5, 4, 3, 2, -1]\n"
          ],
          "name": "stdout"
        }
      ]
    },
    {
      "cell_type": "markdown",
      "metadata": {
        "id": "L2rxO1L0m3Q_"
      },
      "source": [
        "This is fundamentally different from how strings are handled. A `list` is mutable, meaning that you can change a `list`'s elements without changing the list itself. Some data types, like `strings`, are immutable, meaning you cannot change them at all. Once a `string` or other immutable data type has been created, it cannot be directly modified without creating an entirely new object."
      ]
    },
    {
      "cell_type": "code",
      "metadata": {
        "id": "tE6NOaAOm3Q_"
      },
      "source": [
        "my_string = \"Strings never change\"\n",
        "#my_string[0] = 'Z'"
      ],
      "execution_count": null,
      "outputs": []
    },
    {
      "cell_type": "code",
      "metadata": {
        "id": "mr5QIIhGm3RA"
      },
      "source": [
        "new_string=\"un string no se puede modificar, pero si se puede acceder a sus elementos o caracteres\"\n",
        "#new_string[-1]='?'"
      ],
      "execution_count": null,
      "outputs": []
    },
    {
      "cell_type": "markdown",
      "metadata": {
        "id": "-tf5DumPm3RA"
      },
      "source": [
        "As we stated before, a list can contain any data type. Thus, lists can also contain strings."
      ]
    },
    {
      "cell_type": "code",
      "metadata": {
        "id": "v_s7_NFVm3RB",
        "outputId": "091633c7-da71-4504-cc2e-a1db23716a66"
      },
      "source": [
        "my_list_2 = ['one', 'two', 'three']\n",
        "print my_list_2"
      ],
      "execution_count": null,
      "outputs": [
        {
          "output_type": "stream",
          "text": [
            "['one', 'two', 'three']\n"
          ],
          "name": "stdout"
        }
      ]
    },
    {
      "cell_type": "code",
      "metadata": {
        "id": "MjU3OgAqm3RB",
        "outputId": "544ecc64-b6c8-44c8-cf0e-95716e82bc19"
      },
      "source": [
        "list_2=[\"five\",\"four\",'three','two']\n",
        "print list_2"
      ],
      "execution_count": null,
      "outputs": [
        {
          "output_type": "stream",
          "text": [
            "['five', 'four', 'three', 'two']\n"
          ],
          "name": "stdout"
        }
      ]
    },
    {
      "cell_type": "markdown",
      "metadata": {
        "id": "ETIYeQJYm3RC"
      },
      "source": [
        "Lists can also contain multiple different data types at once!"
      ]
    },
    {
      "cell_type": "code",
      "metadata": {
        "id": "0GBmxmtHm3RC"
      },
      "source": [
        "my_list_3 = [True, 'False', 42]"
      ],
      "execution_count": null,
      "outputs": []
    },
    {
      "cell_type": "code",
      "metadata": {
        "id": "zFpfGrIIm3RC"
      },
      "source": [
        "list_3=[\"False\",False,180]"
      ],
      "execution_count": null,
      "outputs": []
    },
    {
      "cell_type": "markdown",
      "metadata": {
        "id": "36XqfxZam3RD"
      },
      "source": [
        "If you want to put two lists together, they can be combined with a `+` symbol."
      ]
    },
    {
      "cell_type": "code",
      "metadata": {
        "id": "56rXS_eim3RD",
        "outputId": "3a8def73-65d7-4dc3-ed2f-8eb9c74e9270"
      },
      "source": [
        "my_list_4 = my_list + my_list_2 + my_list_3\n",
        "print my_list_4"
      ],
      "execution_count": null,
      "outputs": [
        {
          "output_type": "stream",
          "text": [
            "[42, 2, 3, 'one', 'two', 'three', True, 'False', 42]\n"
          ],
          "name": "stdout"
        }
      ]
    },
    {
      "cell_type": "code",
      "metadata": {
        "id": "7oylL8cZm3RE",
        "outputId": "599ec3da-b682-4d7e-a659-00b498b765f0"
      },
      "source": [
        "combination_list=new_list+list_2+list_3\n",
        "print combination_list"
      ],
      "execution_count": null,
      "outputs": [
        {
          "output_type": "stream",
          "text": [
            "[5, 4, 3, 2, -1, 'five', 'four', 'three', 'two', 'False', False, 180]\n"
          ],
          "name": "stdout"
        }
      ]
    },
    {
      "cell_type": "markdown",
      "metadata": {
        "id": "q_WjBPM1m3RE"
      },
      "source": [
        "In addition to accessing individual elements of a list, we can access groups of elements through slicing."
      ]
    },
    {
      "cell_type": "code",
      "metadata": {
        "id": "Ndx1Vykcm3RF"
      },
      "source": [
        "my_list = ['friends', 'romans', 'countrymen', 'lend', 'me', 'your', 'ears']"
      ],
      "execution_count": null,
      "outputs": []
    },
    {
      "cell_type": "code",
      "metadata": {
        "id": "ANoX7O2Mm3RF"
      },
      "source": [
        "new_list=[\"Microsoft\",\"apple\",\"facebook\",\"google\",\"amazon\"]"
      ],
      "execution_count": null,
      "outputs": []
    },
    {
      "cell_type": "markdown",
      "metadata": {
        "id": "cdF3njbFm3RG"
      },
      "source": [
        "#### Slicing\n",
        "\n",
        "We use the colon (`:`) to slice lists. "
      ]
    },
    {
      "cell_type": "code",
      "metadata": {
        "scrolled": true,
        "id": "u1QumiSPm3RG",
        "outputId": "aa3af222-d69b-4bc6-942d-b3caa6ef33d5"
      },
      "source": [
        "print my_list[2:4]"
      ],
      "execution_count": null,
      "outputs": [
        {
          "output_type": "stream",
          "text": [
            "['countrymen', 'lend']\n"
          ],
          "name": "stdout"
        }
      ]
    },
    {
      "cell_type": "code",
      "metadata": {
        "id": "JZ55sqLzm3RH",
        "outputId": "a765da16-557e-4de5-9d2c-8eb6c76ee8a0"
      },
      "source": [
        "print(new_list[1:2])"
      ],
      "execution_count": null,
      "outputs": [
        {
          "output_type": "stream",
          "text": [
            "['apple']\n"
          ],
          "name": "stdout"
        }
      ]
    },
    {
      "cell_type": "markdown",
      "metadata": {
        "id": "l37VJyaTm3RI"
      },
      "source": [
        "Using `:` we can select a group of elements in the list starting from the first element indicated and going up to  (but not including) the last element indicated.\n",
        "\n",
        "We can also select everything after a certain point"
      ]
    },
    {
      "cell_type": "code",
      "metadata": {
        "scrolled": true,
        "id": "0CO-H63cm3RI",
        "outputId": "9d96d53a-0e47-4de0-e0aa-eb02982c1780"
      },
      "source": [
        "print my_list[1:]"
      ],
      "execution_count": null,
      "outputs": [
        {
          "output_type": "stream",
          "text": [
            "['romans', 'countrymen', 'lend', 'me', 'your', 'ears']\n"
          ],
          "name": "stdout"
        }
      ]
    },
    {
      "cell_type": "code",
      "metadata": {
        "id": "ysTQgyGym3RJ",
        "outputId": "6ce3fe86-ba1b-4a50-c862-4ee6e0c0e24e"
      },
      "source": [
        "print new_list[3:]"
      ],
      "execution_count": null,
      "outputs": [
        {
          "output_type": "stream",
          "text": [
            "['google', 'amazon']\n"
          ],
          "name": "stdout"
        }
      ]
    },
    {
      "cell_type": "markdown",
      "metadata": {
        "id": "tXNcN26wm3RJ"
      },
      "source": [
        "And everything before a certain point"
      ]
    },
    {
      "cell_type": "code",
      "metadata": {
        "scrolled": true,
        "id": "Ftf3McDkm3RJ",
        "outputId": "ddfece55-e27b-4db1-d075-ff7881db7d96"
      },
      "source": [
        "print my_list[:4]"
      ],
      "execution_count": null,
      "outputs": [
        {
          "output_type": "stream",
          "text": [
            "['friends', 'romans', 'countrymen', 'lend']\n"
          ],
          "name": "stdout"
        }
      ]
    },
    {
      "cell_type": "code",
      "metadata": {
        "id": "G97x5mVrm3RK",
        "outputId": "d849cfd8-12d2-407c-f38c-64a6277d3490"
      },
      "source": [
        "print new_list[:3]"
      ],
      "execution_count": null,
      "outputs": [
        {
          "output_type": "stream",
          "text": [
            "['Microsoft', 'apple', 'facebook']\n"
          ],
          "name": "stdout"
        }
      ]
    },
    {
      "cell_type": "markdown",
      "metadata": {
        "id": "1_vQMCdum3RL"
      },
      "source": [
        "Using negative numbers will count from the end of the indices instead of from the beginning. For example, an index of `-1` indicates the last element of the list."
      ]
    },
    {
      "cell_type": "code",
      "metadata": {
        "id": "h3hod8rvm3RL",
        "outputId": "4c244477-9b0d-44aa-bae2-fd8d62682c93"
      },
      "source": [
        "print my_list[-1]"
      ],
      "execution_count": null,
      "outputs": [
        {
          "output_type": "stream",
          "text": [
            "ears\n"
          ],
          "name": "stdout"
        }
      ]
    },
    {
      "cell_type": "code",
      "metadata": {
        "id": "R7nFu5CWm3RM",
        "outputId": "7ae442df-8961-4204-a6e5-1108e1b2d673"
      },
      "source": [
        "print new_list[-1]"
      ],
      "execution_count": null,
      "outputs": [
        {
          "output_type": "stream",
          "text": [
            "amazon\n"
          ],
          "name": "stdout"
        }
      ]
    },
    {
      "cell_type": "markdown",
      "metadata": {
        "id": "zP-8Gx9rm3RM"
      },
      "source": [
        "You can also add a third component to slicing. Instead of simply indicating the first and final parts of your slice, you can specify the step size that you want to take. So instead of taking every single element, you can take every other element."
      ]
    },
    {
      "cell_type": "code",
      "metadata": {
        "id": "sCuG3O4cm3RN",
        "outputId": "f8a71a79-9f7d-42e1-ff44-aee1939fc24d"
      },
      "source": [
        "print my_list[0:7:2]"
      ],
      "execution_count": null,
      "outputs": [
        {
          "output_type": "stream",
          "text": [
            "['friends', 'countrymen', 'me', 'ears']\n"
          ],
          "name": "stdout"
        }
      ]
    },
    {
      "cell_type": "code",
      "metadata": {
        "id": "mz-0w34zm3RN",
        "outputId": "94e90628-e72e-4b86-aba8-fb56512b4169"
      },
      "source": [
        "print new_list[1:5:3]"
      ],
      "execution_count": null,
      "outputs": [
        {
          "output_type": "stream",
          "text": [
            "['apple', 'amazon']\n"
          ],
          "name": "stdout"
        }
      ]
    },
    {
      "cell_type": "markdown",
      "metadata": {
        "id": "dCIP625zm3RO"
      },
      "source": [
        "Here we have selected the entire list (because `0:7` will yield elements `0` through `6`) and we have selected a step size of `2`. So this will spit out element `0` , element `2`, element `4`, and so on through the list element selected. We can skip indicated the beginning and end of our slice, only indicating the step, if we like."
      ]
    },
    {
      "cell_type": "code",
      "metadata": {
        "id": "Wu29Fdpum3RO",
        "outputId": "cb1e3191-54fc-44cb-ffe7-9911548ecb28"
      },
      "source": [
        "print my_list[::2]"
      ],
      "execution_count": null,
      "outputs": [
        {
          "output_type": "stream",
          "text": [
            "['friends', 'countrymen', 'me', 'ears']\n"
          ],
          "name": "stdout"
        }
      ]
    },
    {
      "cell_type": "code",
      "metadata": {
        "id": "qZUvby_-m3RP",
        "outputId": "aa6f4257-60c5-49e9-e268-94379719a06b"
      },
      "source": [
        "\n",
        "\n",
        "print new_list[::3]"
      ],
      "execution_count": null,
      "outputs": [
        {
          "output_type": "stream",
          "text": [
            "['Microsoft', 'google']\n"
          ],
          "name": "stdout"
        }
      ]
    },
    {
      "cell_type": "markdown",
      "metadata": {
        "id": "q1wLNwHbm3RP"
      },
      "source": [
        "Lists implictly select the beginning and end of the list when not otherwise specified."
      ]
    },
    {
      "cell_type": "code",
      "metadata": {
        "id": "-3lQ-3PYm3RP",
        "outputId": "82156806-e938-4855-ed96-573c413a03e1"
      },
      "source": [
        "print my_list[:]"
      ],
      "execution_count": null,
      "outputs": [
        {
          "output_type": "stream",
          "text": [
            "['friends', 'romans', 'countrymen', 'lend', 'me', 'your', 'ears']\n"
          ],
          "name": "stdout"
        }
      ]
    },
    {
      "cell_type": "code",
      "metadata": {
        "id": "weN2tudCm3RQ",
        "outputId": "7825da89-d64a-4110-b1d4-a87fe3a9c4cc"
      },
      "source": [
        "print new_list[::]"
      ],
      "execution_count": null,
      "outputs": [
        {
          "output_type": "stream",
          "text": [
            "['Microsoft', 'apple', 'facebook', 'google', 'amazon']\n"
          ],
          "name": "stdout"
        }
      ]
    },
    {
      "cell_type": "markdown",
      "metadata": {
        "id": "Fcu-VlUYm3RR"
      },
      "source": [
        "With a negative step size we can even reverse the list!"
      ]
    },
    {
      "cell_type": "code",
      "metadata": {
        "id": "8M6AWR8Qm3RR",
        "outputId": "bc177142-5166-476a-d9d8-a9e6c7a216bb"
      },
      "source": [
        "print my_list[::-1]"
      ],
      "execution_count": null,
      "outputs": [
        {
          "output_type": "stream",
          "text": [
            "['ears', 'your', 'me', 'lend', 'countrymen', 'romans', 'friends']\n"
          ],
          "name": "stdout"
        }
      ]
    },
    {
      "cell_type": "code",
      "metadata": {
        "id": "c9RwkW5hm3RR",
        "outputId": "970bac3f-7332-4bb6-e133-04f53e15a020"
      },
      "source": [
        "print my_list[::-1]"
      ],
      "execution_count": null,
      "outputs": [
        {
          "output_type": "stream",
          "text": [
            "['ears', 'your', 'me', 'lend', 'countrymen', 'romans', 'friends']\n"
          ],
          "name": "stdout"
        }
      ]
    },
    {
      "cell_type": "markdown",
      "metadata": {
        "id": "hge6Cx9gm3RS"
      },
      "source": [
        "Python does not have native matrices, but with lists we can produce a working fascimile. Other packages, such as `numpy`, add matrices as a separate data type, but in base Python the best way to create a matrix is to use a list of lists."
      ]
    },
    {
      "cell_type": "markdown",
      "metadata": {
        "id": "agOcnDHqm3RS"
      },
      "source": [
        "We can also use built-in functions to generate lists. In particular we will look at `range()` (because we will be using it later!). Range can take several different inputs and will return a list."
      ]
    },
    {
      "cell_type": "code",
      "metadata": {
        "id": "XW_w2_aum3RT",
        "outputId": "fbb2b449-c7b1-4621-d661-69c219041ad5"
      },
      "source": [
        "b = 10\n",
        "my_list = range(b)\n",
        "print my_list"
      ],
      "execution_count": null,
      "outputs": [
        {
          "output_type": "stream",
          "text": [
            "range(0, 10)\n"
          ],
          "name": "stdout"
        }
      ]
    },
    {
      "cell_type": "code",
      "metadata": {
        "id": "oYcdtowGm3RT",
        "outputId": "0af1151a-ade2-4250-cae8-00f4dce69da7"
      },
      "source": [
        "new_list=range(100)\n",
        "print new_list"
      ],
      "execution_count": null,
      "outputs": [
        {
          "output_type": "stream",
          "text": [
            "range(0, 100)\n"
          ],
          "name": "stdout"
        }
      ]
    },
    {
      "cell_type": "markdown",
      "metadata": {
        "id": "Z-2JY-QCm3RU"
      },
      "source": [
        "Similar to our list-slicing methods from before, we can define both a start and an end for our range. This will return a list that is includes the start and excludes the end, just like a slice."
      ]
    },
    {
      "cell_type": "code",
      "metadata": {
        "id": "bVKThBg2m3RU",
        "outputId": "1abf6122-642e-459b-d83c-e2cb62ccae05"
      },
      "source": [
        "a = 0\n",
        "b = 10\n",
        "my_list = range(a, b)\n",
        "print my_list"
      ],
      "execution_count": null,
      "outputs": [
        {
          "output_type": "stream",
          "text": [
            "range(0, 10)\n"
          ],
          "name": "stdout"
        }
      ]
    },
    {
      "cell_type": "code",
      "metadata": {
        "id": "JCEl9bOCm3RV",
        "outputId": "2adde23b-2a50-43d4-ccaf-62f526b01033"
      },
      "source": [
        "new_list = range(50,60)\n",
        "print new_list"
      ],
      "execution_count": null,
      "outputs": [
        {
          "output_type": "stream",
          "text": [
            "range(50, 60)\n"
          ],
          "name": "stdout"
        }
      ]
    },
    {
      "cell_type": "markdown",
      "metadata": {
        "id": "FT_YlufRm3RV"
      },
      "source": [
        "We can also specify a step size. This again has the same behavior as a slice."
      ]
    },
    {
      "cell_type": "code",
      "metadata": {
        "scrolled": true,
        "id": "aZsjaPkDm3RW",
        "outputId": "16f6b009-4752-4602-8c40-0930db70d624"
      },
      "source": [
        "a = 0\n",
        "b = 10\n",
        "step = 2\n",
        "my_list = range(a, b, step)\n",
        "print my_list"
      ],
      "execution_count": null,
      "outputs": [
        {
          "output_type": "stream",
          "text": [
            "range(0, 10, 2)\n"
          ],
          "name": "stdout"
        }
      ]
    },
    {
      "cell_type": "code",
      "metadata": {
        "id": "KprLAc1em3RW",
        "outputId": "50b51fc9-09c4-4cc5-d3db-36f119209adf"
      },
      "source": [
        "new_list=range(50,100,10)\n",
        "print new_list"
      ],
      "execution_count": null,
      "outputs": [
        {
          "output_type": "stream",
          "text": [
            "range(50, 100, 10)\n"
          ],
          "name": "stdout"
        }
      ]
    },
    {
      "cell_type": "markdown",
      "metadata": {
        "id": "Mi-BoaPem3RX"
      },
      "source": [
        "### Tuples\n",
        "\n",
        "A `tuple` is a data type similar to a list in that it can hold different kinds of data types. The key difference here is that a `tuple` is immutable. We define a `tuple` by separating the elements we want to include by commas. It is conventional to surround a `tuple` with parentheses."
      ]
    },
    {
      "cell_type": "code",
      "metadata": {
        "id": "Xh1Wyhszm3RX",
        "outputId": "8694ea7e-0e04-488a-d535-ec53ecae76be"
      },
      "source": [
        "my_tuple = 'I', 'have', 30, 'cats'\n",
        "print my_tuple"
      ],
      "execution_count": null,
      "outputs": [
        {
          "output_type": "stream",
          "text": [
            "('I', 'have', 30, 'cats')\n"
          ],
          "name": "stdout"
        }
      ]
    },
    {
      "cell_type": "code",
      "metadata": {
        "id": "rc0C4Zs0m3RY",
        "outputId": "e0ba0fc3-fa64-452e-dda9-015866a6dc51"
      },
      "source": [
        "my_tuple = ('I', 'have', 30, 'cats')\n",
        "print my_tuple"
      ],
      "execution_count": null,
      "outputs": [
        {
          "output_type": "stream",
          "text": [
            "('I', 'have', 30, 'cats')\n"
          ],
          "name": "stdout"
        }
      ]
    },
    {
      "cell_type": "code",
      "metadata": {
        "id": "Q7lxOyMdm3RZ",
        "outputId": "404bc370-442e-499d-a38b-2ba475b7df64"
      },
      "source": [
        "new_tuple= 'Hoy', 'perdieron' , 'por', 2,'goles'\n",
        "print(new_tuple)"
      ],
      "execution_count": null,
      "outputs": [
        {
          "output_type": "stream",
          "text": [
            "('Hoy', 'perdieron', 'por', 2, 'goles')\n"
          ],
          "name": "stdout"
        }
      ]
    },
    {
      "cell_type": "markdown",
      "metadata": {
        "id": "Qe0mNS2am3RZ"
      },
      "source": [
        "As mentioned before, tuples are immutable. You can't change any part of them without defining a new tuple."
      ]
    },
    {
      "cell_type": "code",
      "metadata": {
        "id": "3jpSNnb-m3Ra"
      },
      "source": [
        "#my_tuple[3] = 'dogs' # Attempts to change the 'cats' value stored in the the tuple to 'dogs'"
      ],
      "execution_count": null,
      "outputs": []
    },
    {
      "cell_type": "code",
      "metadata": {
        "id": "xYmyaXlhm3Ra"
      },
      "source": [
        "#new_tuple[1]='ganaron'"
      ],
      "execution_count": null,
      "outputs": []
    },
    {
      "cell_type": "markdown",
      "metadata": {
        "id": "Pa9YFmYBm3Rb"
      },
      "source": [
        "You can slice tuples the same way that you slice lists!"
      ]
    },
    {
      "cell_type": "code",
      "metadata": {
        "id": "NcuJJ_W2m3Rb",
        "outputId": "1c1650c9-b2fd-4e66-a8a1-7914b3f3fecb"
      },
      "source": [
        "print my_tuple[1:3]"
      ],
      "execution_count": null,
      "outputs": [
        {
          "output_type": "stream",
          "text": [
            "('have', 30)\n"
          ],
          "name": "stdout"
        }
      ]
    },
    {
      "cell_type": "code",
      "metadata": {
        "id": "0BuAR279m3Rc",
        "outputId": "bc963f37-0650-42a2-85a7-df232c49089d"
      },
      "source": [
        "print new_tuple[:2]"
      ],
      "execution_count": null,
      "outputs": [
        {
          "output_type": "stream",
          "text": [
            "('Hoy', 'perdieron')\n"
          ],
          "name": "stdout"
        }
      ]
    },
    {
      "cell_type": "markdown",
      "metadata": {
        "id": "yda8eBSMm3Rc"
      },
      "source": [
        "And concatenate them the way that you would with strings!"
      ]
    },
    {
      "cell_type": "code",
      "metadata": {
        "id": "qmJMjUdmm3Rd",
        "outputId": "24e8a84b-254f-4b01-9823-a36792f4b267"
      },
      "source": [
        "my_other_tuple = ('make', 'that', 50)\n",
        "print my_tuple + my_other_tuple"
      ],
      "execution_count": null,
      "outputs": [
        {
          "output_type": "stream",
          "text": [
            "('I', 'have', 30, 'cats', 'make', 'that', 50)\n"
          ],
          "name": "stdout"
        }
      ]
    },
    {
      "cell_type": "code",
      "metadata": {
        "id": "gpOaqCzGm3Rd",
        "outputId": "64aa66a8-63a3-4c1a-bed4-1f7962846b89"
      },
      "source": [
        "other_tuple=(' pero','anotaron',1,'gol')\n",
        "print new_tuple+other_tuple"
      ],
      "execution_count": null,
      "outputs": [
        {
          "output_type": "stream",
          "text": [
            "('Hoy', 'perdieron', 'por', 2, 'goles', ' pero', 'anotaron', 1, 'gol')\n"
          ],
          "name": "stdout"
        }
      ]
    },
    {
      "cell_type": "markdown",
      "metadata": {
        "id": "Knlvan8Wm3Re"
      },
      "source": [
        "We can 'pack' values together, creating a tuple (as above), or we can 'unpack' values from a tuple, taking them out."
      ]
    },
    {
      "cell_type": "code",
      "metadata": {
        "id": "Q-CizMdIm3Re",
        "outputId": "7721915a-f159-4712-b732-1a90e27d6938"
      },
      "source": [
        "str_1, str_2, int_1 = my_other_tuple\n",
        "print str_1, str_2, int_1"
      ],
      "execution_count": null,
      "outputs": [
        {
          "output_type": "stream",
          "text": [
            "make that 50\n"
          ],
          "name": "stdout"
        }
      ]
    },
    {
      "cell_type": "code",
      "metadata": {
        "id": "MGdHdFC_m3Rf",
        "outputId": "63108937-068b-4d47-afbd-6f5cd6b7dc5b"
      },
      "source": [
        "s1,s2,s3,s4=other_tuple\n",
        "print s1,s2 ,s3,s4"
      ],
      "execution_count": null,
      "outputs": [
        {
          "output_type": "stream",
          "text": [
            " pero anotaron 1 gol\n"
          ],
          "name": "stdout"
        }
      ]
    },
    {
      "cell_type": "markdown",
      "metadata": {
        "id": "hjZmDkOFm3Rf"
      },
      "source": [
        "Unpacking assigns each value of the tuple in order to each variable on the left hand side of the equals sign. Some functions, including user-defined functions, may return tuples, so we can use this to directly unpack them and access the values that we want."
      ]
    },
    {
      "cell_type": "markdown",
      "metadata": {
        "id": "RU7pmzJdm3Rg"
      },
      "source": [
        "### Sets\n",
        "\n",
        "A `set` is a collection of unordered, unique elements. It works almost exactly as you would expect a normal set of things in mathematics to work and is defined using braces (`{}`)."
      ]
    },
    {
      "cell_type": "code",
      "metadata": {
        "id": "RVJO9Ktvm3Rg",
        "outputId": "0e2944f9-3f39-419c-80dc-2429de21ce9f"
      },
      "source": [
        "things_i_like = {'dogs', 7, 'the number 4', 4, 4, 4, 42, 'lizards', 'man I just LOVE the number 4'}\n",
        "print things_i_like, type(things_i_like)"
      ],
      "execution_count": null,
      "outputs": [
        {
          "output_type": "stream",
          "text": [
            "{'the number 4', 4, 7, 'lizards', 'dogs', 42, 'man I just LOVE the number 4'} <class 'set'>\n"
          ],
          "name": "stdout"
        }
      ]
    },
    {
      "cell_type": "code",
      "metadata": {
        "id": "Kkhh2zrIm3Rg",
        "outputId": "3df4b81e-d963-4243-ab73-4e29f4b6d302"
      },
      "source": [
        "natural_numbers={0,1,2,3,4,5,6,7,8,9}\n",
        "print natural_numbers, type(natural_numbers)"
      ],
      "execution_count": null,
      "outputs": [
        {
          "output_type": "stream",
          "text": [
            "{0, 1, 2, 3, 4, 5, 6, 7, 8, 9} <class 'set'>\n"
          ],
          "name": "stdout"
        }
      ]
    },
    {
      "cell_type": "markdown",
      "metadata": {
        "id": "fQuV36Vcm3Rh"
      },
      "source": [
        "Note how any extra instances of the same item are removed in the final set. We can also create a `set` from a list, using the `set()` function."
      ]
    },
    {
      "cell_type": "code",
      "metadata": {
        "id": "b-2YN28Sm3Rh",
        "outputId": "721dfa95-26ac-4f2f-e009-f1a9ca622697"
      },
      "source": [
        "animal_list = ['cats', 'dogs', 'dogs', 'dogs', 'lizards', 'sponges', 'cows', 'bats', 'sponges']\n",
        "animal_set = set(animal_list)\n",
        "print animal_set # Removes all extra instances from the list"
      ],
      "execution_count": null,
      "outputs": [
        {
          "output_type": "stream",
          "text": [
            "{'cows', 'dogs', 'cats', 'lizards', 'bats', 'sponges'}\n"
          ],
          "name": "stdout"
        }
      ]
    },
    {
      "cell_type": "code",
      "metadata": {
        "id": "y2l1MNP_m3Ri",
        "outputId": "f210cb22-328a-49f4-c0ac-b7b4e3e8ffb7"
      },
      "source": [
        "natural_list=[1,2,3,4,5,6,7]\n",
        "natural_set=set(natural_list)\n",
        "print natural_set"
      ],
      "execution_count": null,
      "outputs": [
        {
          "output_type": "stream",
          "text": [
            "{1, 2, 3, 4, 5, 6, 7}\n"
          ],
          "name": "stdout"
        }
      ]
    },
    {
      "cell_type": "markdown",
      "metadata": {
        "id": "ggg0PjY5m3Rj"
      },
      "source": [
        "Calling `len()` on a set will tell you how many elements are in it."
      ]
    },
    {
      "cell_type": "code",
      "metadata": {
        "id": "-nmX3r6Im3Rj",
        "outputId": "042ddbaa-1a4d-4a21-aa19-e86d9007a40e"
      },
      "source": [
        "print len(animal_set)"
      ],
      "execution_count": null,
      "outputs": [
        {
          "output_type": "stream",
          "text": [
            "6\n"
          ],
          "name": "stdout"
        }
      ]
    },
    {
      "cell_type": "code",
      "metadata": {
        "id": "ndWy9_4Qm3Rk",
        "outputId": "9e0f4934-e1b0-4bd7-e954-b18b8a13597a"
      },
      "source": [
        "print len(natural_set)"
      ],
      "execution_count": null,
      "outputs": [
        {
          "output_type": "stream",
          "text": [
            "7\n"
          ],
          "name": "stdout"
        }
      ]
    },
    {
      "cell_type": "markdown",
      "metadata": {
        "id": "XCEnkOQEm3Rk"
      },
      "source": [
        "Because a `set` is unordered, we can't access individual elements using an index. We can, however, easily check for membership (to see if something is contained in a set) and take the unions and intersections of sets by using the built-in set functions."
      ]
    },
    {
      "cell_type": "code",
      "metadata": {
        "scrolled": true,
        "id": "hz6FhIwtm3Rl",
        "outputId": "15bc4ed7-e28d-4ac4-ff94-8eeb56e4a76a"
      },
      "source": [
        "'cats' in animal_set # Here we check for membership using the `in` keyword."
      ],
      "execution_count": null,
      "outputs": [
        {
          "output_type": "execute_result",
          "data": {
            "text/plain": [
              "True"
            ]
          },
          "metadata": {
            "tags": []
          },
          "execution_count": 92
        }
      ]
    },
    {
      "cell_type": "code",
      "metadata": {
        "id": "c2A1E4oRm3Rl",
        "outputId": "4eccc54b-385c-43f9-b159-2f1fd1d22cc5"
      },
      "source": [
        "10 in natural_set"
      ],
      "execution_count": null,
      "outputs": [
        {
          "output_type": "execute_result",
          "data": {
            "text/plain": [
              "False"
            ]
          },
          "metadata": {
            "tags": []
          },
          "execution_count": 93
        }
      ]
    },
    {
      "cell_type": "code",
      "metadata": {
        "id": "l-gUIA5Im3Rm"
      },
      "source": [
        "negative_numbers={0,-1,-2,-3,-4,-5}"
      ],
      "execution_count": null,
      "outputs": []
    },
    {
      "cell_type": "markdown",
      "metadata": {
        "id": "iOi5RnSvm3Rm"
      },
      "source": [
        "Here we checked to see whether the string 'cats' was contained within our `animal_set` and it returned `True`, telling us that it is indeed in our set.\n",
        "\n",
        "We can connect sets by using typical mathematical set operators, namely `|`, for union, and `&`, for intersection. Using `|` or `&` will return exactly what you would expect if you are familiar with sets in mathematics."
      ]
    },
    {
      "cell_type": "code",
      "metadata": {
        "id": "4ssov4g6m3Rn",
        "outputId": "94e2a5f0-db6f-40a8-987f-40c2b136cfa9"
      },
      "source": [
        "print animal_set | things_i_like # You can also write things_i_like | animal_set with no difference"
      ],
      "execution_count": null,
      "outputs": [
        {
          "output_type": "stream",
          "text": [
            "{'cows', 'the number 4', 4, 'dogs', 'cats', 'lizards', 7, 42, 'man I just LOVE the number 4', 'bats', 'sponges'}\n"
          ],
          "name": "stdout"
        }
      ]
    },
    {
      "cell_type": "code",
      "metadata": {
        "id": "nSIgTmi4m3Rn",
        "outputId": "c0a61cb3-6361-472b-d41f-338ed358dce5"
      },
      "source": [
        "print   negative_numbers | natural_set"
      ],
      "execution_count": null,
      "outputs": [
        {
          "output_type": "stream",
          "text": [
            "{0, 1, 2, 3, 4, 5, 6, 7, -2, -5, -4, -3, -1}\n"
          ],
          "name": "stdout"
        }
      ]
    },
    {
      "cell_type": "markdown",
      "metadata": {
        "id": "C2-KrslTm3Ro"
      },
      "source": [
        "Pairing two sets together with `|` combines the sets, removing any repetitions to make every set element unique."
      ]
    },
    {
      "cell_type": "code",
      "metadata": {
        "id": "RP9MP66Pm3Rp",
        "outputId": "522636e4-98af-42f5-e005-3afef11f59ae"
      },
      "source": [
        "print animal_set & things_i_like # You can also write things_i_like & animal_set with no difference"
      ],
      "execution_count": null,
      "outputs": [
        {
          "output_type": "stream",
          "text": [
            "{'lizards', 'dogs'}\n"
          ],
          "name": "stdout"
        }
      ]
    },
    {
      "cell_type": "code",
      "metadata": {
        "id": "kWorloJ6m3Rp",
        "outputId": "0fb2cac2-ccc0-490a-9888-a5b6f1e40bc4"
      },
      "source": [
        "print negative_numbers & natural_numbers"
      ],
      "execution_count": null,
      "outputs": [
        {
          "output_type": "stream",
          "text": [
            "{0}\n"
          ],
          "name": "stdout"
        }
      ]
    },
    {
      "cell_type": "markdown",
      "metadata": {
        "id": "9bNPApp0m3Rq"
      },
      "source": [
        "Pairing two sets together with `&` will calculate the intersection of both sets, returning a set that only contains what they have in common.\n",
        "\n",
        "If you are interested in learning more about the built-in functions for sets, feel free to check out the [documentation](https://docs.python.org/2/library/sets.html)."
      ]
    },
    {
      "cell_type": "markdown",
      "metadata": {
        "id": "Ae2TonDEm3Rr"
      },
      "source": [
        "### Dictionaries\n",
        "\n",
        "Another essential data structure in Python is the dictionary. Dictionaries are defined with a combination of curly braces (`{}`) and colons (`:`). The braces define the beginning and end of a dictionary and the colons indicate key-value pairs. A dictionary is essentially a set of key-value pairs. The key of any entry must be an immutable data type. This makes both strings and tuples candidates. Keys can be both added and deleted.\n",
        "\n",
        "In the following example, we have a dictionary composed of key-value pairs where the key is a genre of fiction (`string`) and the value is a list of books (`list`) within that genre. Since a collection is still considered a single entity, we can use one to collect multiple variables or values into one key-value pair."
      ]
    },
    {
      "cell_type": "code",
      "metadata": {
        "id": "GL-p4uL_m3Rr"
      },
      "source": [
        "my_dict = {\"High Fantasy\": [\"Wheel of Time\", \"Lord of the Rings\"], \n",
        "           \"Sci-fi\": [\"Book of the New Sun\", \"Neuromancer\", \"Snow Crash\"],\n",
        "           \"Weird Fiction\": [\"At the Mountains of Madness\", \"The House on the Borderland\"]}"
      ],
      "execution_count": null,
      "outputs": []
    },
    {
      "cell_type": "code",
      "metadata": {
        "id": "9OWp2jhdm3Rr"
      },
      "source": [
        "new_dict={\"name\":\"david\",\"age\":30,\"country\":'colombia',\"programing lenguages\":['c++','python','java','c','R']}"
      ],
      "execution_count": null,
      "outputs": []
    },
    {
      "cell_type": "markdown",
      "metadata": {
        "id": "3B-eUa2Wm3Rs"
      },
      "source": [
        "After defining a dictionary, we can access any individual value by indicating its key in brackets."
      ]
    },
    {
      "cell_type": "code",
      "metadata": {
        "id": "ceqkzYJNm3Rs",
        "outputId": "1ddd2746-b809-4b18-fcbc-ec08323737fb"
      },
      "source": [
        "print my_dict[\"Sci-fi\"]"
      ],
      "execution_count": null,
      "outputs": [
        {
          "output_type": "stream",
          "text": [
            "['Book of the New Sun', 'Neuromancer', 'Snow Crash']\n"
          ],
          "name": "stdout"
        }
      ]
    },
    {
      "cell_type": "code",
      "metadata": {
        "id": "mSB-D3-em3Rt",
        "outputId": "95865bf0-fd87-46b3-d3d9-e7d03510a85f"
      },
      "source": [
        "print new_dict[\"name\"]"
      ],
      "execution_count": null,
      "outputs": [
        {
          "output_type": "stream",
          "text": [
            "david\n"
          ],
          "name": "stdout"
        }
      ]
    },
    {
      "cell_type": "markdown",
      "metadata": {
        "id": "cblVRm3vm3Rt"
      },
      "source": [
        "We can also change the value associated with a given key"
      ]
    },
    {
      "cell_type": "code",
      "metadata": {
        "id": "6fsn-UkUm3Ru",
        "outputId": "9a4149c1-a521-4565-c87d-8f411c2f6910"
      },
      "source": [
        "my_dict[\"Sci-fi\"] = \"I can't read\"\n",
        "print my_dict[\"Sci-fi\"]"
      ],
      "execution_count": null,
      "outputs": [
        {
          "output_type": "stream",
          "text": [
            "I can't read\n"
          ],
          "name": "stdout"
        }
      ]
    },
    {
      "cell_type": "code",
      "metadata": {
        "id": "qKTaY8iAm3Ru",
        "outputId": "f08004ab-ad37-4fad-83eb-2bc96a000da9"
      },
      "source": [
        "new_dict['age']=20\n",
        "print new_dict[\"age\"]"
      ],
      "execution_count": null,
      "outputs": [
        {
          "output_type": "stream",
          "text": [
            "20\n"
          ],
          "name": "stdout"
        }
      ]
    },
    {
      "cell_type": "markdown",
      "metadata": {
        "id": "EWUr2Ogrm3Rv"
      },
      "source": [
        "Adding a new key-value pair is as simple as defining it."
      ]
    },
    {
      "cell_type": "code",
      "metadata": {
        "id": "WqR6H3iIm3Rv",
        "outputId": "5f3a88a9-4c96-49c3-c45b-6b06318751ab"
      },
      "source": [
        "my_dict[\"Historical Fiction\"] = [\"Pillars of the Earth\"]\n",
        "print my_dict[\"Historical Fiction\"]"
      ],
      "execution_count": null,
      "outputs": [
        {
          "output_type": "stream",
          "text": [
            "['Pillars of the Earth']\n"
          ],
          "name": "stdout"
        }
      ]
    },
    {
      "cell_type": "code",
      "metadata": {
        "id": "M1cbMV8Um3Rw"
      },
      "source": [
        "new_dict[\"earnings\"]=3000"
      ],
      "execution_count": null,
      "outputs": []
    },
    {
      "cell_type": "code",
      "metadata": {
        "id": "RFL-Y7Zdm3Rw",
        "outputId": "237d28e2-9a0f-4a7c-8e22-6ba1b4f52754"
      },
      "source": [
        "print my_dict"
      ],
      "execution_count": null,
      "outputs": [
        {
          "output_type": "stream",
          "text": [
            "{'High Fantasy': ['Wheel of Time', 'Lord of the Rings'], 'Weird Fiction': ['At the Mountains of Madness', 'The House on the Borderland'], 'Historical Fiction': ['Pillars of the Earth'], 'Sci-fi': \"I can't read\"}\n"
          ],
          "name": "stdout"
        }
      ]
    },
    {
      "cell_type": "code",
      "metadata": {
        "id": "WySBzZRYm3Rx",
        "outputId": "c3db5045-f3cc-4845-c837-5260df0b0ec3"
      },
      "source": [
        "print new_dict"
      ],
      "execution_count": null,
      "outputs": [
        {
          "output_type": "stream",
          "text": [
            "{'name': 'david', 'programing lenguages': ['c++', 'python', 'java', 'c', 'R'], 'earnings': 3000, 'age': 20, 'country': 'colombia'}\n"
          ],
          "name": "stdout"
        }
      ]
    },
    {
      "cell_type": "markdown",
      "metadata": {
        "id": "YeFcqB4Dm3Rx"
      },
      "source": [
        "## String Shenanigans\n",
        "\n",
        "We already know that strings are generally used for text. We can used built-in operations to combine, split, and format strings easily, depending on our needs.\n",
        "\n",
        "The `+` symbol indicates concatenation in string language. It will combine two strings into a longer string."
      ]
    },
    {
      "cell_type": "code",
      "metadata": {
        "id": "GqFwnlEkm3Ry",
        "outputId": "25b404e2-735d-4fa8-dec2-9c223c7ed454"
      },
      "source": [
        "first_string = '\"Beware the Jabberwock, my son! /The jaws that bite, the claws that catch! /'\n",
        "second_string = 'Beware the Jubjub bird, and shun /The frumious Bandersnatch!\"/'\n",
        "third_string = first_string + second_string\n",
        "print third_string"
      ],
      "execution_count": null,
      "outputs": [
        {
          "output_type": "stream",
          "text": [
            "\"Beware the Jabberwock, my son! /The jaws that bite, the claws that catch! /Beware the Jubjub bird, and shun /The frumious Bandersnatch!\"/\n"
          ],
          "name": "stdout"
        }
      ]
    },
    {
      "cell_type": "code",
      "metadata": {
        "id": "Qgxi7QLim3Ry",
        "outputId": "c6cfa703-b49b-4caa-b7dc-cf5e3c5a2c8a"
      },
      "source": [
        "string_2='It has survived not only five centuries, but also the leap into electronic typesetting'\n",
        "string_1='when an unknown printer took a galley of type and scrambled it to make a type specimen book.'\n",
        "string_3=string_1+string_2\n",
        "print string_3"
      ],
      "execution_count": null,
      "outputs": [
        {
          "output_type": "stream",
          "text": [
            "when an unknown printer took a galley of type and scrambled it to make a type specimen book.It has survived not only five centuries, but also the leap into electronic typesetting\n"
          ],
          "name": "stdout"
        }
      ]
    },
    {
      "cell_type": "markdown",
      "metadata": {
        "id": "QVpcMdWom3Rz"
      },
      "source": [
        "Strings are also indexed much in the same way that lists are."
      ]
    },
    {
      "cell_type": "code",
      "metadata": {
        "id": "vB0rhbTPm3Rz",
        "outputId": "d7a4dc96-fb86-42d7-bfd9-2244104448c3"
      },
      "source": [
        "my_string = 'Supercalifragilisticexpialidocious'\n",
        "print 'The first letter is: ', my_string[0] # Uppercase S\n",
        "print 'The last letter is: ', my_string[-1] # lowercase s\n",
        "print 'The second to last letter is: ', my_string[-2] # lowercase u\n",
        "print 'The first five characters are: ', my_string[0:5] # Remember: slicing doesn't include the final element!\n",
        "print 'Reverse it!: ', my_string[::-1]"
      ],
      "execution_count": null,
      "outputs": [
        {
          "output_type": "stream",
          "text": [
            "The first letter is:  S\n",
            "The last letter is:  s\n",
            "The second to last letter is:  u\n",
            "The first five characters are:  Super\n",
            "Reverse it!:  suoicodilaipxecitsiligarfilacrepuS\n"
          ],
          "name": "stdout"
        }
      ]
    },
    {
      "cell_type": "code",
      "metadata": {
        "id": "WOceGyWTm3R0",
        "outputId": "7ecaf715-e6e0-469e-e60f-c690db74acd2"
      },
      "source": [
        "new_string='It is ta long establish'\n",
        "print 'The first letter is: ', new_string[0] # Uppercase S\n",
        "print 'The last letter is: ', new_string[-1] # lowercase s\n",
        "print 'The third to last letter is: ', new_string[-3] # lowercase u\n",
        "print 'The nine five characters are: ', new_string[0:9] \n",
        "print 'Reverse it!: ', new_string[::-1]"
      ],
      "execution_count": null,
      "outputs": [
        {
          "output_type": "stream",
          "text": [
            "The first letter is:  I\n",
            "The last letter is:  h\n",
            "The third to last letter is:  i\n",
            "The nine five characters are:  It is ta \n",
            "Reverse it!:  hsilbatse gnol at si tI\n"
          ],
          "name": "stdout"
        }
      ]
    },
    {
      "cell_type": "markdown",
      "metadata": {
        "id": "x4aRQZRzm3R1"
      },
      "source": [
        "Built-in objects and classes often have special functions associated with them that are called methods. We access these methods by using a period ('.'). We will cover objects and their associated methods more in another lecture!\n",
        "\n",
        "Using string methods we can count instances of a character or group of characters."
      ]
    },
    {
      "cell_type": "code",
      "metadata": {
        "scrolled": true,
        "id": "2U4wHgVAm3R1",
        "outputId": "3797d06c-8440-495e-e6d5-d4feb3d3e209"
      },
      "source": [
        "print 'Count of the letter i in Supercalifragilisticexpialidocious: ', my_string.count('i')\n",
        "print 'Count of \"li\" in the same word: ', my_string.count('li')"
      ],
      "execution_count": null,
      "outputs": [
        {
          "output_type": "stream",
          "text": [
            "Count of the letter i in Supercalifragilisticexpialidocious:  7\n",
            "Count of \"li\" in the same word:  3\n"
          ],
          "name": "stdout"
        }
      ]
    },
    {
      "cell_type": "code",
      "metadata": {
        "id": "PgcEaUOBm3R2",
        "outputId": "b14d062b-5b65-4bd6-ee6f-bdbe9ddad108"
      },
      "source": [
        "print 'count of the letter a', new_string.count('a')\n",
        "print 'count of \"ta\" ', new_string.count(\"ta\")"
      ],
      "execution_count": null,
      "outputs": [
        {
          "output_type": "stream",
          "text": [
            "count of the letter a 2\n",
            "count of \"ta\"  2\n"
          ],
          "name": "stdout"
        }
      ]
    },
    {
      "cell_type": "markdown",
      "metadata": {
        "id": "_i8aJ2aym3R2"
      },
      "source": [
        "We can also find the first instance of a character or group of characters in a string."
      ]
    },
    {
      "cell_type": "code",
      "metadata": {
        "id": "vYgDKXOim3R3",
        "outputId": "4c751450-c25e-4d28-c328-66807b7ee04e"
      },
      "source": [
        "print 'The first time i appears is at index: ', my_string.find('i')"
      ],
      "execution_count": null,
      "outputs": [
        {
          "output_type": "stream",
          "text": [
            "The first time i appears is at index:  8\n"
          ],
          "name": "stdout"
        }
      ]
    },
    {
      "cell_type": "code",
      "metadata": {
        "id": "86aXqQyPm3R3",
        "outputId": "f406256e-8653-4218-8686-630244b04f81"
      },
      "source": [
        "print 'the first time i appears is at index: ', new_string.find(\"a\")"
      ],
      "execution_count": null,
      "outputs": [
        {
          "output_type": "stream",
          "text": [
            "the first time i appears is at index:  7\n"
          ],
          "name": "stdout"
        }
      ]
    },
    {
      "cell_type": "markdown",
      "metadata": {
        "id": "qcj8RX-Hm3R4"
      },
      "source": [
        "As well as replace characters in a string."
      ]
    },
    {
      "cell_type": "code",
      "metadata": {
        "id": "9ZKQChTSm3R5",
        "outputId": "be516487-fc4e-4982-dfe6-42fa989f2a8c"
      },
      "source": [
        "print \"All i's are now a's: \", my_string.replace('i', 'a')"
      ],
      "execution_count": null,
      "outputs": [
        {
          "output_type": "stream",
          "text": [
            "All i's are now a's:  Supercalafragalastacexpaaladocaous\n"
          ],
          "name": "stdout"
        }
      ]
    },
    {
      "cell_type": "code",
      "metadata": {
        "id": "LYRGd4Vzm3R6",
        "outputId": "9b141fcf-abd5-4eed-af36-a91c7aae8611"
      },
      "source": [
        "print \"It's raining cats and dogs\".replace('dogs', 'more cats')"
      ],
      "execution_count": null,
      "outputs": [
        {
          "output_type": "stream",
          "text": [
            "It's raining cats and more cats\n"
          ],
          "name": "stdout"
        }
      ]
    },
    {
      "cell_type": "code",
      "metadata": {
        "id": "UEjUXs-6m3R7",
        "outputId": "ad020cbd-378d-43f4-af1f-2d2715df66bc"
      },
      "source": [
        "print \"a's are now i's: \",new_string.replace('a','i')"
      ],
      "execution_count": null,
      "outputs": [
        {
          "output_type": "stream",
          "text": [
            "a's are now i's:  It is ti long estiblish\n"
          ],
          "name": "stdout"
        }
      ]
    },
    {
      "cell_type": "code",
      "metadata": {
        "id": "eR-M_S6Qm3R7",
        "outputId": "a3214691-652b-4355-a42c-3d68dc840533"
      },
      "source": [
        "print \"the cats and the dogs are fighting\".replace('fighting', 'playing')"
      ],
      "execution_count": null,
      "outputs": [
        {
          "output_type": "stream",
          "text": [
            "the cats and the dogs are playing\n"
          ],
          "name": "stdout"
        }
      ]
    },
    {
      "cell_type": "markdown",
      "metadata": {
        "id": "F7sAKjLPm3R8"
      },
      "source": [
        "There are also some methods that are unique to strings. The function `upper()` will convert all characters in a string to uppercase, while `lower()` will convert all characters in a string to lowercase!"
      ]
    },
    {
      "cell_type": "code",
      "metadata": {
        "id": "UCo9Ot20m3R8",
        "outputId": "f04a0982-38cf-4611-baff-bb777ad42e0b"
      },
      "source": [
        "my_string = \"I can't hear you\"\n",
        "print my_string.upper()\n",
        "my_string = \"I said HELLO\"\n",
        "print my_string.lower()"
      ],
      "execution_count": null,
      "outputs": [
        {
          "output_type": "stream",
          "text": [
            "I CAN'T HEAR YOU\n",
            "i said hello\n"
          ],
          "name": "stdout"
        }
      ]
    },
    {
      "cell_type": "code",
      "metadata": {
        "id": "A3nOyCREm3R9",
        "outputId": "b117b9b9-5160-4cd4-dfa7-3d43a8a294e5"
      },
      "source": [
        "new_string=\"i am PlaYING soccer\"\n",
        "print new_string.upper()\n",
        "new_string=\"I am Camilo\"\n",
        "print new_string.lower()"
      ],
      "execution_count": null,
      "outputs": [
        {
          "output_type": "stream",
          "text": [
            "I AM PLAYING SOCCER\n",
            "i am camilo\n"
          ],
          "name": "stdout"
        }
      ]
    },
    {
      "cell_type": "markdown",
      "metadata": {
        "id": "w4Fbj9S_m3R9"
      },
      "source": [
        "### String Formatting\n",
        "\n",
        "Using the `format()` method we can add in variable values and generally format our strings."
      ]
    },
    {
      "cell_type": "code",
      "metadata": {
        "id": "UJWmP8_Rm3R-",
        "outputId": "aa7306c5-2940-4e59-bd10-5212587ebb60"
      },
      "source": [
        "my_string = \"{0} {1}\".format('Marco', 'Polo')\n",
        "print my_string"
      ],
      "execution_count": null,
      "outputs": [
        {
          "output_type": "stream",
          "text": [
            "Marco Polo\n"
          ],
          "name": "stdout"
        }
      ]
    },
    {
      "cell_type": "code",
      "metadata": {
        "id": "8DRN-Nwjm3R-",
        "outputId": "faf14143-5efc-44f2-dbea-5a318689e292"
      },
      "source": [
        "my_string = \"{1} {0}\".format('Marco', 'Polo')\n",
        "print my_string"
      ],
      "execution_count": null,
      "outputs": [
        {
          "output_type": "stream",
          "text": [
            "Polo Marco\n"
          ],
          "name": "stdout"
        }
      ]
    },
    {
      "cell_type": "code",
      "metadata": {
        "id": "Vdg_qa-7m3R_",
        "outputId": "ed0e2629-b0a7-47de-ebbf-a4716c8d9e15"
      },
      "source": [
        "new_string=\"{0} {1}\".format(\"mal\",\"juego\")\n",
        "print new_string"
      ],
      "execution_count": null,
      "outputs": [
        {
          "output_type": "stream",
          "text": [
            "mal juego\n"
          ],
          "name": "stdout"
        }
      ]
    },
    {
      "cell_type": "code",
      "metadata": {
        "id": "bUOq0Op7m3R_",
        "outputId": "98a48df3-8c16-4d48-8bc4-42db3785e21f"
      },
      "source": [
        "new_string=\"{1} {0}\".format(\"mal\",\"juego\")\n",
        "print new_string"
      ],
      "execution_count": null,
      "outputs": [
        {
          "output_type": "stream",
          "text": [
            "juego mal\n"
          ],
          "name": "stdout"
        }
      ]
    },
    {
      "cell_type": "markdown",
      "metadata": {
        "id": "_NQoiWuWm3SA"
      },
      "source": [
        "We use braces (`{}`) to indicate parts of the string that will be filled in later and we use the arguments of the `format()` function to provide the values to substitute. The numbers within the braces indicate the index of the value in the `format()` arguments."
      ]
    },
    {
      "cell_type": "markdown",
      "metadata": {
        "id": "rVpJlk3Um3SB"
      },
      "source": [
        "See the `format()` [documentation](https://docs.python.org/2/library/string.html#format-examples) for additional examples."
      ]
    },
    {
      "cell_type": "markdown",
      "metadata": {
        "id": "uKAXvoHIm3SB"
      },
      "source": [
        "If you need some quick and dirty formatting, you can instead use the `%` symbol, called the string formatting operator. "
      ]
    },
    {
      "cell_type": "code",
      "metadata": {
        "id": "jQ-yhQxym3SC",
        "outputId": "997bab13-6fbc-4170-a993-e3bcf5283fe0"
      },
      "source": [
        "print 'insert %s here' % 'value'"
      ],
      "execution_count": null,
      "outputs": [
        {
          "output_type": "stream",
          "text": [
            "insert value here\n"
          ],
          "name": "stdout"
        }
      ]
    },
    {
      "cell_type": "code",
      "metadata": {
        "id": "6Aa9PZ0Ym3SC",
        "outputId": "5f5ee76a-5bbb-4985-d29b-1c0cf3f227e1"
      },
      "source": [
        "print ' el valor de la compra es %s dolares'% 20"
      ],
      "execution_count": null,
      "outputs": [
        {
          "output_type": "stream",
          "text": [
            " el valor de la compra es 20 dolares\n"
          ],
          "name": "stdout"
        }
      ]
    },
    {
      "cell_type": "markdown",
      "metadata": {
        "id": "K_hVdH7ym3SD"
      },
      "source": [
        "The `%` symbol basically cues Python to create a placeholder. Whatever character follows the `%` (in the string) indicates what sort of type the value put into the placeholder will have. This character is called a *conversion type*. Once the string has been closed, we need another `%` that will be followed by the values to insert. In the case of one value, you can just put it there. If you are inserting more than one value, they must be enclosed in a tuple."
      ]
    },
    {
      "cell_type": "code",
      "metadata": {
        "id": "1pmlCrMIm3SD",
        "outputId": "a05c3bd3-35e0-4d47-90cc-f7cd32cb6e7b"
      },
      "source": [
        "print 'There are %s cats in my %s' % (13, 'apartment')"
      ],
      "execution_count": null,
      "outputs": [
        {
          "output_type": "stream",
          "text": [
            "There are 13 cats in my apartment\n"
          ],
          "name": "stdout"
        }
      ]
    },
    {
      "cell_type": "code",
      "metadata": {
        "id": "1iH5SZPTm3SE",
        "outputId": "41a23a5a-1c78-435f-e56d-c387576c6dbe"
      },
      "source": [
        "print ' el precio de la accion subio %s con respecto al mes de %s'% (\"5%\",'abril') "
      ],
      "execution_count": null,
      "outputs": [
        {
          "output_type": "stream",
          "text": [
            " el precio de la accion subio 5% con respecto al mes de abril\n"
          ],
          "name": "stdout"
        }
      ]
    },
    {
      "cell_type": "markdown",
      "metadata": {
        "id": "vDNij2RTm3SF"
      },
      "source": [
        "In these examples, the `%s` indicates that Python should convert the values into strings. There are multiple conversion types that you can use to get more specific with the the formatting. See the string formatting [documentation](https://docs.python.org/2/library/stdtypes.html#string-formatting) for additional examples and more complete details on use."
      ]
    },
    {
      "cell_type": "markdown",
      "metadata": {
        "id": "tOLwu3U2m3SF"
      },
      "source": [
        "## Logical Operators\n",
        "### Basic Logic\n",
        "\n",
        "Logical operators deal with `boolean` values, as we briefly covered before. If you recall, a `bool` takes on one of two values, `True` or `False` (or $1$ or $0$). The basic logical statements that we can make are defined using the built-in comparators. These are `==` (equal), `!=` (not equal), `<` (less than), `>` (greater than), `<=` (less than or equal to), and `>=` (greater than or equal to)."
      ]
    },
    {
      "cell_type": "code",
      "metadata": {
        "id": "GFU7a-Pvm3SF",
        "outputId": "91dec8cd-7170-45f4-9143-2a30ebe5cec3"
      },
      "source": [
        "print 5 == 5"
      ],
      "execution_count": null,
      "outputs": [
        {
          "output_type": "stream",
          "text": [
            "True\n"
          ],
          "name": "stdout"
        }
      ]
    },
    {
      "cell_type": "code",
      "metadata": {
        "id": "DnzyGc6dm3SG",
        "outputId": "661656b8-c4d7-4687-c98b-3cfabfc8c465"
      },
      "source": [
        "print 5 > 5"
      ],
      "execution_count": null,
      "outputs": [
        {
          "output_type": "stream",
          "text": [
            "False\n"
          ],
          "name": "stdout"
        }
      ]
    },
    {
      "cell_type": "code",
      "metadata": {
        "id": "8lLABftQm3SG",
        "outputId": "b265d0b9-bdec-455d-9574-bac7a72ea726"
      },
      "source": [
        "print 170==170\n",
        "print 160>160"
      ],
      "execution_count": null,
      "outputs": [
        {
          "output_type": "stream",
          "text": [
            "True\n",
            "False\n"
          ],
          "name": "stdout"
        }
      ]
    },
    {
      "cell_type": "markdown",
      "metadata": {
        "id": "d8uqc-kpm3SH"
      },
      "source": [
        "These comparators also work in conjunction with variables."
      ]
    },
    {
      "cell_type": "code",
      "metadata": {
        "id": "b8MDxDDzm3SH",
        "outputId": "2961924f-3b7a-44d8-8d44-46d66e1c2437"
      },
      "source": [
        "m = 2\n",
        "n = 23\n",
        "print m < n"
      ],
      "execution_count": null,
      "outputs": [
        {
          "output_type": "stream",
          "text": [
            "True\n"
          ],
          "name": "stdout"
        }
      ]
    },
    {
      "cell_type": "code",
      "metadata": {
        "id": "OKk5rEQjm3SI",
        "outputId": "65275367-c94d-4404-feaf-42405826ecfc"
      },
      "source": [
        "a=18\n",
        "b=56\n",
        "print a<b"
      ],
      "execution_count": null,
      "outputs": [
        {
          "output_type": "stream",
          "text": [
            "True\n"
          ],
          "name": "stdout"
        }
      ]
    },
    {
      "cell_type": "markdown",
      "metadata": {
        "id": "7631sIdTm3SJ"
      },
      "source": [
        "We can string these comparators together to make more complex logical statements using the logical operators `or`, `and`, and `not`. "
      ]
    },
    {
      "cell_type": "code",
      "metadata": {
        "id": "kpp8UimWm3SM",
        "outputId": "cd5299bb-aea1-4602-d8c7-226fc2f9a7d2"
      },
      "source": [
        "statement_1 = 10 > 2\n",
        "statement_2 = 4 <= 6\n",
        "print \"Statement 1 truth value: {0}\".format(statement_1)\n",
        "print \"Statement 2 truth value: {0}\".format(statement_2)\n",
        "print \"Statement 1 and Statement 2: {0}\".format(statement_1 and statement_2)"
      ],
      "execution_count": null,
      "outputs": [
        {
          "output_type": "stream",
          "text": [
            "Statement 1 truth value: True\n",
            "Statement 2 truth value: True\n",
            "Statement 1 and Statement 2: True\n"
          ],
          "name": "stdout"
        }
      ]
    },
    {
      "cell_type": "code",
      "metadata": {
        "id": "Cpw464bLm3SN",
        "outputId": "02eff50a-49fd-4dd0-deba-bac380340feb"
      },
      "source": [
        "st_1 = 100 > 28\n",
        "st_2 = 40 <= 69\n",
        "print \"St 1 truth value: {0}\".format(st_1)\n",
        "print \"St 2 truth value: {0}\".format(st_2)\n",
        "print \"St 1 and St 2: {0}\".format(st_1 and st_2)"
      ],
      "execution_count": null,
      "outputs": [
        {
          "output_type": "stream",
          "text": [
            "St 1 truth value: True\n",
            "St 2 truth value: True\n",
            "St 1 and St 2: True\n"
          ],
          "name": "stdout"
        }
      ]
    },
    {
      "cell_type": "markdown",
      "metadata": {
        "id": "yuDhgV6dm3SO"
      },
      "source": [
        "The `or` operator performs a logical `or` calculation. This is an inclusive `or`, so if either component paired together by `or` is `True`, the whole statement will be `True`. The `and` statement only outputs `True` if all components that are `and`ed together are True. Otherwise it will output `False`. The `not` statement simply inverts the truth value of whichever statement follows it. So a `True` statement will be evaluated as `False` when a `not` is placed in front of it. Similarly, a `False` statement will become `True` when a `not` is in front of it.\n",
        "\n",
        "Say that we have two logical statements, or assertions, $P$ and $Q$. The truth table for the basic logical operators is as follows:\n",
        "\n",
        "|  P  |  Q  | `not` P| P `and` Q | P `or` Q|\n",
        "|:-----:|:-----:|:---:|:---:|:---:|\n",
        "| `True` | `True` | `False` | `True` | `True` |\n",
        "| `False` | `True` | `True` | `False` | `True` |\n",
        "| `True` | `False` | `False` | `False` | `True` |\n",
        "| `False` | `False` | `True` | `False` | `False` |\n",
        "\n",
        "We can string multiple logical statements together using the logical operators."
      ]
    },
    {
      "cell_type": "code",
      "metadata": {
        "id": "QsiwR6qLm3SO",
        "outputId": "e808b65d-8320-45aa-c310-5bdd5972c3b9"
      },
      "source": [
        "print ((2 < 3) and (3 > 0)) or ((5 > 6) and not (4 < 2))"
      ],
      "execution_count": null,
      "outputs": [
        {
          "output_type": "stream",
          "text": [
            "True\n"
          ],
          "name": "stdout"
        },
        {
          "output_type": "execute_result",
          "data": {
            "text/plain": [
              "False"
            ]
          },
          "metadata": {
            "tags": []
          },
          "execution_count": 138
        }
      ]
    },
    {
      "cell_type": "code",
      "metadata": {
        "id": "zqGOXhX8m3SP",
        "outputId": "b323ec56-97bd-471a-dcb1-8eab164c0325"
      },
      "source": [
        "print ((298 < 341) and (45 > 98)) or ((56 > 689) and not (894 < 289))"
      ],
      "execution_count": null,
      "outputs": [
        {
          "output_type": "stream",
          "text": [
            "False\n"
          ],
          "name": "stdout"
        },
        {
          "output_type": "execute_result",
          "data": {
            "text/plain": [
              "False"
            ]
          },
          "metadata": {
            "tags": []
          },
          "execution_count": 139
        }
      ]
    },
    {
      "cell_type": "markdown",
      "metadata": {
        "id": "t9ZGdKs1m3SQ"
      },
      "source": [
        "Logical statements can be as simple or complex as we like, depending on what we need to express. Evaluating the above logical statement step by step we see that we are evaluating (`True and True`) `or` (`False and not False`). This becomes `True or (False and True`), subsequently becoming `True or False`, ultimately being evaluated as `True`."
      ]
    },
    {
      "cell_type": "markdown",
      "metadata": {
        "id": "nFYBwi0nm3SQ"
      },
      "source": [
        "#### Truthiness\n",
        "\n",
        "Data types in Python have a fun characteristic called truthiness. What this means is that most built-in types will evaluate as either `True` or `False` when a boolean value is needed (such as with an if-statement). As a general rule, containers like strings, tuples, dictionaries, lists, and sets, will return `True` if they contain anything at all and `False` if they contain nothing."
      ]
    },
    {
      "cell_type": "code",
      "metadata": {
        "scrolled": true,
        "id": "eLb2bUQTm3SR",
        "outputId": "3e3c28c0-43e7-4e18-ad9a-0bdb4fac831d"
      },
      "source": [
        "# Similar to how float() and int() work, bool() forces a value to be considered a boolean!\n",
        "print bool('')"
      ],
      "execution_count": null,
      "outputs": [
        {
          "output_type": "stream",
          "text": [
            "False\n"
          ],
          "name": "stdout"
        }
      ]
    },
    {
      "cell_type": "code",
      "metadata": {
        "id": "x7qkdazcm3SS",
        "outputId": "7ff541ee-3e57-40e6-ae5e-77fcb01bc119"
      },
      "source": [
        "print bool(0)"
      ],
      "execution_count": null,
      "outputs": [
        {
          "output_type": "stream",
          "text": [
            "False\n"
          ],
          "name": "stdout"
        }
      ]
    },
    {
      "cell_type": "code",
      "metadata": {
        "id": "0k96Jt-nm3SS",
        "outputId": "03671b21-9611-4c6f-d7e5-9bc91d47228e"
      },
      "source": [
        "print bool('I have character!')"
      ],
      "execution_count": null,
      "outputs": [
        {
          "output_type": "stream",
          "text": [
            "True\n"
          ],
          "name": "stdout"
        }
      ]
    },
    {
      "cell_type": "code",
      "metadata": {
        "id": "0AcfvESjm3ST",
        "outputId": "bf8b60cd-27f8-4bf7-d1c0-87ffe705ff23"
      },
      "source": [
        "print bool(\"1\")"
      ],
      "execution_count": null,
      "outputs": [
        {
          "output_type": "stream",
          "text": [
            "True\n"
          ],
          "name": "stdout"
        }
      ]
    },
    {
      "cell_type": "code",
      "metadata": {
        "id": "lxaOFd2Sm3SU",
        "outputId": "8dea1980-23c9-4268-aaf2-b65f7185786e"
      },
      "source": [
        "print bool([])"
      ],
      "execution_count": null,
      "outputs": [
        {
          "output_type": "stream",
          "text": [
            "False\n"
          ],
          "name": "stdout"
        }
      ]
    },
    {
      "cell_type": "code",
      "metadata": {
        "id": "LJJnDWYlm3SV",
        "outputId": "92eab56d-5dfb-4230-905f-1c61b748e2ff"
      },
      "source": [
        "print bool({})"
      ],
      "execution_count": null,
      "outputs": [
        {
          "output_type": "stream",
          "text": [
            "False\n"
          ],
          "name": "stdout"
        }
      ]
    },
    {
      "cell_type": "code",
      "metadata": {
        "id": "zagBnz8am3SV",
        "outputId": "40d7e7a0-f66d-4e76-c2ae-d75a13c44c89"
      },
      "source": [
        "print bool([1, 2, 3])"
      ],
      "execution_count": null,
      "outputs": [
        {
          "output_type": "stream",
          "text": [
            "True\n"
          ],
          "name": "stdout"
        }
      ]
    },
    {
      "cell_type": "code",
      "metadata": {
        "id": "7PngKY88m3SW",
        "outputId": "99b41b5e-d895-4554-c376-1af00fc9c894"
      },
      "source": [
        "print bool({2,3})"
      ],
      "execution_count": null,
      "outputs": [
        {
          "output_type": "stream",
          "text": [
            "True\n"
          ],
          "name": "stdout"
        }
      ]
    },
    {
      "cell_type": "markdown",
      "metadata": {
        "id": "gy4PJZWgm3SX"
      },
      "source": [
        "And so on, for the other collections and containers. `None` also evaluates as `False`. The number `1` is equivalent to `True` and the number `0` is equivalent to `False` as well, in a boolean context."
      ]
    },
    {
      "cell_type": "markdown",
      "metadata": {
        "id": "TtG_DET7m3SY"
      },
      "source": [
        "### If-statements\n",
        "\n",
        "We can create segments of code that only execute if a set of conditions is met. We use if-statements in conjunction with logical statements in order to create branches in our code. \n",
        "\n",
        "An `if` block gets entered when the condition is considered to be `True`. If condition is evaluated as `False`, the `if` block will simply be skipped unless there is an `else` block to accompany it. Conditions are made using either logical operators or by using the truthiness of values in Python. An if-statement is defined with a colon and a block of indented text."
      ]
    },
    {
      "cell_type": "code",
      "metadata": {
        "id": "OcYAT2Xbm3SY",
        "outputId": "b4436868-184c-4592-91f8-ab77d3643367"
      },
      "source": [
        "# This is the basic format of an if statement. This is a vacuous example. \n",
        "# The string \"Condition\" will always evaluated as True because it is a\n",
        "# non-empty string. he purpose of this code is to show the formatting of\n",
        "# an if-statement.\n",
        "if \"Condition\": \n",
        "    # This block of code will execute because the string is non-empty\n",
        "    # Everything on these indented lines\n",
        "    print True\n",
        "else:\n",
        "    # So if the condition that we examined with if is in fact False\n",
        "    # This block of code will execute INSTEAD of the first block of code\n",
        "    # Everything on these indented lines\n",
        "    print False\n",
        "# The else block here will never execute because \"Condition\" is a non-empty string."
      ],
      "execution_count": null,
      "outputs": [
        {
          "output_type": "stream",
          "text": [
            "True\n"
          ],
          "name": "stdout"
        }
      ]
    },
    {
      "cell_type": "code",
      "metadata": {
        "id": "c2hNc9Dfm3SZ"
      },
      "source": [
        "i = 4\n",
        "if i == 5:\n",
        "    print 'The variable i has a value of 5'"
      ],
      "execution_count": null,
      "outputs": []
    },
    {
      "cell_type": "code",
      "metadata": {
        "id": "BvH258x0m3SZ",
        "outputId": "c7ff4efe-3e8d-4453-e604-49d1adb4841e"
      },
      "source": [
        "a=43\n",
        "if a==43:\n",
        "    print 'the value of i is 43'"
      ],
      "execution_count": null,
      "outputs": [
        {
          "output_type": "stream",
          "text": [
            "the value of i is 43\n"
          ],
          "name": "stdout"
        }
      ]
    },
    {
      "cell_type": "markdown",
      "metadata": {
        "id": "VrdwiLvLm3Sa"
      },
      "source": [
        "Because in this example `i = 4` and the if-statement is only looking for whether `i` is equal to `5`, the print statement will never be executed. We can add in an `else` statement to create a contingency block of code in case the condition in the if-statement is not evaluated as `True`."
      ]
    },
    {
      "cell_type": "code",
      "metadata": {
        "id": "wvw1j-1Om3Sb",
        "outputId": "e24539f5-379e-46e7-a0c0-d0f7926bfe2a"
      },
      "source": [
        "i = 4\n",
        "if i == 5:\n",
        "    print \"All lines in this indented block are part of this block\"\n",
        "    print 'The variable i has a value of 5'\n",
        "else:\n",
        "    print \"All lines in this indented block are part of this block\"\n",
        "    print 'The variable i is not equal to 5'"
      ],
      "execution_count": null,
      "outputs": [
        {
          "output_type": "stream",
          "text": [
            "All lines in this indented block are part of this block\n",
            "The variable i is not equal to 5\n"
          ],
          "name": "stdout"
        }
      ]
    },
    {
      "cell_type": "code",
      "metadata": {
        "id": "w4y0i5jHm3Sc",
        "outputId": "0ebcf161-6f97-43a7-afe5-55f7495be28b"
      },
      "source": [
        "a=34\n",
        "if a==343:\n",
        "    print \"the variable a has value of 343\"\n",
        "else:\n",
        "    print ' the variable a has not value of 343'"
      ],
      "execution_count": null,
      "outputs": [
        {
          "output_type": "stream",
          "text": [
            " the variable a has not value of 343\n"
          ],
          "name": "stdout"
        }
      ]
    },
    {
      "cell_type": "markdown",
      "metadata": {
        "id": "rD8yKu9Hm3Sd"
      },
      "source": [
        "We can implement other branches off of the same if-statement by using `elif`, an abbreviation of \"else if\". We can include as many `elifs` as we like until we have exhausted all the logical branches of a condition."
      ]
    },
    {
      "cell_type": "code",
      "metadata": {
        "id": "JMedgY8pm3Sd",
        "outputId": "34c42624-ac74-4e0a-e9f0-8624c160ec2c"
      },
      "source": [
        "i = 1\n",
        "if i == 1:\n",
        "    print 'The variable i has a value of 1'\n",
        "elif i == 2:\n",
        "    print 'The variable i has a value of 2'\n",
        "elif i == 3:\n",
        "    print 'The variable i has a value of 3'\n",
        "else:\n",
        "    print \"I don't care what i is\""
      ],
      "execution_count": null,
      "outputs": [
        {
          "output_type": "stream",
          "text": [
            "The variable i has a value of 1\n"
          ],
          "name": "stdout"
        }
      ]
    },
    {
      "cell_type": "code",
      "metadata": {
        "id": "Pn9JNRVHm3Se",
        "outputId": "702e9470-e05e-49d5-85ba-29c4ca8f29f0"
      },
      "source": [
        "a=79\n",
        "if a==100:\n",
        "    print 'a has value of 100'\n",
        "elif a==50:\n",
        "    print 'a has value of 50'\n",
        "elif a==25:\n",
        "    print 'a has value of 25'\n",
        "else:\n",
        "    print 'the value is not here'"
      ],
      "execution_count": null,
      "outputs": [
        {
          "output_type": "stream",
          "text": [
            "the value is not here\n"
          ],
          "name": "stdout"
        }
      ]
    },
    {
      "cell_type": "markdown",
      "metadata": {
        "id": "vFbwySvOm3Se"
      },
      "source": [
        "You can also nest if-statements within if-statements to check for further conditions."
      ]
    },
    {
      "cell_type": "code",
      "metadata": {
        "id": "EClqWTUDm3Sf",
        "outputId": "1616e351-24e9-44b8-d3b2-2374b5898f02"
      },
      "source": [
        "i = 10\n",
        "if i % 2 == 0:\n",
        "    if i % 3 == 0:\n",
        "        print 'i is divisible by both 2 and 3! Wow!'\n",
        "    elif i % 5 == 0:\n",
        "        print 'i is divisible by both 2 and 5! Wow!'\n",
        "    else:\n",
        "        print 'i is divisible by 2, but not 3 or 5. Meh.'\n",
        "else:\n",
        "    print 'I guess that i is an odd number. Boring.'"
      ],
      "execution_count": null,
      "outputs": [
        {
          "output_type": "stream",
          "text": [
            "i is divisible by both 2 and 5! Wow!\n"
          ],
          "name": "stdout"
        }
      ]
    },
    {
      "cell_type": "code",
      "metadata": {
        "id": "7ww2erBnm3Sf",
        "outputId": "3d6ba554-653e-45fc-ece3-65e0d10ce46d"
      },
      "source": [
        "a=14\n",
        "if a%2==0:\n",
        "    if a%7==0:\n",
        "        print 'a is divisible by both 2 and 7'\n",
        "    elif a%3==0:\n",
        "        print 'a is divisible by both 2 and 3'\n",
        "    else:\n",
        "        print 'a is divisible by 2'\n",
        "else:\n",
        "    print 'the number is an odd number'"
      ],
      "execution_count": null,
      "outputs": [
        {
          "output_type": "stream",
          "text": [
            "a is divisible by both 2 and 7\n"
          ],
          "name": "stdout"
        }
      ]
    },
    {
      "cell_type": "markdown",
      "metadata": {
        "id": "dA2Gq_rHm3Sg"
      },
      "source": [
        "Remember that we can group multiple conditions together by using the logical operators!"
      ]
    },
    {
      "cell_type": "code",
      "metadata": {
        "id": "rHh4GWlmm3Sg",
        "outputId": "064c7fd3-3c7f-4d84-b487-7d72c01cac9a"
      },
      "source": [
        "i = 5\n",
        "j = 12\n",
        "if i < 10 and j > 11:\n",
        "    print '{0} is less than 10 and {1} is greater than 11! How novel and interesting!'.format(i, j)"
      ],
      "execution_count": null,
      "outputs": [
        {
          "output_type": "stream",
          "text": [
            "5 is less than 10 and 12 is greater than 11! How novel and interesting!\n"
          ],
          "name": "stdout"
        }
      ]
    },
    {
      "cell_type": "code",
      "metadata": {
        "id": "RB8uRdHdm3Sh",
        "outputId": "04f6e2ca-5462-45b0-a648-c9d4170bb66c"
      },
      "source": [
        "a=34\n",
        "b=100\n",
        "if b>50 and a<50:\n",
        "    print '{0} es menor que {1}'.format(a,b)"
      ],
      "execution_count": null,
      "outputs": [
        {
          "output_type": "stream",
          "text": [
            "34 es menor que 100\n"
          ],
          "name": "stdout"
        }
      ]
    },
    {
      "cell_type": "markdown",
      "metadata": {
        "id": "CFE6UFkhm3Sh"
      },
      "source": [
        "You can use the logical comparators to compare strings!"
      ]
    },
    {
      "cell_type": "code",
      "metadata": {
        "id": "_zgjqdGJm3Si",
        "outputId": "124471d2-190e-4691-b790-32f88c416b3b"
      },
      "source": [
        "my_string = \"Carthago delenda est\"\n",
        "if my_string == \"Carthago delenda est\":\n",
        "    print 'And so it was! For the glory of Rome!'\n",
        "else:\n",
        "    print 'War elephants are TERRIFYING. I am staying home.'"
      ],
      "execution_count": null,
      "outputs": [
        {
          "output_type": "stream",
          "text": [
            "And so it was! For the glory of Rome!\n"
          ],
          "name": "stdout"
        }
      ]
    },
    {
      "cell_type": "code",
      "metadata": {
        "id": "yOCm1a78m3Si",
        "outputId": "16bfd443-56a4-4d9a-dbd2-b9e0fc340703"
      },
      "source": [
        "new_string=\"new markets\"\n",
        "if new_string==\"new markets\":\n",
        "    print 'start the revolution'\n",
        "else:\n",
        "    print 'change the markets'"
      ],
      "execution_count": null,
      "outputs": [
        {
          "output_type": "stream",
          "text": [
            "start the revolution\n"
          ],
          "name": "stdout"
        }
      ]
    },
    {
      "cell_type": "markdown",
      "metadata": {
        "id": "OG5kCGT0m3Sj"
      },
      "source": [
        "As with other data types, `==` will check for whether the two things on either side of it have the same value. In this case, we compare whether the value of the strings are the same. Using `>` or `<` or any of the other comparators is not quite so intuitive, however, so we will stay from using comparators with strings in this lecture. Comparators will examine the [lexicographical order](https://en.wikipedia.org/wiki/Lexicographical_order) of the strings, which might be a bit more in-depth than you might like."
      ]
    },
    {
      "cell_type": "markdown",
      "metadata": {
        "id": "Vg9wsNCVm3Sj"
      },
      "source": [
        "Some built-in functions return a boolean value, so they can be used as conditions in an if-statement. User-defined functions can also be constructed so that they return a boolean value. This will be covered later with function definition!\n",
        "\n",
        "The `in` keyword is generally used to check membership of a value within another value. We can check memebership in the context of an if-statement and use it to output a truth value."
      ]
    },
    {
      "cell_type": "code",
      "metadata": {
        "id": "yBlqoazLm3Sk",
        "outputId": "4d16eb30-641a-4445-f51f-360495da44c6"
      },
      "source": [
        "if 'a' in my_string or 'e' in my_string:\n",
        "    print 'Those are my favorite vowels!'"
      ],
      "execution_count": null,
      "outputs": [
        {
          "output_type": "stream",
          "text": [
            "Those are my favorite vowels!\n"
          ],
          "name": "stdout"
        }
      ]
    },
    {
      "cell_type": "code",
      "metadata": {
        "id": "NHUHVfawm3Sl",
        "outputId": "2674bfd8-17a0-454a-b76e-efaa7cef9527"
      },
      "source": [
        "if \"e\" in new_string or 'u' in new_string:\n",
        "    print 'e or u are in the string'"
      ],
      "execution_count": null,
      "outputs": [
        {
          "output_type": "stream",
          "text": [
            "e or u are in the string\n"
          ],
          "name": "stdout"
        }
      ]
    },
    {
      "cell_type": "markdown",
      "metadata": {
        "id": "CSYUrLxpm3Sm"
      },
      "source": [
        "Here we use `in` to check whether the variable `my_string` contains any particular letters. We will later use `in` to iterate through lists!"
      ]
    },
    {
      "cell_type": "markdown",
      "metadata": {
        "id": "OATT__gNm3Sm"
      },
      "source": [
        "## Loop Structures\n",
        "\n",
        "Loop structures are one of the most important parts of programming. The `for` loop and the `while` loop provide a way to repeatedly run a block of code repeatedly. A `while` loop will iterate until a certain condition has been met. If at any point after an iteration that condition is no longer satisfied, the loop terminates. A `for` loop will iterate over a sequence of values and terminate when the sequence has ended. You can instead include conditions within the `for` loop to decide whether it should terminate early or you could simply let it run its course."
      ]
    },
    {
      "cell_type": "code",
      "metadata": {
        "id": "S-bq-QOtm3Sn",
        "outputId": "fe73a58f-ba89-41f0-c402-2c0ac2247f2d"
      },
      "source": [
        "i = 5\n",
        "while i > 0: # We can write this as 'while i:' because 0 is False!\n",
        "    i -= 1\n",
        "    print 'I am looping! {0} more to go!'.format(i)"
      ],
      "execution_count": null,
      "outputs": [
        {
          "output_type": "stream",
          "text": [
            "I am looping! 4 more to go!\n",
            "I am looping! 3 more to go!\n",
            "I am looping! 2 more to go!\n",
            "I am looping! 1 more to go!\n",
            "I am looping! 0 more to go!\n"
          ],
          "name": "stdout"
        }
      ]
    },
    {
      "cell_type": "code",
      "metadata": {
        "id": "hOMyWM7mm3Sn",
        "outputId": "2253729a-262b-4966-988e-ba1fac02385d"
      },
      "source": [
        "a=16\n",
        "while a>0:\n",
        "    a-=2\n",
        "    print 'aún nos queda {0} de gasolina'.format(a)"
      ],
      "execution_count": null,
      "outputs": [
        {
          "output_type": "stream",
          "text": [
            "aún nos queda 14 de gasolina\n",
            "aún nos queda 12 de gasolina\n",
            "aún nos queda 10 de gasolina\n",
            "aún nos queda 8 de gasolina\n",
            "aún nos queda 6 de gasolina\n",
            "aún nos queda 4 de gasolina\n",
            "aún nos queda 2 de gasolina\n",
            "aún nos queda 0 de gasolina\n"
          ],
          "name": "stdout"
        }
      ]
    },
    {
      "cell_type": "markdown",
      "metadata": {
        "id": "WK8HTTb4m3So"
      },
      "source": [
        "\n",
        "With `while` loops we need to make sure that something actually changes from iteration to iteration so that that the loop actually terminates. In this case, we use the shorthand `i -= 1` (short for `i = i - 1`) so that the value of `i` gets smaller with each iteration. Eventually `i` will be reduced to `0`, rendering the condition `False` and exiting the loop."
      ]
    },
    {
      "cell_type": "markdown",
      "metadata": {
        "id": "6tIzOSePm3So"
      },
      "source": [
        "A `for` loop iterates a set number of times, determined when you state the entry into the loop. In this case we are iterating over the list returned from `range()`. The `for` loop selects a value from the list, in order, and temporarily assigns the value of `i` to it so that operations can be performed with the value."
      ]
    },
    {
      "cell_type": "code",
      "metadata": {
        "id": "iAHNmpBPm3Sp",
        "outputId": "3f6e8050-054c-4345-cb41-57eea81fb5ba"
      },
      "source": [
        "for i in range(5):\n",
        "    print 'I am looping! I have looped {0} times!'.format(i + 1)"
      ],
      "execution_count": null,
      "outputs": [
        {
          "output_type": "stream",
          "text": [
            "I am looping! I have looped 1 times!\n",
            "I am looping! I have looped 2 times!\n",
            "I am looping! I have looped 3 times!\n",
            "I am looping! I have looped 4 times!\n",
            "I am looping! I have looped 5 times!\n"
          ],
          "name": "stdout"
        }
      ]
    },
    {
      "cell_type": "code",
      "metadata": {
        "id": "FYSyRv2Sm3Sp",
        "outputId": "5869df93-5e23-4643-8663-4372bc2b1adb"
      },
      "source": [
        "for i in range(0,100,10):\n",
        "    print 'el computador tiene {0} de carga '.format(i)"
      ],
      "execution_count": null,
      "outputs": [
        {
          "output_type": "stream",
          "text": [
            "el computador tiene 0 de carga \n",
            "el computador tiene 10 de carga \n",
            "el computador tiene 20 de carga \n",
            "el computador tiene 30 de carga \n",
            "el computador tiene 40 de carga \n",
            "el computador tiene 50 de carga \n",
            "el computador tiene 60 de carga \n",
            "el computador tiene 70 de carga \n",
            "el computador tiene 80 de carga \n",
            "el computador tiene 90 de carga \n"
          ],
          "name": "stdout"
        }
      ]
    },
    {
      "cell_type": "markdown",
      "metadata": {
        "id": "u4IFu8kAm3Sp"
      },
      "source": [
        "Note that in this `for` loop we use the `in` keyword. Use of the `in` keyword is not limited to checking for membership as in the if-statement example. You can iterate over any collection with a `for` loop by using the `in` keyword.\n",
        "\n",
        "In this next example, we will iterate over a `set` because we want to check for containment and add to a new set."
      ]
    },
    {
      "cell_type": "code",
      "metadata": {
        "id": "Yx5cCBwBm3Sq",
        "outputId": "062f74cb-865f-42e0-9a2a-2f69a9e3f216"
      },
      "source": [
        "my_list = {'cats', 'dogs', 'lizards', 'cows', 'bats', 'sponges', 'humans'} # Lists all the animals in the world\n",
        "mammal_list = {'cats', 'dogs', 'cows', 'bats', 'humans'} # Lists all the mammals in the world\n",
        "my_new_list = set()\n",
        "for animal in my_list:\n",
        "    if animal in mammal_list:\n",
        "        # This adds any animal that is both in my_list and mammal_list to my_new_list\n",
        "        my_new_list.add(animal)\n",
        "        \n",
        "print my_new_list"
      ],
      "execution_count": null,
      "outputs": [
        {
          "output_type": "stream",
          "text": [
            "{'cows', 'humans', 'cats', 'bats', 'dogs'}\n"
          ],
          "name": "stdout"
        }
      ]
    },
    {
      "cell_type": "code",
      "metadata": {
        "id": "rT860OZPm3Sr",
        "outputId": "9be3f86b-d2d5-4593-f4dc-37979e3ce3b2"
      },
      "source": [
        "companies={'microsoft','ecopetrol','avianca','facebook','amazon','zoom'}\n",
        "nasdaq={'apple','microsoft','facebook','amazon','twiter','zoom'}\n",
        "new_list=set()\n",
        "for i in companies:\n",
        "    if i in nasdaq:\n",
        "        new_list.add(i)\n",
        "print new_list"
      ],
      "execution_count": null,
      "outputs": [
        {
          "output_type": "stream",
          "text": [
            "{'amazon', 'zoom', 'microsoft', 'facebook'}\n"
          ],
          "name": "stdout"
        }
      ]
    },
    {
      "cell_type": "markdown",
      "metadata": {
        "id": "lGuDSo-fm3Sr"
      },
      "source": [
        "There are two statements that are very helpful in dealing with both `for` and `while` loops. These are `break` and `continue`. If `break` is encountered at any point while a loop is executing, the loop will immediately end."
      ]
    },
    {
      "cell_type": "code",
      "metadata": {
        "id": "91i3253um3Ss",
        "outputId": "1f6245ed-c805-465d-a4ec-846dc267d67e"
      },
      "source": [
        "i = 10\n",
        "while True:\n",
        "    if i == 14:\n",
        "        break\n",
        "    i += 1 # This is shorthand for i = i + 1. It increments i with each iteration.\n",
        "    print i"
      ],
      "execution_count": null,
      "outputs": [
        {
          "output_type": "stream",
          "text": [
            "11\n",
            "12\n",
            "13\n",
            "14\n"
          ],
          "name": "stdout"
        }
      ]
    },
    {
      "cell_type": "code",
      "metadata": {
        "id": "88-GV3R0m3St",
        "outputId": "1931fdc3-d14a-4039-aa9d-05b01484f99e"
      },
      "source": [
        "a=10\n",
        "while True:\n",
        "    if a==100:\n",
        "        break\n",
        "    a+=5\n",
        "    print a"
      ],
      "execution_count": null,
      "outputs": [
        {
          "output_type": "stream",
          "text": [
            "15\n",
            "20\n",
            "25\n",
            "30\n",
            "35\n",
            "40\n",
            "45\n",
            "50\n",
            "55\n",
            "60\n",
            "65\n",
            "70\n",
            "75\n",
            "80\n",
            "85\n",
            "90\n",
            "95\n",
            "100\n"
          ],
          "name": "stdout"
        }
      ]
    },
    {
      "cell_type": "code",
      "metadata": {
        "id": "pOVWIg4Hm3St",
        "outputId": "fa718212-8064-467d-8bf1-49ea468724f9"
      },
      "source": [
        "for i in range(5):\n",
        "    if i == 2:\n",
        "        break\n",
        "    print i"
      ],
      "execution_count": null,
      "outputs": [
        {
          "output_type": "stream",
          "text": [
            "0\n",
            "1\n"
          ],
          "name": "stdout"
        }
      ]
    },
    {
      "cell_type": "code",
      "metadata": {
        "id": "o6qsAwcem3Su",
        "outputId": "4de50fa9-fed4-4591-b8f0-51f5c0bdf512"
      },
      "source": [
        "for i in range(10):\n",
        "    if i==8:\n",
        "        break\n",
        "    print i"
      ],
      "execution_count": null,
      "outputs": [
        {
          "output_type": "stream",
          "text": [
            "0\n",
            "1\n",
            "2\n",
            "3\n",
            "4\n",
            "5\n",
            "6\n",
            "7\n"
          ],
          "name": "stdout"
        }
      ]
    },
    {
      "cell_type": "markdown",
      "metadata": {
        "id": "yFL6p-Jim3Su"
      },
      "source": [
        "The `continue` statement will tell the loop to immediately end this iteration and continue onto the next iteration of the loop."
      ]
    },
    {
      "cell_type": "code",
      "metadata": {
        "id": "MteYE53Ym3Sv",
        "outputId": "83104da4-9b92-4f52-8caf-171b95bb1bcb"
      },
      "source": [
        "i = 0\n",
        "while i < 5:\n",
        "    i += 1\n",
        "    if i == 3:\n",
        "        continue\n",
        "    print i"
      ],
      "execution_count": null,
      "outputs": [
        {
          "output_type": "stream",
          "text": [
            "1\n",
            "2\n",
            "4\n",
            "5\n"
          ],
          "name": "stdout"
        }
      ]
    },
    {
      "cell_type": "code",
      "metadata": {
        "id": "MLKNh9w_m3Sv",
        "outputId": "502168d6-0371-43df-c331-5b76125afbfc"
      },
      "source": [
        "i=1\n",
        "while i <10:\n",
        "    i+=2\n",
        "    if i==5:\n",
        "        continue\n",
        "    print i\n",
        "    i-=1\n",
        "    "
      ],
      "execution_count": null,
      "outputs": [
        {
          "output_type": "stream",
          "text": [
            "3\n",
            "4\n",
            "7\n",
            "8\n",
            "9\n",
            "10\n",
            "11\n"
          ],
          "name": "stdout"
        }
      ]
    },
    {
      "cell_type": "markdown",
      "metadata": {
        "id": "QFTECAQMm3Sw"
      },
      "source": [
        "This loop skips printing the number $3$ because of the `continue` statement that executes when we enter the if-statement. The code never sees the command to print the number $3$ because it has already moved to the next iteration. The `break` and `continue` statements are further tools to help you control the flow of your loops and, as a result, your code."
      ]
    },
    {
      "cell_type": "markdown",
      "metadata": {
        "id": "C184-OcGm3Sw"
      },
      "source": [
        "The variable that we use to iterate over a loop will retain its value when the loop exits. Similarly, any variables defined within the context of the loop will continue to exist outside of it."
      ]
    },
    {
      "cell_type": "code",
      "metadata": {
        "id": "7wp0mAG3m3Sx",
        "outputId": "82d375e8-d9de-409b-b5d4-7ff970cf8814"
      },
      "source": [
        "for i in range(5):\n",
        "    loop_string = 'I transcend the loop!'\n",
        "    print 'I am eternal! I am {0} and I exist everywhere!'.format(i)\n",
        "\n",
        "print 'I persist! My value is {0}'.format(i)\n",
        "print loop_string"
      ],
      "execution_count": null,
      "outputs": [
        {
          "output_type": "stream",
          "text": [
            "I am eternal! I am 0 and I exist everywhere!\n",
            "I am eternal! I am 1 and I exist everywhere!\n",
            "I am eternal! I am 2 and I exist everywhere!\n",
            "I am eternal! I am 3 and I exist everywhere!\n",
            "I am eternal! I am 4 and I exist everywhere!\n",
            "I persist! My value is 4\n",
            "I transcend the loop!\n"
          ],
          "name": "stdout"
        }
      ]
    },
    {
      "cell_type": "code",
      "metadata": {
        "id": "wCakJlJIm3Sx",
        "outputId": "136f15a5-5fb8-402a-f0ec-d0c61f64d816"
      },
      "source": [
        "for i in range(5,0,-1):\n",
        "    loop=\"same value\"\n",
        "    print ' I only have {0} tasks left'.format(i)\n",
        "print loop\n",
        "print 'i finished'"
      ],
      "execution_count": null,
      "outputs": [
        {
          "output_type": "stream",
          "text": [
            " I only have 5 tasks left\n",
            " I only have 4 tasks left\n",
            " I only have 3 tasks left\n",
            " I only have 2 tasks left\n",
            " I only have 1 tasks left\n",
            "same value\n",
            "i finished\n"
          ],
          "name": "stdout"
        }
      ]
    },
    {
      "cell_type": "markdown",
      "metadata": {
        "id": "RaH6cRqTm3Sy"
      },
      "source": [
        "We can also iterate over a dictionary!"
      ]
    },
    {
      "cell_type": "code",
      "metadata": {
        "id": "dU-xgB89m3Sy"
      },
      "source": [
        "my_dict = {'firstname' : 'Inigo', 'lastname' : 'Montoya', 'nemesis' : 'Rugen'}"
      ],
      "execution_count": null,
      "outputs": []
    },
    {
      "cell_type": "code",
      "metadata": {
        "id": "Yu9ys6z0m3Sy"
      },
      "source": [
        "new_dict= {\"name\":\"Camilo\",\"age\":30,\"country\":'Colombia'}"
      ],
      "execution_count": null,
      "outputs": []
    },
    {
      "cell_type": "code",
      "metadata": {
        "id": "-XU9BjK7m3Sz",
        "outputId": "f6f6bcf1-bdcc-43fa-acd1-81e1c156f97d"
      },
      "source": [
        "for key in my_dict:\n",
        "    print key"
      ],
      "execution_count": null,
      "outputs": [
        {
          "output_type": "stream",
          "text": [
            "firstname\n",
            "nemesis\n",
            "lastname\n"
          ],
          "name": "stdout"
        }
      ]
    },
    {
      "cell_type": "code",
      "metadata": {
        "id": "ZQnEXqsYm3Sz",
        "outputId": "6bb6453b-c950-4b2b-f414-fa003ceb3f94"
      },
      "source": [
        "for key in new_dict:\n",
        "    print key"
      ],
      "execution_count": null,
      "outputs": [
        {
          "output_type": "stream",
          "text": [
            "name\n",
            "age\n",
            "country\n"
          ],
          "name": "stdout"
        }
      ]
    },
    {
      "cell_type": "markdown",
      "metadata": {
        "id": "ar8vMjBym3S0"
      },
      "source": [
        "If we just iterate over a dictionary without doing anything else, we will only get the keys. We can either use the keys to get the values, like so:"
      ]
    },
    {
      "cell_type": "code",
      "metadata": {
        "id": "UgNs4U_Fm3S0",
        "outputId": "8154a687-a3f8-4f0c-f247-3af037546b81"
      },
      "source": [
        "for key in my_dict:\n",
        "    print my_dict[key]"
      ],
      "execution_count": null,
      "outputs": [
        {
          "output_type": "stream",
          "text": [
            "Inigo\n",
            "Rugen\n",
            "Montoya\n"
          ],
          "name": "stdout"
        }
      ]
    },
    {
      "cell_type": "code",
      "metadata": {
        "id": "YiApnAoMm3S0",
        "outputId": "0771662d-871b-43cf-9b62-e451d97399aa"
      },
      "source": [
        "for key in new_dict:\n",
        "    print new_dict[key]"
      ],
      "execution_count": null,
      "outputs": [
        {
          "output_type": "stream",
          "text": [
            "Camilo\n",
            "30\n",
            "Colombia\n"
          ],
          "name": "stdout"
        }
      ]
    },
    {
      "cell_type": "markdown",
      "metadata": {
        "id": "E7zSE1jmm3S1"
      },
      "source": [
        "Or we can use the `items()` function to get both key and value at the same time."
      ]
    },
    {
      "cell_type": "code",
      "metadata": {
        "id": "vl0SS-Etm3S1",
        "outputId": "66de45f4-ba92-4793-9671-d945822b11a2"
      },
      "source": [
        "for key, value in my_dict.items():\n",
        "    print key, ':', value"
      ],
      "execution_count": null,
      "outputs": [
        {
          "output_type": "stream",
          "text": [
            "firstname : Inigo\n",
            "nemesis : Rugen\n",
            "lastname : Montoya\n"
          ],
          "name": "stdout"
        }
      ]
    },
    {
      "cell_type": "code",
      "metadata": {
        "id": "TEo84uvrm3S2",
        "outputId": "a1e2ef32-0ed2-4d9c-ab49-102cf750d546"
      },
      "source": [
        "for key, value, in new_dict.items():\n",
        "    print key,': ',value"
      ],
      "execution_count": null,
      "outputs": [
        {
          "output_type": "stream",
          "text": [
            "name :  Camilo\n",
            "age :  30\n",
            "country :  Colombia\n"
          ],
          "name": "stdout"
        }
      ]
    },
    {
      "cell_type": "markdown",
      "metadata": {
        "id": "l_q44sAym3S2"
      },
      "source": [
        "The `items()` function creates a tuple of each key-value pair and the for loop unpacks that tuple into `key, value` on each separate execution of the loop!"
      ]
    },
    {
      "cell_type": "markdown",
      "metadata": {
        "id": "9QOqsdrNm3S3"
      },
      "source": [
        "## Functions\n",
        "\n",
        "A function is a reusable block of code that you can call repeatedly to make calculations, output data, or really do anything that you want. This is one of the key aspects of using a programming language. To add to the built-in functions in Python, you can define your own!"
      ]
    },
    {
      "cell_type": "code",
      "metadata": {
        "id": "iTSeGx5am3S3",
        "outputId": "89bbd415-d050-458a-b1d4-8eb8741d3e87"
      },
      "source": [
        "def hello_world():\n",
        "    \"\"\" Prints Hello, world! \"\"\"\n",
        "    print 'Hello, world!'\n",
        "\n",
        "hello_world()"
      ],
      "execution_count": null,
      "outputs": [
        {
          "output_type": "stream",
          "text": [
            "Hello, world!\n"
          ],
          "name": "stdout"
        }
      ]
    },
    {
      "cell_type": "code",
      "metadata": {
        "id": "SM5wQ3YWm3S3",
        "outputId": "55c67807-8ebc-4c9c-8519-338003b14158"
      },
      "source": [
        "def my_function():\n",
        "    print 'this is my function'\n",
        "my_function()"
      ],
      "execution_count": null,
      "outputs": [
        {
          "output_type": "stream",
          "text": [
            "this is my function\n"
          ],
          "name": "stdout"
        }
      ]
    },
    {
      "cell_type": "code",
      "metadata": {
        "id": "LvW3hywhm3S4",
        "outputId": "e9100bdf-5aab-42d7-b020-a45d6fefa5ca"
      },
      "source": [
        "for i in range(5):\n",
        "    hello_world()\n",
        "    "
      ],
      "execution_count": null,
      "outputs": [
        {
          "output_type": "stream",
          "text": [
            "Hello, world!\n",
            "Hello, world!\n",
            "Hello, world!\n",
            "Hello, world!\n",
            "Hello, world!\n"
          ],
          "name": "stdout"
        }
      ]
    },
    {
      "cell_type": "code",
      "metadata": {
        "id": "6ouSLQuMm3S4",
        "outputId": "a7b407bd-6559-44e2-e171-43125eb66ac6"
      },
      "source": [
        "for i in range(2):\n",
        "    my_function()"
      ],
      "execution_count": null,
      "outputs": [
        {
          "output_type": "stream",
          "text": [
            "this is my function\n",
            "this is my function\n"
          ],
          "name": "stdout"
        }
      ]
    },
    {
      "cell_type": "markdown",
      "metadata": {
        "id": "i7z_xBcam3S5"
      },
      "source": [
        "Functions are defined with `def`, a function name, a list of parameters, and a colon. Everything indented below the colon will be included in the definition of the function.\n",
        "\n",
        "We can have our functions do anything that you can do with a normal block of code. For example, our `hello_world()` function prints a string every time it is called. If we want to keep a value that a function calculates, we can define the function so that it will `return` the value we want. This is a very important feature of functions, as any variable defined purely within a function will not exist outside of it."
      ]
    },
    {
      "cell_type": "code",
      "metadata": {
        "id": "03AH83yem3S5"
      },
      "source": [
        "def see_the_scope():\n",
        "    in_function_string = \"I'm stuck in here!\"\n",
        "\n",
        "see_the_scope()\n",
        "#print in_function_string"
      ],
      "execution_count": null,
      "outputs": []
    },
    {
      "cell_type": "markdown",
      "metadata": {
        "id": "ZfTzFHpum3S6"
      },
      "source": [
        " The **scope** of a variable is the part of a block of code where that variable is tied to a particular value. Functions in Python have an enclosed scope, making it so that variables defined within them can only be accessed directly within them. If we pass those values to a return statement we can get them out of the function. This makes it so that the function call returns values so that you can store them in variables that have a greater scope.\n",
        " \n",
        "In this case specifically, including a return statement allows us to keep the string value that we define in the function."
      ]
    },
    {
      "cell_type": "code",
      "metadata": {
        "id": "8KAa1x_6m3S6",
        "outputId": "e6df54ea-4231-42dc-8b3f-ada1029e778f"
      },
      "source": [
        "def free_the_scope():\n",
        "    in_function_string = \"Anything you can do I can do better!\"\n",
        "    return in_function_string\n",
        "my_string = free_the_scope()\n",
        "print my_string"
      ],
      "execution_count": null,
      "outputs": [
        {
          "output_type": "stream",
          "text": [
            "Anything you can do I can do better!\n"
          ],
          "name": "stdout"
        }
      ]
    },
    {
      "cell_type": "code",
      "metadata": {
        "id": "zVD8u62Qm3S7",
        "outputId": "a8ab3d14-4763-4778-e7f7-60d8d95a9948"
      },
      "source": [
        "def func_return():\n",
        "    my_array=[1,2,3,4,5]\n",
        "    return my_array\n",
        "my_path=func_return()\n",
        "print(my_path)"
      ],
      "execution_count": null,
      "outputs": [
        {
          "output_type": "stream",
          "text": [
            "[1, 2, 3, 4, 5]\n"
          ],
          "name": "stdout"
        }
      ]
    },
    {
      "cell_type": "markdown",
      "metadata": {
        "id": "KqyvFq8km3S8"
      },
      "source": [
        "Just as we can get values out of a function, we can also put values into a function. We do this by defining our function with parameters."
      ]
    },
    {
      "cell_type": "code",
      "metadata": {
        "id": "zmAfOXzam3S8",
        "outputId": "9ba56a59-cbb0-46b6-b2ed-b5d0eb7af707"
      },
      "source": [
        "def multiply_by_five(x):\n",
        "    \"\"\" Multiplies an input number by 5 \"\"\"\n",
        "    return x * 5\n",
        "\n",
        "n = 4\n",
        "print n\n",
        "print multiply_by_five(n)"
      ],
      "execution_count": null,
      "outputs": [
        {
          "output_type": "stream",
          "text": [
            "4\n",
            "20\n"
          ],
          "name": "stdout"
        }
      ]
    },
    {
      "cell_type": "code",
      "metadata": {
        "id": "458qh89zm3S9",
        "outputId": "6902d491-a047-4079-a74f-401ea8d8a141"
      },
      "source": [
        "def divide_by_five(x):\n",
        "    return x/5\n",
        "print(divide_by_five(4505))"
      ],
      "execution_count": null,
      "outputs": [
        {
          "output_type": "stream",
          "text": [
            "901.0\n"
          ],
          "name": "stdout"
        }
      ]
    },
    {
      "cell_type": "markdown",
      "metadata": {
        "id": "AOM1LiK2m3S-"
      },
      "source": [
        "In this example we only had one parameter for our function, `x`. We can easily add more parameters, separating everything with a comma."
      ]
    },
    {
      "cell_type": "code",
      "metadata": {
        "id": "MhTlgLQQm3S-"
      },
      "source": [
        "def calculate_area(length, width):\n",
        "    \"\"\" Calculates the area of a rectangle \"\"\"\n",
        "    return length * width"
      ],
      "execution_count": null,
      "outputs": []
    },
    {
      "cell_type": "code",
      "metadata": {
        "id": "tg20M384m3S-"
      },
      "source": [
        "def tringle(base,height):\n",
        "    return (base*height)/2\n"
      ],
      "execution_count": null,
      "outputs": []
    },
    {
      "cell_type": "code",
      "metadata": {
        "id": "J9gkqkcem3S_",
        "outputId": "92550b92-c63a-4b9f-9cbd-51fcec6c7e09"
      },
      "source": [
        "l = 5\n",
        "w = 10\n",
        "print 'Area: ', calculate_area(l, w)\n",
        "print 'Length: ', l\n",
        "print 'Width: ', w"
      ],
      "execution_count": null,
      "outputs": [
        {
          "output_type": "stream",
          "text": [
            "Area:  50\n",
            "Length:  5\n",
            "Width:  10\n"
          ],
          "name": "stdout"
        }
      ]
    },
    {
      "cell_type": "code",
      "metadata": {
        "id": "2tcPg0lkm3S_",
        "outputId": "469fa896-7393-4197-ce06-2e241dc8ea82"
      },
      "source": [
        "b=10\n",
        "h=8\n",
        "print 'area: ',tringle(b,h)"
      ],
      "execution_count": null,
      "outputs": [
        {
          "output_type": "stream",
          "text": [
            "area:  40.0\n"
          ],
          "name": "stdout"
        }
      ]
    },
    {
      "cell_type": "code",
      "metadata": {
        "id": "gLhOkbT-m3TA"
      },
      "source": [
        "def calculate_volume(length, width, depth):\n",
        "    \"\"\" Calculates the volume of a rectangular prism \"\"\"\n",
        "    return length * width * depth"
      ],
      "execution_count": null,
      "outputs": []
    },
    {
      "cell_type": "code",
      "metadata": {
        "id": "_LSaKm3cm3TA"
      },
      "source": [
        "def trinagle_volume(lenght,base,height):\n",
        "    return lenght*base*height"
      ],
      "execution_count": null,
      "outputs": []
    },
    {
      "cell_type": "markdown",
      "metadata": {
        "id": "MB-ZMZZFm3TA"
      },
      "source": [
        "If we want to, we can define a function so that it takes an arbitrary number of parameters. We tell Python that we want this by using an asterisk (`*`)."
      ]
    },
    {
      "cell_type": "code",
      "metadata": {
        "id": "IXuNe0fZm3TB"
      },
      "source": [
        "def sum_values(*args):\n",
        "    sum_val = 0\n",
        "    for i in args:\n",
        "        sum_val += i\n",
        "    return sum_val"
      ],
      "execution_count": null,
      "outputs": []
    },
    {
      "cell_type": "code",
      "metadata": {
        "id": "gQAs2SCdm3TB"
      },
      "source": [
        "def multiply_values(*values):\n",
        "    total=1\n",
        "    for i in values:\n",
        "        total*=i\n",
        "    return total"
      ],
      "execution_count": null,
      "outputs": []
    },
    {
      "cell_type": "code",
      "metadata": {
        "id": "jK3liS0qm3TC",
        "outputId": "6bb18936-32df-4c05-b764-8aebd98d22d4"
      },
      "source": [
        "print sum_values(1, 2, 3)\n",
        "print sum_values(10, 20, 30, 40, 50)\n",
        "print sum_values(4, 2, 5, 1, 10, 249, 25, 24, 13, 6, 4)"
      ],
      "execution_count": null,
      "outputs": [
        {
          "output_type": "stream",
          "text": [
            "6\n",
            "150\n",
            "343\n"
          ],
          "name": "stdout"
        }
      ]
    },
    {
      "cell_type": "code",
      "metadata": {
        "id": "NUPH5Rklm3TC",
        "outputId": "abca4f13-0aa2-4332-d61e-5a885249dfe1"
      },
      "source": [
        "print multiply_values(1,2,3,4,5)\n",
        "print multiply_values(10,1,11,12,14)"
      ],
      "execution_count": null,
      "outputs": [
        {
          "output_type": "stream",
          "text": [
            "120\n",
            "18480\n"
          ],
          "name": "stdout"
        }
      ]
    },
    {
      "cell_type": "markdown",
      "metadata": {
        "id": "P56BxWKOm3TD"
      },
      "source": [
        "The time to use `*args` as a parameter for your function is when you do not know how many values may be passed to it, as in the case of our sum function. The asterisk in this case is the syntax that tells Python that you are going to pass an arbitrary number of parameters into your function. These parameters are stored in the form of a tuple."
      ]
    },
    {
      "cell_type": "code",
      "metadata": {
        "id": "_NTuJ0BAm3TD",
        "outputId": "b46db1f0-55e5-456e-d363-36bab4eb8026"
      },
      "source": [
        "def test_args(*args):\n",
        "    print type(args)\n",
        "\n",
        "test_args(1, 2, 3, 4, 5, 6)"
      ],
      "execution_count": null,
      "outputs": [
        {
          "output_type": "stream",
          "text": [
            "<class 'tuple'>\n"
          ],
          "name": "stdout"
        }
      ]
    },
    {
      "cell_type": "markdown",
      "metadata": {
        "id": "3qym0Fgam3TD"
      },
      "source": [
        "We can put as many elements into the `args` tuple as we want to when we call the function. However, because `args` is a tuple, we cannot modify it after it has been created.\n",
        "\n",
        "The `args` name of the variable is purely by convention. You could just as easily name your parameter `*vars` or `*things`. You can treat the `args` tuple like you would any other tuple, easily accessing `arg`'s values and iterating over it, as in the above `sum_values(*args)` function."
      ]
    },
    {
      "cell_type": "markdown",
      "metadata": {
        "id": "Wu-VQP4Hm3TE"
      },
      "source": [
        "Our functions can return any data type. This makes it easy for us to create functions that check for conditions that we might want to monitor.\n",
        "\n",
        "Here we define a function that returns a boolean value. We can easily use this in conjunction with if-statements and  other situations that require a boolean."
      ]
    },
    {
      "cell_type": "code",
      "metadata": {
        "id": "KC5P9T7Um3TE"
      },
      "source": [
        "def has_a_vowel(word):\n",
        "    \"\"\" \n",
        "    Checks to see whether a word contains a vowel \n",
        "    If it doesn't contain a conventional vowel, it\n",
        "    will check for the presence of 'y' or 'w'. Does\n",
        "    not check to see whether those are in the word\n",
        "    in a vowel context.\n",
        "    \"\"\"\n",
        "    vowel_list = ['a', 'e', 'i', 'o', 'u']\n",
        "    \n",
        "    for vowel in vowel_list:\n",
        "        if vowel in word:\n",
        "            return True\n",
        "    # If there is a vowel in the word, the function returns, preventing anything after this loop from running\n",
        "    return False"
      ],
      "execution_count": null,
      "outputs": []
    },
    {
      "cell_type": "code",
      "metadata": {
        "id": "7slVVidFm3TF"
      },
      "source": [
        "def verify(name):\n",
        "    names_verify=[\"camilo\",\"julian\",\"alejandra\",\"laura\",\"camila\",\"esteban\"]\n",
        "    for i in names_verify:\n",
        "        if i==name:\n",
        "            return True\n",
        "    return False\n"
      ],
      "execution_count": null,
      "outputs": []
    },
    {
      "cell_type": "code",
      "metadata": {
        "id": "BbsXXhU9m3TF",
        "outputId": "2e572049-8b13-4991-8950-34c19119cde3"
      },
      "source": [
        "my_word = 'catnapping'\n",
        "if has_a_vowel(my_word):\n",
        "    print 'How surprising, an english word contains a vowel.'\n",
        "else:\n",
        "    print 'This is actually surprising.'"
      ],
      "execution_count": null,
      "outputs": [
        {
          "output_type": "stream",
          "text": [
            "How surprising, an english word contains a vowel.\n"
          ],
          "name": "stdout"
        }
      ]
    },
    {
      "cell_type": "code",
      "metadata": {
        "id": "vTpJyzKMm3TF",
        "outputId": "a9159677-78f6-4352-f2be-2e27f60be9f4"
      },
      "source": [
        "name=\"David\"\n",
        "if verify(name):\n",
        "    print(\"verify\")\n",
        "else:\n",
        "    print 'wrong'"
      ],
      "execution_count": null,
      "outputs": [
        {
          "output_type": "stream",
          "text": [
            "wrong\n"
          ],
          "name": "stdout"
        }
      ]
    },
    {
      "cell_type": "code",
      "metadata": {
        "id": "2P7lFgodm3TG"
      },
      "source": [
        "def point_maker(x, y):\n",
        "    \"\"\" Groups x and y values into a point, technically a tuple \"\"\"\n",
        "    return x, y"
      ],
      "execution_count": null,
      "outputs": []
    },
    {
      "cell_type": "markdown",
      "metadata": {
        "id": "l_gnnpUtm3TJ"
      },
      "source": [
        "This above function returns an ordered pair of the input parameters, stored as a tuple."
      ]
    },
    {
      "cell_type": "code",
      "metadata": {
        "scrolled": true,
        "id": "0aftQ-y0m3TJ",
        "outputId": "a7f2f6c7-08ae-4c4c-acf4-c6a135cec731"
      },
      "source": [
        "a = point_maker(0, 10)\n",
        "b = point_maker(5, 3)\n",
        "def calculate_slope(point_a, point_b):\n",
        "    \"\"\" Calculates the linear slope between two points \"\"\"\n",
        "    return (point_b[1] - point_a[1])/(point_b[0] - point_a[0])\n",
        "print \"The slope between a and b is {0}\".format(calculate_slope(a, b))"
      ],
      "execution_count": null,
      "outputs": [
        {
          "output_type": "stream",
          "text": [
            "The slope between a and b is -1.4\n"
          ],
          "name": "stdout"
        }
      ]
    },
    {
      "cell_type": "code",
      "metadata": {
        "id": "KSVyidRAm3TK",
        "outputId": "ddb72a3f-1253-40b5-84e1-486896281355"
      },
      "source": [
        "s = point_maker(0, 100)\n",
        "t = point_maker(50, 36)\n",
        "print \"The slope between a and b is {0}\".format(calculate_slope(s, t))"
      ],
      "execution_count": null,
      "outputs": [
        {
          "output_type": "stream",
          "text": [
            "The slope between a and b is -1.28\n"
          ],
          "name": "stdout"
        }
      ]
    },
    {
      "cell_type": "markdown",
      "metadata": {
        "id": "tQyUHbWAm3TL"
      },
      "source": [
        "And that one calculates the slope between two points!"
      ]
    },
    {
      "cell_type": "code",
      "metadata": {
        "id": "NWI6KA2km3TM",
        "outputId": "3bdab340-4a27-45ff-e0b4-62debaed6dab"
      },
      "source": [
        "print \"The slope-intercept form of the line between a and b, using point a, is: y - {0} = {2}(x - {1})\".format(a[1], a[0], calculate_slope(a, b))"
      ],
      "execution_count": null,
      "outputs": [
        {
          "output_type": "stream",
          "text": [
            "The slope-intercept form of the line between a and b, using point a, is: y - 10 = -1.4(x - 0)\n"
          ],
          "name": "stdout"
        }
      ]
    },
    {
      "cell_type": "code",
      "metadata": {
        "id": "QUN93l_tm3TN",
        "outputId": "403a48e8-559d-456b-d6f1-96b042c1fbde"
      },
      "source": [
        "print \"The slope-intercept form of the line between a and b, using point a, is: y - {0} = {2}(x - {1})\".format(s[1], t[0], calculate_slope(s, t))"
      ],
      "execution_count": null,
      "outputs": [
        {
          "output_type": "stream",
          "text": [
            "The slope-intercept form of the line between a and b, using point a, is: y - 100 = -1.28(x - 50)\n"
          ],
          "name": "stdout"
        }
      ]
    },
    {
      "cell_type": "markdown",
      "metadata": {
        "id": "oWS2K4_sm3TN"
      },
      "source": [
        "With the proper syntax, you can define functions to do whatever calculations you want. This makes them an indispensible part of programming in any language."
      ]
    },
    {
      "cell_type": "markdown",
      "metadata": {
        "id": "3tBWoj_hm3TO"
      },
      "source": [
        "## Next Steps\n",
        "\n",
        "This was a lot of material and there is still even more to cover! Make sure you play around with the cells in each notebook to accustom yourself to the syntax featured here and to figure out any limitations. If you want to delve even deeper into the material, the [documentation for Python](https://docs.python.org/2/) is all available online. We are in the process of developing a second part to this Python tutorial, designed to provide you with even more programming knowledge, so keep an eye on the [Quantopian Lectures Page](quantopian.com/lectures) and the [forums](quantopian.com/posts) for any new lectures."
      ]
    },
    {
      "cell_type": "markdown",
      "metadata": {
        "id": "ICI6zzskm3TO"
      },
      "source": [
        "*This presentation is for informational purposes only and does not constitute an offer to sell, a solicitation to buy, or a recommendation for any security; nor does it constitute an offer to provide investment advisory or other services by Quantopian, Inc. (\"Quantopian\"). Nothing contained herein constitutes investment advice or offers any opinion with respect to the suitability of any security, and any views expressed herein should not be taken as advice to buy, sell, or hold any security or as an endorsement of any security or company.  In preparing the information contained herein, Quantopian, Inc. has not taken into account the investment needs, objectives, and financial circumstances of any particular investor. Any views expressed and data illustrated herein were prepared based upon information, believed to be reliable, available to Quantopian, Inc. at the time of publication. Quantopian makes no guarantees as to their accuracy or completeness. All information is subject to change and may quickly become unreliable for various reasons, including changes in market conditions or economic circumstances.*"
      ]
    }
  ]
}